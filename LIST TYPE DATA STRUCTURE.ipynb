{
 "cells": [
  {
   "cell_type": "markdown",
   "id": "f7e04a2e-242f-437d-9ddb-028e1a6d33db",
   "metadata": {},
   "source": [
    "# DATA STRUCTURES\n"
   ]
  },
  {
   "cell_type": "markdown",
   "id": "8c80d8c5-f200-46a5-a16b-6fdbbce7aeca",
   "metadata": {},
   "source": [
    "# LIST"
   ]
  },
  {
   "cell_type": "markdown",
   "id": "726d5f13-12f7-4290-a441-455e04eb95d8",
   "metadata": {},
   "source": [
    "1) List is an ordered sequence of items. \n",
    " \n",
    "2) We can have different data types under a list. E.g we can have integer, float and string items in \n",
    "a same list. "
   ]
  },
  {
   "cell_type": "code",
   "execution_count": 4,
   "id": "520b304e-4ff3-41c6-ab2c-a76157e593a6",
   "metadata": {},
   "outputs": [
    {
     "data": {
      "text/plain": [
       "[10, 20, 30, 40, 50, 60, 86, 99, 900]"
      ]
     },
     "execution_count": 4,
     "metadata": {},
     "output_type": "execute_result"
    }
   ],
   "source": [
    "l=[10,20,30,40,50,60,86,99,900]\n",
    "l\n"
   ]
  },
  {
   "cell_type": "code",
   "execution_count": 6,
   "id": "b63cfa90-cb25-4146-ab9a-3f679e09795d",
   "metadata": {},
   "outputs": [
    {
     "data": {
      "text/plain": [
       "list"
      ]
     },
     "execution_count": 6,
     "metadata": {},
     "output_type": "execute_result"
    }
   ],
   "source": [
    "type(l)"
   ]
  },
  {
   "cell_type": "code",
   "execution_count": 8,
   "id": "44d4da5f-c3a4-4866-b77b-9511c83432a2",
   "metadata": {},
   "outputs": [
    {
     "ename": "TypeError",
     "evalue": "'list' object is not callable",
     "output_type": "error",
     "traceback": [
      "\u001b[1;31m---------------------------------------------------------------------------\u001b[0m",
      "\u001b[1;31mTypeError\u001b[0m                                 Traceback (most recent call last)",
      "Cell \u001b[1;32mIn[8], line 1\u001b[0m\n\u001b[1;32m----> 1\u001b[0m l(\u001b[38;5;241m0\u001b[39m)\n",
      "\u001b[1;31mTypeError\u001b[0m: 'list' object is not callable"
     ]
    }
   ],
   "source": [
    "l(0)"
   ]
  },
  {
   "cell_type": "code",
   "execution_count": 12,
   "id": "a8451a69-7cea-4291-9958-f50ca659d5f1",
   "metadata": {},
   "outputs": [
    {
     "data": {
      "text/plain": [
       "[10, 20, 30, 40, 50, 60, 86]"
      ]
     },
     "execution_count": 12,
     "metadata": {},
     "output_type": "execute_result"
    }
   ],
   "source": [
    "l[0:7] # list indexing"
   ]
  },
  {
   "cell_type": "code",
   "execution_count": 14,
   "id": "615b6da0-a21c-49f5-bf64-1ebc3217afc3",
   "metadata": {},
   "outputs": [
    {
     "data": {
      "text/plain": [
       "[10, 20, 30, 40, 50, 60, 86, 99]"
      ]
     },
     "execution_count": 14,
     "metadata": {},
     "output_type": "execute_result"
    }
   ],
   "source": [
    "l[-9:-1]"
   ]
  },
  {
   "cell_type": "code",
   "execution_count": 18,
   "id": "5f9d9c76-d511-4188-98a8-afbde2abf628",
   "metadata": {},
   "outputs": [
    {
     "data": {
      "text/plain": [
       "[10, 20, 30, 40, 50, 60, 86, 99]"
      ]
     },
     "execution_count": 18,
     "metadata": {},
     "output_type": "execute_result"
    }
   ],
   "source": [
    "l[:-1]"
   ]
  },
  {
   "cell_type": "code",
   "execution_count": 20,
   "id": "31de1615-d6e7-40fa-9fad-df24712670df",
   "metadata": {},
   "outputs": [
    {
     "data": {
      "text/plain": [
       "[900, 99, 86, 60, 50, 40, 30, 20, 10]"
      ]
     },
     "execution_count": 20,
     "metadata": {},
     "output_type": "execute_result"
    }
   ],
   "source": [
    "l[::-1]"
   ]
  },
  {
   "cell_type": "code",
   "execution_count": 105,
   "id": "1a108574-df9c-4217-ae94-3b32a39e8bd9",
   "metadata": {},
   "outputs": [],
   "source": [
    "l.append(20) # Append object add at the end of the list"
   ]
  },
  {
   "cell_type": "code",
   "execution_count": 103,
   "id": "de13127e-b60b-469c-a540-d60b9d03a28f",
   "metadata": {},
   "outputs": [
    {
     "data": {
      "text/plain": [
       "[30, 10, 20, 30, 40, 50, 60, 86, 99, 900, 100, 20, 9, 9, 9, 45, 45]"
      ]
     },
     "execution_count": 103,
     "metadata": {},
     "output_type": "execute_result"
    }
   ],
   "source": [
    "l.append(45)\n",
    "l"
   ]
  },
  {
   "cell_type": "code",
   "execution_count": 109,
   "id": "a5893a6b-54c5-46df-a963-2d9384b0d1bc",
   "metadata": {},
   "outputs": [
    {
     "data": {
      "text/plain": [
       "[30, 10, 20, 30, 40, 50, 60, 86, 99, 900, 100, 20, 9, 9, 9, 45, 45, 20]"
      ]
     },
     "execution_count": 109,
     "metadata": {},
     "output_type": "execute_result"
    }
   ],
   "source": [
    "l"
   ]
  },
  {
   "cell_type": "code",
   "execution_count": 113,
   "id": "8cf9a512-412a-468d-b186-d03e5e3bd98b",
   "metadata": {},
   "outputs": [
    {
     "data": {
      "text/plain": [
       "[30, 10, 20, 30, 40, 50, 60, 86, 99, 900, 100, 20, 9, 9, 9, 45, 45, 20, 12, 12]"
      ]
     },
     "execution_count": 113,
     "metadata": {},
     "output_type": "execute_result"
    }
   ],
   "source": [
    "l.append(12)\n",
    "l"
   ]
  },
  {
   "cell_type": "code",
   "execution_count": 115,
   "id": "0a267652-9414-4cdd-b193-49fcc361541e",
   "metadata": {},
   "outputs": [
    {
     "data": {
      "text/plain": [
       "[30, 10, 20, 30, 40, 50, 60, 86, 99, 900, 100, 20, 9, 9, 9, 45, 45, 20, 12, 12]"
      ]
     },
     "execution_count": 115,
     "metadata": {},
     "output_type": "execute_result"
    }
   ],
   "source": [
    "l"
   ]
  },
  {
   "cell_type": "code",
   "execution_count": 27,
   "id": "300087dd-2098-46d9-b867-a73ff12213f5",
   "metadata": {},
   "outputs": [
    {
     "data": {
      "text/plain": [
       "[25, 38, 99, 57, 90, 80.5, 26.9, 'praveen', (28+2j)]"
      ]
     },
     "execution_count": 27,
     "metadata": {},
     "output_type": "execute_result"
    }
   ],
   "source": [
    "l1=[25,38,99,57,90,80.5,26.9,'praveen',28+2j]\n",
    "l1"
   ]
  },
  {
   "cell_type": "code",
   "execution_count": 29,
   "id": "1f4c9d40-50cb-49d5-805e-4629464bea53",
   "metadata": {},
   "outputs": [
    {
     "data": {
      "text/plain": [
       "[10, 20, 30, 40, 50, 60, 86, 99, 900, 20]"
      ]
     },
     "execution_count": 29,
     "metadata": {},
     "output_type": "execute_result"
    }
   ],
   "source": [
    "l"
   ]
  },
  {
   "cell_type": "code",
   "execution_count": 33,
   "id": "f457903e-97c6-4ca9-9462-7def5fba0321",
   "metadata": {},
   "outputs": [
    {
     "data": {
      "text/plain": [
       "2"
      ]
     },
     "execution_count": 33,
     "metadata": {},
     "output_type": "execute_result"
    }
   ],
   "source": [
    "l.count(20) # Return number of occurrences of value"
   ]
  },
  {
   "cell_type": "code",
   "execution_count": 170,
   "id": "3973c953-7aa4-45c4-aa94-2695028ad14c",
   "metadata": {},
   "outputs": [
    {
     "data": {
      "text/plain": [
       "[30, 10, 20, 30, 40, 50, 60, 86, 99, 900, 100, 20, 9, 9, 9, 45, 45, 20, 12]"
      ]
     },
     "execution_count": 170,
     "metadata": {},
     "output_type": "execute_result"
    }
   ],
   "source": [
    "l"
   ]
  },
  {
   "cell_type": "code",
   "execution_count": 178,
   "id": "fa9c7757-3af2-49d2-b5e4-d6520fa1166e",
   "metadata": {},
   "outputs": [
    {
     "name": "stdout",
     "output_type": "stream",
     "text": [
      "Counter({20: 3, 9: 3, 30: 2, 45: 2, 10: 1, 40: 1, 50: 1, 60: 1, 86: 1, 99: 1, 900: 1, 100: 1, 12: 1})\n"
     ]
    }
   ],
   "source": [
    "from collections import Counter\n",
    "count = Counter(l)\n",
    "print(count)"
   ]
  },
  {
   "cell_type": "markdown",
   "id": "2fccbf7f-c090-4415-ab0e-1845c258e234",
   "metadata": {},
   "source": [
    "# INDEX"
   ]
  },
  {
   "cell_type": "code",
   "execution_count": 35,
   "id": "5823f502-b84f-40fb-bbc8-26a2ecfad75c",
   "metadata": {},
   "outputs": [
    {
     "ename": "TypeError",
     "evalue": "'builtin_function_or_method' object does not support item assignment",
     "output_type": "error",
     "traceback": [
      "\u001b[1;31m---------------------------------------------------------------------------\u001b[0m",
      "\u001b[1;31mTypeError\u001b[0m                                 Traceback (most recent call last)",
      "Cell \u001b[1;32mIn[35], line 1\u001b[0m\n\u001b[1;32m----> 1\u001b[0m l\u001b[38;5;241m.\u001b[39mindex[\u001b[38;5;241m0\u001b[39m]\u001b[38;5;241m=\u001b[39m\u001b[38;5;241m26\u001b[39m\n",
      "\u001b[1;31mTypeError\u001b[0m: 'builtin_function_or_method' object does not support item assignment"
     ]
    }
   ],
   "source": [
    "l.index[0]=26"
   ]
  },
  {
   "cell_type": "code",
   "execution_count": 37,
   "id": "535b4056-b96c-4c57-b884-cb935942224d",
   "metadata": {},
   "outputs": [
    {
     "data": {
      "text/plain": [
       "1"
      ]
     },
     "execution_count": 37,
     "metadata": {},
     "output_type": "execute_result"
    }
   ],
   "source": [
    "l.index(20,1)"
   ]
  },
  {
   "cell_type": "code",
   "execution_count": 39,
   "id": "1ea5a909-8efe-43ff-8a2c-639b57ccc62f",
   "metadata": {},
   "outputs": [
    {
     "data": {
      "text/plain": [
       "7"
      ]
     },
     "execution_count": 39,
     "metadata": {},
     "output_type": "execute_result"
    }
   ],
   "source": [
    "l.index(99)"
   ]
  },
  {
   "cell_type": "code",
   "execution_count": 43,
   "id": "6220bce5-97b6-4878-b2cf-9f790e62622a",
   "metadata": {},
   "outputs": [
    {
     "data": {
      "text/plain": [
       "9"
      ]
     },
     "execution_count": 43,
     "metadata": {},
     "output_type": "execute_result"
    }
   ],
   "source": [
    "l.index(20,9)"
   ]
  },
  {
   "cell_type": "markdown",
   "id": "f539d2f3-f05e-4a43-9429-8b75099942b3",
   "metadata": {},
   "source": [
    "# COPY LIST"
   ]
  },
  {
   "cell_type": "code",
   "execution_count": 47,
   "id": "7b176dc5-386a-4850-840a-143310d3b038",
   "metadata": {},
   "outputs": [
    {
     "data": {
      "text/plain": [
       "[25, 38, 99, 57, 90, 80.5, 26.9, 'praveen', (28+2j)]"
      ]
     },
     "execution_count": 47,
     "metadata": {},
     "output_type": "execute_result"
    }
   ],
   "source": [
    "l1"
   ]
  },
  {
   "cell_type": "code",
   "execution_count": 49,
   "id": "4c8fa6a2-3748-4102-b60b-9b62c5d3548a",
   "metadata": {},
   "outputs": [],
   "source": [
    "l2=l1"
   ]
  },
  {
   "cell_type": "code",
   "execution_count": 51,
   "id": "037697af-de60-4cf6-9b43-13cba495af09",
   "metadata": {},
   "outputs": [
    {
     "data": {
      "text/plain": [
       "(2481489313856, 2481489313856)"
      ]
     },
     "execution_count": 51,
     "metadata": {},
     "output_type": "execute_result"
    }
   ],
   "source": [
    "id(l2),id(l1)   # The address of both l2 & l1 will be the same"
   ]
  },
  {
   "cell_type": "code",
   "execution_count": 53,
   "id": "074fa5a8-bbf9-4205-934e-2869b11f78c6",
   "metadata": {},
   "outputs": [],
   "source": [
    "l3=l1.copy() # Create a copy of the list "
   ]
  },
  {
   "cell_type": "code",
   "execution_count": 55,
   "id": "a7faf569-c1fc-4931-9392-cea104e11073",
   "metadata": {},
   "outputs": [
    {
     "data": {
      "text/plain": [
       "2481489962496"
      ]
     },
     "execution_count": 55,
     "metadata": {},
     "output_type": "execute_result"
    }
   ],
   "source": [
    "id(l3)  # The address of l2 will be different from mylist because l3"
   ]
  },
  {
   "cell_type": "code",
   "execution_count": 59,
   "id": "96d8fffd-e382-4085-a48b-f8998acdadfe",
   "metadata": {},
   "outputs": [],
   "source": [
    "l1[8]=69"
   ]
  },
  {
   "cell_type": "code",
   "execution_count": 61,
   "id": "0fc7d4fd-e76b-41c0-97e8-922442b19826",
   "metadata": {},
   "outputs": [
    {
     "data": {
      "text/plain": [
       "[25, 38, 99, 57, 90, 80.5, 26.9, 'praveen', 69]"
      ]
     },
     "execution_count": 61,
     "metadata": {},
     "output_type": "execute_result"
    }
   ],
   "source": [
    "l1  # l1 will be also impacted as it is pointing to the same list "
   ]
  },
  {
   "cell_type": "code",
   "execution_count": 63,
   "id": "5efbb7f4-98ea-446b-8095-fc4390a8c014",
   "metadata": {},
   "outputs": [
    {
     "data": {
      "text/plain": [
       "[25, 38, 99, 57, 90, 80.5, 26.9, 'praveen', (28+2j)]"
      ]
     },
     "execution_count": 63,
     "metadata": {},
     "output_type": "execute_result"
    }
   ],
   "source": [
    "l3 # Copy of list won't be impacted due to changes made on the original list"
   ]
  },
  {
   "cell_type": "markdown",
   "id": "6c9112d0-86d1-4562-ae1f-30c5e362403e",
   "metadata": {},
   "source": [
    "# INSERT LIST"
   ]
  },
  {
   "cell_type": "code",
   "execution_count": 66,
   "id": "04e3bc20-92e0-4a99-bdb8-6c4a81f62697",
   "metadata": {},
   "outputs": [
    {
     "name": "stdout",
     "output_type": "stream",
     "text": [
      "[10, 20, 30, 40, 50, 60, 86, 99, 900, 20]\n",
      "[25, 38, 99, 57, 90, 80.5, 26.9, 'praveen', 69]\n",
      "[25, 38, 99, 57, 90, 80.5, 26.9, 'praveen', (28+2j)]\n"
     ]
    }
   ],
   "source": [
    "print(l)\n",
    "print(l1)\n",
    "print(l3)"
   ]
  },
  {
   "cell_type": "code",
   "execution_count": 70,
   "id": "389ff9ca-7df7-4b85-ba79-82590ca9a9fc",
   "metadata": {},
   "outputs": [],
   "source": [
    "l.insert(0,30) #Insert object before index."
   ]
  },
  {
   "cell_type": "code",
   "execution_count": 78,
   "id": "de34d231-427c-45ad-8cc2-3496703bd1be",
   "metadata": {},
   "outputs": [
    {
     "data": {
      "text/plain": [
       "[30, 10, 20, 30, 40, 50, 60, 86, 99, 900, 20, 9, 9]"
      ]
     },
     "execution_count": 78,
     "metadata": {},
     "output_type": "execute_result"
    }
   ],
   "source": [
    "l"
   ]
  },
  {
   "cell_type": "code",
   "execution_count": 80,
   "id": "2d1ae552-7909-4e62-a531-980e4b03f16c",
   "metadata": {},
   "outputs": [
    {
     "data": {
      "text/plain": [
       "[30, 10, 20, 30, 40, 50, 60, 86, 99, 900, 20, 9, 9, 9]"
      ]
     },
     "execution_count": 80,
     "metadata": {},
     "output_type": "execute_result"
    }
   ],
   "source": [
    "l.insert(100,9)  # it wont give error if we type idex out of range\n",
    "l"
   ]
  },
  {
   "cell_type": "code",
   "execution_count": 82,
   "id": "a9e9147e-f920-4e0a-917b-492191a6cae8",
   "metadata": {},
   "outputs": [],
   "source": [
    "l.insert(10,100) # it won't remove previous element it just addd the elements in place of index"
   ]
  },
  {
   "cell_type": "code",
   "execution_count": 84,
   "id": "2f774cbd-45a3-4316-af70-7b6df00face4",
   "metadata": {},
   "outputs": [
    {
     "data": {
      "text/plain": [
       "[30, 10, 20, 30, 40, 50, 60, 86, 99, 900, 100, 20, 9, 9, 9]"
      ]
     },
     "execution_count": 84,
     "metadata": {},
     "output_type": "execute_result"
    }
   ],
   "source": [
    "l"
   ]
  },
  {
   "cell_type": "markdown",
   "id": "ae4b6403-2cee-4ce9-8066-3b5dbf30e35e",
   "metadata": {},
   "source": [
    "# CLEAR LIST"
   ]
  },
  {
   "cell_type": "code",
   "execution_count": 86,
   "id": "50adbdbe-c205-4b5e-85cd-5efe35c252a2",
   "metadata": {},
   "outputs": [
    {
     "data": {
      "text/plain": [
       "<function list.clear()>"
      ]
     },
     "execution_count": 86,
     "metadata": {},
     "output_type": "execute_result"
    }
   ],
   "source": [
    "l1.clear"
   ]
  },
  {
   "cell_type": "code",
   "execution_count": 88,
   "id": "649a0339-a187-47df-a15a-9add8ec91cc7",
   "metadata": {},
   "outputs": [
    {
     "data": {
      "text/plain": [
       "[25, 38, 99, 57, 90, 80.5, 26.9, 'praveen', 69]"
      ]
     },
     "execution_count": 88,
     "metadata": {},
     "output_type": "execute_result"
    }
   ],
   "source": [
    "l1"
   ]
  },
  {
   "cell_type": "code",
   "execution_count": 90,
   "id": "74c577c0-8d20-4636-a563-130bd559d9d0",
   "metadata": {},
   "outputs": [],
   "source": [
    "l1.clear()  # Empty List / Delete all items in the list "
   ]
  },
  {
   "cell_type": "code",
   "execution_count": 92,
   "id": "d5fbb065-1e8e-4731-b85e-39846e615e4e",
   "metadata": {},
   "outputs": [
    {
     "data": {
      "text/plain": [
       "[]"
      ]
     },
     "execution_count": 92,
     "metadata": {},
     "output_type": "execute_result"
    }
   ],
   "source": [
    "l1"
   ]
  },
  {
   "cell_type": "markdown",
   "id": "5aaa7796-ddca-499e-8016-237ee5df0513",
   "metadata": {},
   "source": [
    "# EXTEND LIST"
   ]
  },
  {
   "cell_type": "code",
   "execution_count": 118,
   "id": "968d0da3-372a-41d1-b08b-29097fd8cf2d",
   "metadata": {},
   "outputs": [
    {
     "data": {
      "text/plain": [
       "[30, 10, 20, 30, 40, 50, 60, 86, 99, 900, 100, 20, 9, 9, 9, 45, 45, 20, 12, 12]"
      ]
     },
     "execution_count": 118,
     "metadata": {},
     "output_type": "execute_result"
    }
   ],
   "source": [
    "l"
   ]
  },
  {
   "cell_type": "code",
   "execution_count": 120,
   "id": "96fef206-10ec-4f3e-86d3-29e921e5039f",
   "metadata": {},
   "outputs": [
    {
     "data": {
      "text/plain": [
       "[25, 38, 99, 57, 90, 80.5, 26.9, 'praveen', (28+2j)]"
      ]
     },
     "execution_count": 120,
     "metadata": {},
     "output_type": "execute_result"
    }
   ],
   "source": [
    "l3"
   ]
  },
  {
   "cell_type": "code",
   "execution_count": 122,
   "id": "07031c41-22e8-4045-84c3-178a796e3063",
   "metadata": {},
   "outputs": [
    {
     "data": {
      "text/plain": [
       "[]"
      ]
     },
     "execution_count": 122,
     "metadata": {},
     "output_type": "execute_result"
    }
   ],
   "source": [
    "l1"
   ]
  },
  {
   "cell_type": "code",
   "execution_count": 124,
   "id": "140e41b3-50ac-4501-89c3-99da5ac2af05",
   "metadata": {},
   "outputs": [
    {
     "data": {
      "text/plain": [
       "[1, 2, 3, 4, 5, 6]"
      ]
     },
     "execution_count": 124,
     "metadata": {},
     "output_type": "execute_result"
    }
   ],
   "source": [
    "l1=[1,2,3,4,5,6]\n",
    "l1"
   ]
  },
  {
   "cell_type": "code",
   "execution_count": 128,
   "id": "40494221-9215-49b2-8b23-4b20f2613b04",
   "metadata": {},
   "outputs": [
    {
     "ename": "TypeError",
     "evalue": "list.extend() takes exactly one argument (3 given)",
     "output_type": "error",
     "traceback": [
      "\u001b[1;31m---------------------------------------------------------------------------\u001b[0m",
      "\u001b[1;31mTypeError\u001b[0m                                 Traceback (most recent call last)",
      "Cell \u001b[1;32mIn[128], line 1\u001b[0m\n\u001b[1;32m----> 1\u001b[0m l1\u001b[38;5;241m.\u001b[39mextend(\u001b[38;5;241m7\u001b[39m,\u001b[38;5;241m8\u001b[39m,\u001b[38;5;241m9\u001b[39m)\n",
      "\u001b[1;31mTypeError\u001b[0m: list.extend() takes exactly one argument (3 given)"
     ]
    }
   ],
   "source": [
    "l1.extend(7,8,9)"
   ]
  },
  {
   "cell_type": "code",
   "execution_count": 134,
   "id": "4adcc322-4257-462f-8ad2-736d0f90ca2c",
   "metadata": {},
   "outputs": [
    {
     "data": {
      "text/plain": [
       "[1, 2, 3, 4, 5, 6, 7, 8, 9, 7, 8, 9]"
      ]
     },
     "execution_count": 134,
     "metadata": {},
     "output_type": "execute_result"
    }
   ],
   "source": [
    "l1.extend([7,8,9]) # Extending the list with another list\n",
    "l1"
   ]
  },
  {
   "cell_type": "code",
   "execution_count": 140,
   "id": "c2685a61-7088-4f82-a90e-dff5a1447877",
   "metadata": {},
   "outputs": [
    {
     "data": {
      "text/plain": [
       "['a', 'b', 'c', 'd']"
      ]
     },
     "execution_count": 140,
     "metadata": {},
     "output_type": "execute_result"
    }
   ],
   "source": [
    "l4=['a','b',\"c\",\"d\"]\n",
    "l4"
   ]
  },
  {
   "cell_type": "code",
   "execution_count": 142,
   "id": "689831ae-b156-442b-824f-02d33deff45d",
   "metadata": {},
   "outputs": [],
   "source": [
    "l4.extend(\"efgh\") # Extending the list with a string (adds each character separately)"
   ]
  },
  {
   "cell_type": "code",
   "execution_count": 144,
   "id": "06e94695-50b1-4123-9d4f-a7167b6a1217",
   "metadata": {},
   "outputs": [
    {
     "data": {
      "text/plain": [
       "['a', 'b', 'c', 'd', 'e', 'f', 'g', 'h']"
      ]
     },
     "execution_count": 144,
     "metadata": {},
     "output_type": "execute_result"
    }
   ],
   "source": [
    "l4"
   ]
  },
  {
   "cell_type": "markdown",
   "id": "4eea6b29-9780-4cc6-b018-8cf4c99dfe20",
   "metadata": {},
   "source": [
    "# POP LIST"
   ]
  },
  {
   "cell_type": "code",
   "execution_count": 161,
   "id": "71377afa-bf1d-4030-9c2c-4db05f28fc90",
   "metadata": {},
   "outputs": [
    {
     "name": "stdout",
     "output_type": "stream",
     "text": [
      "[30, 10, 20, 30, 40, 50, 60, 86, 99, 900, 100, 20, 9, 9, 9, 45, 45, 20, 12, 12]\n",
      "[1, 2, 3, 4, 5, 6, 7, 8, 9, 7, 8, 9]\n",
      "[25, 38, 99, 57, 90, 80.5, 26.9, 'praveen', (28+2j)]\n",
      "['a', 'b', 'c', 'd', 'e', 'f', 'g', 'h']\n"
     ]
    }
   ],
   "source": [
    "print(l)\n",
    "print(l1)\n",
    "print(l3)\n",
    "print(l4)"
   ]
  },
  {
   "cell_type": "code",
   "execution_count": 164,
   "id": "60afbcd3-8ed4-4927-8421-db16ac0de6cd",
   "metadata": {},
   "outputs": [
    {
     "data": {
      "text/plain": [
       "12"
      ]
     },
     "execution_count": 164,
     "metadata": {},
     "output_type": "execute_result"
    }
   ],
   "source": [
    "l.pop()  ## Remove last item of the list "
   ]
  },
  {
   "cell_type": "code",
   "execution_count": 168,
   "id": "bdca45f3-0512-4d9b-8896-837d4e3f9bb8",
   "metadata": {},
   "outputs": [
    {
     "data": {
      "text/plain": [
       "[30, 10, 20, 30, 40, 50, 60, 86, 99, 900, 100, 20, 9, 9, 9, 45, 45, 20, 12]"
      ]
     },
     "execution_count": 168,
     "metadata": {},
     "output_type": "execute_result"
    }
   ],
   "source": [
    "l"
   ]
  },
  {
   "cell_type": "code",
   "execution_count": 180,
   "id": "bdf82573-8570-4871-a3e8-76e54a895bc8",
   "metadata": {},
   "outputs": [
    {
     "data": {
      "text/plain": [
       "45"
      ]
     },
     "execution_count": 180,
     "metadata": {},
     "output_type": "execute_result"
    }
   ],
   "source": [
    "l.pop(15) # Remove item at index location 15"
   ]
  },
  {
   "cell_type": "code",
   "execution_count": 182,
   "id": "0ee949ee-07a2-43f4-8c9d-6dc06b691155",
   "metadata": {},
   "outputs": [
    {
     "data": {
      "text/plain": [
       "9"
      ]
     },
     "execution_count": 182,
     "metadata": {},
     "output_type": "execute_result"
    }
   ],
   "source": [
    "l.pop(12)"
   ]
  },
  {
   "cell_type": "code",
   "execution_count": 184,
   "id": "5ec03a80-715b-4f48-96d0-92491298b01a",
   "metadata": {},
   "outputs": [
    {
     "data": {
      "text/plain": [
       "9"
      ]
     },
     "execution_count": 184,
     "metadata": {},
     "output_type": "execute_result"
    }
   ],
   "source": [
    "l.pop(12)"
   ]
  },
  {
   "cell_type": "code",
   "execution_count": 186,
   "id": "250eb5f3-156f-4baf-bc8d-c09c25dce96c",
   "metadata": {},
   "outputs": [
    {
     "data": {
      "text/plain": [
       "30"
      ]
     },
     "execution_count": 186,
     "metadata": {},
     "output_type": "execute_result"
    }
   ],
   "source": [
    "l.pop(0)"
   ]
  },
  {
   "cell_type": "code",
   "execution_count": 189,
   "id": "5daa7fb9-131e-4198-b617-1ac962375607",
   "metadata": {},
   "outputs": [
    {
     "data": {
      "text/plain": [
       "[10, 20, 30, 40, 50, 60, 86, 99, 900, 100, 20, 9, 45, 20, 12]"
      ]
     },
     "execution_count": 189,
     "metadata": {},
     "output_type": "execute_result"
    }
   ],
   "source": [
    "l"
   ]
  },
  {
   "cell_type": "code",
   "execution_count": 191,
   "id": "bea4e7d4-2376-4d21-95f6-3f8eb15d50a6",
   "metadata": {},
   "outputs": [
    {
     "data": {
      "text/plain": [
       "20"
      ]
     },
     "execution_count": 191,
     "metadata": {},
     "output_type": "execute_result"
    }
   ],
   "source": [
    "l.pop(10)"
   ]
  },
  {
   "cell_type": "code",
   "execution_count": 193,
   "id": "03960af0-1c8a-4ea2-9cac-ee5ec6550bdb",
   "metadata": {},
   "outputs": [
    {
     "data": {
      "text/plain": [
       "20"
      ]
     },
     "execution_count": 193,
     "metadata": {},
     "output_type": "execute_result"
    }
   ],
   "source": [
    "l.pop(-2)"
   ]
  },
  {
   "cell_type": "code",
   "execution_count": 196,
   "id": "c102dbb2-f402-444f-86f5-3ad0807505dc",
   "metadata": {},
   "outputs": [
    {
     "data": {
      "text/plain": [
       "[10, 20, 30, 40, 50, 60, 86, 99, 900, 100, 9, 45, 12]"
      ]
     },
     "execution_count": 196,
     "metadata": {},
     "output_type": "execute_result"
    }
   ],
   "source": [
    "l"
   ]
  },
  {
   "cell_type": "markdown",
   "id": "188c3087-80b4-4ead-82d9-7483ca34b41a",
   "metadata": {},
   "source": [
    "# REMOVE"
   ]
  },
  {
   "cell_type": "code",
   "execution_count": 200,
   "id": "15e56f3c-a714-41e0-83bb-68c283f7b2a2",
   "metadata": {},
   "outputs": [
    {
     "name": "stdout",
     "output_type": "stream",
     "text": [
      "[10, 20, 30, 40, 50, 60, 86, 99, 900, 100, 9, 45, 12]\n",
      "[1, 2, 3, 4, 5, 6, 7, 8, 9, 7, 8, 9]\n",
      "[25, 38, 99, 57, 90, 80.5, 26.9, 'praveen', (28+2j)]\n",
      "['a', 'b', 'c', 'd', 'e', 'f', 'g', 'h']\n"
     ]
    }
   ],
   "source": [
    "print(l)\n",
    "print(l1)\n",
    "print(l3)\n",
    "print(l4)"
   ]
  },
  {
   "cell_type": "code",
   "execution_count": 208,
   "id": "ba81e056-8740-46d3-bb6a-cb7d578fb45f",
   "metadata": {},
   "outputs": [
    {
     "data": {
      "text/plain": [
       "[1, 2, 3, 4, 5, 6, 7, 8, 7, 8]"
      ]
     },
     "execution_count": 208,
     "metadata": {},
     "output_type": "execute_result"
    }
   ],
   "source": [
    "l1.remove(9) # Remove item 9\n",
    "l1"
   ]
  },
  {
   "cell_type": "code",
   "execution_count": 210,
   "id": "b0d09043-f782-424d-a85b-d5ab74108143",
   "metadata": {},
   "outputs": [
    {
     "ename": "TypeError",
     "evalue": "list.remove() takes exactly one argument (2 given)",
     "output_type": "error",
     "traceback": [
      "\u001b[1;31m---------------------------------------------------------------------------\u001b[0m",
      "\u001b[1;31mTypeError\u001b[0m                                 Traceback (most recent call last)",
      "Cell \u001b[1;32mIn[210], line 1\u001b[0m\n\u001b[1;32m----> 1\u001b[0m l1\u001b[38;5;241m.\u001b[39mremove(\u001b[38;5;241m7\u001b[39m,\u001b[38;5;241m8\u001b[39m)\n",
      "\u001b[1;31mTypeError\u001b[0m: list.remove() takes exactly one argument (2 given)"
     ]
    }
   ],
   "source": [
    "l1.remove(7,8)"
   ]
  },
  {
   "cell_type": "code",
   "execution_count": 214,
   "id": "6e619b01-5fb9-433b-8817-52114059d8b6",
   "metadata": {},
   "outputs": [
    {
     "data": {
      "text/plain": [
       "[1, 2, 3, 4, 5, 6, 8, 8]"
      ]
     },
     "execution_count": 214,
     "metadata": {},
     "output_type": "execute_result"
    }
   ],
   "source": [
    "l1.remove(7)\n",
    "l1"
   ]
  },
  {
   "cell_type": "code",
   "execution_count": 241,
   "id": "d6a34c23-d738-4b49-885b-335d888c4a4b",
   "metadata": {},
   "outputs": [],
   "source": [
    "l1.remove(8) # Remove item 8"
   ]
  },
  {
   "cell_type": "code",
   "execution_count": 218,
   "id": "d4b76eaf-5b86-4a7e-9979-b96331cbe417",
   "metadata": {},
   "outputs": [
    {
     "data": {
      "text/plain": [
       "[1, 2, 3, 4, 5, 6, 8]"
      ]
     },
     "execution_count": 218,
     "metadata": {},
     "output_type": "execute_result"
    }
   ],
   "source": [
    "l1"
   ]
  },
  {
   "cell_type": "code",
   "execution_count": 220,
   "id": "730a4d59-cb05-49c1-ae82-014a0adca4ba",
   "metadata": {},
   "outputs": [
    {
     "ename": "TypeError",
     "evalue": "list.remove() takes exactly one argument (0 given)",
     "output_type": "error",
     "traceback": [
      "\u001b[1;31m---------------------------------------------------------------------------\u001b[0m",
      "\u001b[1;31mTypeError\u001b[0m                                 Traceback (most recent call last)",
      "Cell \u001b[1;32mIn[220], line 1\u001b[0m\n\u001b[1;32m----> 1\u001b[0m l1\u001b[38;5;241m.\u001b[39mremove()\n",
      "\u001b[1;31mTypeError\u001b[0m: list.remove() takes exactly one argument (0 given)"
     ]
    }
   ],
   "source": [
    "l1.remove() "
   ]
  },
  {
   "cell_type": "code",
   "execution_count": 231,
   "id": "1ed8ded0-5663-4888-a2dd-2e653c478573",
   "metadata": {},
   "outputs": [
    {
     "data": {
      "text/plain": [
       "[10, 20, 30, 40, 50, 60, 86, 99, 900, 100, 45, 12]"
      ]
     },
     "execution_count": 231,
     "metadata": {},
     "output_type": "execute_result"
    }
   ],
   "source": [
    "l"
   ]
  },
  {
   "cell_type": "code",
   "execution_count": 239,
   "id": "24230162-8383-4406-85cd-7617f8a75e05",
   "metadata": {},
   "outputs": [
    {
     "data": {
      "text/plain": [
       "[10, 20, 30, 40, 50, 60, 99, 45, 12]"
      ]
     },
     "execution_count": 239,
     "metadata": {},
     "output_type": "execute_result"
    }
   ],
   "source": [
    "del l[6] # Remove item at index location 6\n",
    "l"
   ]
  },
  {
   "cell_type": "code",
   "execution_count": null,
   "id": "db85c298-7bd6-4d30-9a88-818b1138aa0c",
   "metadata": {},
   "outputs": [],
   "source": []
  },
  {
   "cell_type": "markdown",
   "id": "c8404c41-4590-4ea9-bbe0-f388cca6c403",
   "metadata": {},
   "source": [
    "# JOIN LISTS"
   ]
  },
  {
   "cell_type": "code",
   "execution_count": 245,
   "id": "81dbc09c-3317-4e12-964a-1aadae84a9e5",
   "metadata": {},
   "outputs": [
    {
     "name": "stdout",
     "output_type": "stream",
     "text": [
      "[10, 20, 30, 40, 50, 60, 99, 45, 12]\n",
      "[1, 2, 3, 4, 5, 6]\n",
      "[25, 38, 99, 57, 90, 80.5, 26.9, 'praveen', (28+2j)]\n",
      "['a', 'b', 'c', 'd', 'e', 'f', 'g', 'h']\n"
     ]
    }
   ],
   "source": [
    "print(l)\n",
    "print(l1)\n",
    "print(l3)\n",
    "print(l4)"
   ]
  },
  {
   "cell_type": "code",
   "execution_count": 251,
   "id": "919d322b-70b1-43d8-bb63-4c385900882e",
   "metadata": {},
   "outputs": [],
   "source": [
    "l1=[1, 2, 3, 4, 5, 6]\n",
    "l=[10, 20, 30, 40, 50, 60, 99, 45, 12]"
   ]
  },
  {
   "cell_type": "code",
   "execution_count": 253,
   "id": "6d08885a-e8e7-4f40-9e3e-a63ce49bfc29",
   "metadata": {},
   "outputs": [],
   "source": [
    "l2=l+l1  # Join two lists by '+' operator "
   ]
  },
  {
   "cell_type": "code",
   "execution_count": 255,
   "id": "dde6b5db-dd84-4d70-a522-9ed5fc23ae41",
   "metadata": {},
   "outputs": [
    {
     "data": {
      "text/plain": [
       "[10, 20, 30, 40, 50, 60, 99, 45, 12, 1, 2, 3, 4, 5, 6]"
      ]
     },
     "execution_count": 255,
     "metadata": {},
     "output_type": "execute_result"
    }
   ],
   "source": [
    "l2"
   ]
  },
  {
   "cell_type": "code",
   "execution_count": 257,
   "id": "ef937940-4dd3-48d6-82c6-7fb2be71c07c",
   "metadata": {},
   "outputs": [
    {
     "data": {
      "text/plain": [
       "[10, 20, 30, 40, 50, 60, 99, 45, 12, 1, 2, 3, 4, 5, 6]"
      ]
     },
     "execution_count": 257,
     "metadata": {},
     "output_type": "execute_result"
    }
   ],
   "source": [
    "l.extend(l1) #Append l1 with l \n",
    "l"
   ]
  },
  {
   "cell_type": "code",
   "execution_count": null,
   "id": "e510ff97-4a7e-444f-9a3e-b8e99772cc13",
   "metadata": {},
   "outputs": [],
   "source": []
  },
  {
   "cell_type": "markdown",
   "id": "5ff00fba-8904-431a-bec1-6ffa61a0fd4e",
   "metadata": {},
   "source": [
    "# LIST MEMBERSHIP"
   ]
  },
  {
   "cell_type": "code",
   "execution_count": 263,
   "id": "853a72eb-5a84-4532-a9fd-3e8fe025da80",
   "metadata": {},
   "outputs": [],
   "source": [
    "list1= ['one', 'two', 'three', 'four', 'five', 'six', 'seven', 'eight'] "
   ]
  },
  {
   "cell_type": "code",
   "execution_count": 265,
   "id": "134e2a92-ecd7-4340-b57b-85093eaf1db7",
   "metadata": {},
   "outputs": [
    {
     "data": {
      "text/plain": [
       "['one', 'two', 'three', 'four', 'five', 'six', 'seven', 'eight']"
      ]
     },
     "execution_count": 265,
     "metadata": {},
     "output_type": "execute_result"
    }
   ],
   "source": [
    "list1"
   ]
  },
  {
   "cell_type": "code",
   "execution_count": 267,
   "id": "8e327e91-a5f3-4195-a75a-beb3d9baec8a",
   "metadata": {},
   "outputs": [
    {
     "data": {
      "text/plain": [
       "True"
      ]
     },
     "execution_count": 267,
     "metadata": {},
     "output_type": "execute_result"
    }
   ],
   "source": [
    "'one' in list1 # Check if 'one' exist in the list"
   ]
  },
  {
   "cell_type": "code",
   "execution_count": 269,
   "id": "9fb5be6a-27fa-4480-8279-32f02ae2017e",
   "metadata": {},
   "outputs": [
    {
     "data": {
      "text/plain": [
       "False"
      ]
     },
     "execution_count": 269,
     "metadata": {},
     "output_type": "execute_result"
    }
   ],
   "source": [
    "'ten' in list1 # Check if 'ten' exist in the list \n"
   ]
  },
  {
   "cell_type": "code",
   "execution_count": 273,
   "id": "7c6a9da7-d9ba-4987-a406-1a7ec60d6e26",
   "metadata": {},
   "outputs": [
    {
     "name": "stdout",
     "output_type": "stream",
     "text": [
      "Three is present in the list\n"
     ]
    }
   ],
   "source": [
    "if 'three' in list1: # Check if 'three' exist in the list \n",
    "    print('Three is present in the list') \n",
    "else: \n",
    "     print('Three is not present in the list')"
   ]
  },
  {
   "cell_type": "code",
   "execution_count": 275,
   "id": "bbb3d797-455d-492f-b1cf-d969211affda",
   "metadata": {},
   "outputs": [
    {
     "name": "stdout",
     "output_type": "stream",
     "text": [
      "eleven is not present in the list\n"
     ]
    }
   ],
   "source": [
    "if 'eleven' in list1: # Check if 'eleven' exist in the list \n",
    "   print('eleven is present in the list') \n",
    "else: \n",
    "    print('eleven is not present in the list') "
   ]
  },
  {
   "cell_type": "code",
   "execution_count": null,
   "id": "29586b7b-e768-4847-8b7a-96a75df31ff4",
   "metadata": {},
   "outputs": [],
   "source": []
  },
  {
   "cell_type": "markdown",
   "id": "e4dea37e-b962-4cc9-bc20-f70f53f16b2f",
   "metadata": {},
   "source": [
    "# REVERSE & SORT LIST"
   ]
  },
  {
   "cell_type": "code",
   "execution_count": 288,
   "id": "2fd9892e-7b4f-4cde-b23c-3b01c2b43057",
   "metadata": {},
   "outputs": [
    {
     "name": "stdout",
     "output_type": "stream",
     "text": [
      "[10, 20, 30, 40, 50, 60, 99, 45, 12, 1, 2, 3, 4, 5, 6]\n",
      "[1, 2, 3, 4, 5, 6]\n",
      "[25, 38, 99, 57, 90, 80.5, 26.9, 'praveen', (28+2j)]\n",
      "['a', 'b', 'c', 'd', 'e', 'f', 'g', 'h']\n",
      "['one', 'two', 'three', 'four', 'five', 'six', 'seven', 'eight']\n"
     ]
    }
   ],
   "source": [
    "print(l)\n",
    "print(l1)\n",
    "print(l3)\n",
    "print(l4)\n",
    "print(list1)     "
   ]
  },
  {
   "cell_type": "code",
   "execution_count": 290,
   "id": "fa124a29-4cf0-48c9-934f-c6cd3a20bd41",
   "metadata": {},
   "outputs": [
    {
     "data": {
      "text/plain": [
       "[6, 5, 4, 3, 2, 1, 12, 45, 99, 60, 50, 40, 30, 20, 10]"
      ]
     },
     "execution_count": 290,
     "metadata": {},
     "output_type": "execute_result"
    }
   ],
   "source": [
    "l.reverse()  # Reverse the list \n",
    "l"
   ]
  },
  {
   "cell_type": "code",
   "execution_count": 292,
   "id": "669d7f3f-c90f-48b5-b458-a48b4c2cde95",
   "metadata": {},
   "outputs": [
    {
     "data": {
      "text/plain": [
       "[(28+2j), 'praveen', 26.9, 80.5, 90, 57, 99, 38, 25]"
      ]
     },
     "execution_count": 292,
     "metadata": {},
     "output_type": "execute_result"
    }
   ],
   "source": [
    "l3.reverse()   # Reverse the list \n",
    "l3"
   ]
  },
  {
   "cell_type": "code",
   "execution_count": 294,
   "id": "0e9716ca-8eed-498b-a327-ac2f1eac9877",
   "metadata": {},
   "outputs": [
    {
     "data": {
      "text/plain": [
       "['eight', 'seven', 'six', 'five', 'four', 'three', 'two', 'one']"
      ]
     },
     "execution_count": 294,
     "metadata": {},
     "output_type": "execute_result"
    }
   ],
   "source": [
    "list1.reverse()  # Reverse the list \n",
    "list1"
   ]
  },
  {
   "cell_type": "code",
   "execution_count": 296,
   "id": "8ddfbb81-4c4e-4bb9-96f3-256f5e2f43d9",
   "metadata": {},
   "outputs": [
    {
     "data": {
      "text/plain": [
       "[10, 20, 30, 40, 50, 60, 99, 45, 12, 1, 2, 3, 4, 5, 6]"
      ]
     },
     "execution_count": 296,
     "metadata": {},
     "output_type": "execute_result"
    }
   ],
   "source": [
    "l[::-1]  # Reverse the list "
   ]
  },
  {
   "cell_type": "code",
   "execution_count": 298,
   "id": "d20ceae2-c3e1-4af2-b055-ff9a43968046",
   "metadata": {},
   "outputs": [
    {
     "data": {
      "text/plain": [
       "['h', 'g', 'f', 'e', 'd', 'c', 'b', 'a']"
      ]
     },
     "execution_count": 298,
     "metadata": {},
     "output_type": "execute_result"
    }
   ],
   "source": [
    "l4[::-1]  # Reverse the list "
   ]
  },
  {
   "cell_type": "markdown",
   "id": "cd95e3ca-79fa-42f8-83da-9782d8d4a893",
   "metadata": {},
   "source": [
    "# SORT"
   ]
  },
  {
   "cell_type": "markdown",
   "id": "2be84d68-a346-42bd-b9b1-07fd72febbc3",
   "metadata": {},
   "source": [
    "Sort the list in ascending order and return None.\n",
    "\n",
    "The sort is in-place (i.e. the list itself is modified) and stable (i.e. the\n",
    "order of two equal elements is maintained).\n",
    "\n",
    "If a key function is given, apply it once to each list item and sort them,\n",
    "ascending or descending, according to their function values."
   ]
  },
  {
   "cell_type": "code",
   "execution_count": 304,
   "id": "af1cbbc6-a20e-4942-bb65-35e06788a56e",
   "metadata": {},
   "outputs": [
    {
     "data": {
      "text/plain": [
       "[1, 2, 3, 4, 5, 6, 10, 12, 20, 30, 40, 45, 50, 60, 99]"
      ]
     },
     "execution_count": 304,
     "metadata": {},
     "output_type": "execute_result"
    }
   ],
   "source": [
    "l.sort()  # Sort list in ascending order\n",
    "l"
   ]
  },
  {
   "cell_type": "code",
   "execution_count": 311,
   "id": "79e4438b-3675-4554-9d5d-13ecd71a8e22",
   "metadata": {},
   "outputs": [
    {
     "data": {
      "text/plain": [
       "[99, 88, 34, 12, 9, 5, 2]"
      ]
     },
     "execution_count": 311,
     "metadata": {},
     "output_type": "execute_result"
    }
   ],
   "source": [
    "list3 = [9,5,2,99,12,88,34] \n",
    "list3.sort(reverse=True) # Sort list in descending order \n",
    "list3"
   ]
  },
  {
   "cell_type": "code",
   "execution_count": 319,
   "id": "0c3fa1a8-bc35-40cd-9409-4593fb5b25bb",
   "metadata": {},
   "outputs": [
    {
     "data": {
      "text/plain": [
       "['h', 'g', 'f', 'e', 'd', 'c', 'b', 'a']"
      ]
     },
     "execution_count": 319,
     "metadata": {},
     "output_type": "execute_result"
    }
   ],
   "source": [
    "l4.reverse()\n",
    "l4"
   ]
  },
  {
   "cell_type": "code",
   "execution_count": 321,
   "id": "abe0ed7d-a947-4f34-b0e0-74a58da774e0",
   "metadata": {},
   "outputs": [
    {
     "data": {
      "text/plain": [
       "['h', 'g', 'f', 'e', 'd', 'c', 'b', 'a']"
      ]
     },
     "execution_count": 321,
     "metadata": {},
     "output_type": "execute_result"
    }
   ],
   "source": [
    "l4"
   ]
  },
  {
   "cell_type": "code",
   "execution_count": 323,
   "id": "6bbaa377-2336-42d8-8fba-d4e0392a56d0",
   "metadata": {},
   "outputs": [
    {
     "data": {
      "text/plain": [
       "['a', 'b', 'c', 'd', 'e', 'f', 'g', 'h']"
      ]
     },
     "execution_count": 323,
     "metadata": {},
     "output_type": "execute_result"
    }
   ],
   "source": [
    "l4.sort()\n",
    "l4"
   ]
  },
  {
   "cell_type": "code",
   "execution_count": 325,
   "id": "9e38506b-6d93-4f3a-8910-25a31e7ee0aa",
   "metadata": {},
   "outputs": [
    {
     "data": {
      "text/plain": [
       "[11, 28, 57, 63, 66, 69, 78, 88, 99, 100]"
      ]
     },
     "execution_count": 325,
     "metadata": {},
     "output_type": "execute_result"
    }
   ],
   "source": [
    "l5 = [28,11,57,99,88,66,63,69,78,100]\n",
    "sorted(l5) # Returns a new sorted list and doesn't change original l "
   ]
  },
  {
   "cell_type": "code",
   "execution_count": 327,
   "id": "dd4b8806-ec94-4727-81da-829290048209",
   "metadata": {},
   "outputs": [
    {
     "data": {
      "text/plain": [
       "[28, 11, 57, 99, 88, 66, 63, 69, 78, 100]"
      ]
     },
     "execution_count": 327,
     "metadata": {},
     "output_type": "execute_result"
    }
   ],
   "source": [
    "l5"
   ]
  },
  {
   "cell_type": "code",
   "execution_count": null,
   "id": "50bbcf2a-d2d7-400c-998f-11fc3c8a7c80",
   "metadata": {},
   "outputs": [],
   "source": []
  },
  {
   "cell_type": "markdown",
   "id": "d9f7bc33-8e96-4995-bee4-f77afd2cc305",
   "metadata": {},
   "source": [
    "# Loop Through A list"
   ]
  },
  {
   "cell_type": "code",
   "execution_count": 330,
   "id": "839459c1-4f88-43f6-b921-dcaf796dd205",
   "metadata": {},
   "outputs": [
    {
     "name": "stdout",
     "output_type": "stream",
     "text": [
      "[1, 2, 3, 4, 5, 6, 10, 12, 20, 30, 40, 45, 50, 60, 99]\n",
      "[1, 2, 3, 4, 5, 6]\n",
      "[(28+2j), 'praveen', 26.9, 80.5, 90, 57, 99, 38, 25]\n",
      "['a', 'b', 'c', 'd', 'e', 'f', 'g', 'h']\n",
      "['eight', 'seven', 'six', 'five', 'four', 'three', 'two', 'one']\n",
      "[28, 11, 57, 99, 88, 66, 63, 69, 78, 100]\n"
     ]
    }
   ],
   "source": [
    "print(l)\n",
    "print(l1)\n",
    "print(l3)\n",
    "print(l4)\n",
    "print(list1)\n",
    "print(l5)"
   ]
  },
  {
   "cell_type": "code",
   "execution_count": 334,
   "id": "01e8f72b-f4b1-4de0-89d7-e9da336835bd",
   "metadata": {},
   "outputs": [
    {
     "name": "stdout",
     "output_type": "stream",
     "text": [
      "1\n",
      "2\n",
      "3\n",
      "4\n",
      "5\n",
      "6\n",
      "10\n",
      "12\n",
      "20\n",
      "30\n",
      "40\n",
      "45\n",
      "50\n",
      "60\n",
      "99\n"
     ]
    }
   ],
   "source": [
    "for i in l: \n",
    "  print(i)"
   ]
  },
  {
   "cell_type": "code",
   "execution_count": 336,
   "id": "715489fd-648a-4d0f-96dd-db828a77f967",
   "metadata": {},
   "outputs": [
    {
     "name": "stdout",
     "output_type": "stream",
     "text": [
      "eight\n",
      "seven\n",
      "six\n",
      "five\n",
      "four\n",
      "three\n",
      "two\n",
      "one\n"
     ]
    }
   ],
   "source": [
    "for i in list1: \n",
    "    print(i)"
   ]
  },
  {
   "cell_type": "code",
   "execution_count": 338,
   "id": "e285c205-2905-40dc-8ed2-24b236bb4490",
   "metadata": {},
   "outputs": [
    {
     "name": "stdout",
     "output_type": "stream",
     "text": [
      "1\n",
      "2\n",
      "3\n",
      "4\n",
      "5\n",
      "6\n"
     ]
    }
   ],
   "source": [
    "for i in l1: \n",
    "   print(i)"
   ]
  },
  {
   "cell_type": "code",
   "execution_count": 340,
   "id": "df5682f7-1d59-48bb-96b3-bb503a5dddb2",
   "metadata": {},
   "outputs": [
    {
     "name": "stdout",
     "output_type": "stream",
     "text": [
      "(28+2j)\n",
      "praveen\n",
      "26.9\n",
      "80.5\n",
      "90\n",
      "57\n",
      "99\n",
      "38\n",
      "25\n"
     ]
    }
   ],
   "source": [
    "for i in l3: \n",
    "  print(i)"
   ]
  },
  {
   "cell_type": "code",
   "execution_count": 350,
   "id": "b9de03c0-04b7-40b5-94f2-0d1abcde945d",
   "metadata": {},
   "outputs": [
    {
     "name": "stdout",
     "output_type": "stream",
     "text": [
      "(0, 'eight')\n",
      "(1, 'seven')\n",
      "(2, 'six')\n",
      "(3, 'five')\n",
      "(4, 'four')\n",
      "(5, 'three')\n",
      "(6, 'two')\n",
      "(7, 'one')\n"
     ]
    }
   ],
   "source": [
    "for i in enumerate(list1):  #enumerate is useful for obtaining an indexed list\n",
    "   print(i)"
   ]
  },
  {
   "cell_type": "code",
   "execution_count": 352,
   "id": "215460f6-5f17-4ef9-8f6f-bb08eeaabeec",
   "metadata": {},
   "outputs": [
    {
     "name": "stdout",
     "output_type": "stream",
     "text": [
      "(0, 1)\n",
      "(1, 2)\n",
      "(2, 3)\n",
      "(3, 4)\n",
      "(4, 5)\n",
      "(5, 6)\n",
      "(6, 10)\n",
      "(7, 12)\n",
      "(8, 20)\n",
      "(9, 30)\n",
      "(10, 40)\n",
      "(11, 45)\n",
      "(12, 50)\n",
      "(13, 60)\n",
      "(14, 99)\n"
     ]
    }
   ],
   "source": [
    "for i in enumerate(l): \n",
    "    print(i)"
   ]
  },
  {
   "cell_type": "code",
   "execution_count": null,
   "id": "07598a72-fc2a-40e0-86a6-b6897f7621b9",
   "metadata": {},
   "outputs": [],
   "source": []
  }
 ],
 "metadata": {
  "kernelspec": {
   "display_name": "Python [conda env:base] *",
   "language": "python",
   "name": "conda-base-py"
  },
  "language_info": {
   "codemirror_mode": {
    "name": "ipython",
    "version": 3
   },
   "file_extension": ".py",
   "mimetype": "text/x-python",
   "name": "python",
   "nbconvert_exporter": "python",
   "pygments_lexer": "ipython3",
   "version": "3.12.7"
  }
 },
 "nbformat": 4,
 "nbformat_minor": 5
}
