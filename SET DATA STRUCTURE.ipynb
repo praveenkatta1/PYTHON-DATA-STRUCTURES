{
 "cells": [
  {
   "cell_type": "markdown",
   "id": "aadaeb28-06f5-4741-95fb-67862eb75b32",
   "metadata": {},
   "source": [
    "# SETS"
   ]
  },
  {
   "cell_type": "markdown",
   "id": "a2225854-54e7-43a8-a1e6-0e741aba00b0",
   "metadata": {},
   "source": [
    "1) Unordered & Unindexed collection of items. \n",
    "2) Set elements are unique. Duplicate elements are not allowed. \n",
    "3) Set elements are immutable (cannot be changed). \n",
    "4) Set itself is mutable. We can add or remove items from it. "
   ]
  },
  {
   "cell_type": "code",
   "execution_count": 5,
   "id": "1cba647c-26fc-495a-b227-0df2184e184e",
   "metadata": {},
   "outputs": [
    {
     "data": {
      "text/plain": [
       "{1, 2, 3, 4, 5, 6, 7, 8, 9}"
      ]
     },
     "execution_count": 5,
     "metadata": {},
     "output_type": "execute_result"
    }
   ],
   "source": [
    "s={1,2,3,4,5,6,7,8,9}  #  # Set of numbers \n",
    "s"
   ]
  },
  {
   "cell_type": "code",
   "execution_count": 19,
   "id": "7c479dd9-1405-4154-948f-cab07b53a04e",
   "metadata": {},
   "outputs": [
    {
     "data": {
      "text/plain": [
       "set"
      ]
     },
     "execution_count": 19,
     "metadata": {},
     "output_type": "execute_result"
    }
   ],
   "source": [
    "type(s)"
   ]
  },
  {
   "cell_type": "code",
   "execution_count": 7,
   "id": "f273ecde-efab-4b20-a91f-e14151af16ec",
   "metadata": {},
   "outputs": [
    {
     "data": {
      "text/plain": [
       "9"
      ]
     },
     "execution_count": 7,
     "metadata": {},
     "output_type": "execute_result"
    }
   ],
   "source": [
    "len(s)   #Length of the set "
   ]
  },
  {
   "cell_type": "code",
   "execution_count": 9,
   "id": "ea28896d-a404-4c16-8e80-0ff9a9424e74",
   "metadata": {},
   "outputs": [
    {
     "data": {
      "text/plain": [
       "{1, 2, 3, 4, 5, 6, 7, 8, 9}"
      ]
     },
     "execution_count": 9,
     "metadata": {},
     "output_type": "execute_result"
    }
   ],
   "source": [
    "s1={0,1,2,3,3,4,5,5,6,7,7,8,9}\n",
    "s                                   # duplicates elements are not allowed"
   ]
  },
  {
   "cell_type": "code",
   "execution_count": 11,
   "id": "a6ac53b6-6c38-479b-b68d-d49b102f3ccc",
   "metadata": {},
   "outputs": [
    {
     "data": {
      "text/plain": [
       "{1.2, 3.4, 4.5, 5.6, 6.7, 7.8, 99.0}"
      ]
     },
     "execution_count": 11,
     "metadata": {},
     "output_type": "execute_result"
    }
   ],
   "source": [
    "s2={1.2,3.4,4.5,5.6,6.7,7.8,99.0} # Set of float numbers\n",
    "s2"
   ]
  },
  {
   "cell_type": "code",
   "execution_count": 13,
   "id": "3d454254-d881-4261-b459-7eac167cf064",
   "metadata": {},
   "outputs": [
    {
     "data": {
      "text/plain": [
       "{'katta', 'praveen', 'sai', 'sri'}"
      ]
     },
     "execution_count": 13,
     "metadata": {},
     "output_type": "execute_result"
    }
   ],
   "source": [
    "s3={'sri','sai',\"praveen\",\"katta\"}  # set of strings\n",
    "s3"
   ]
  },
  {
   "cell_type": "code",
   "execution_count": 17,
   "id": "4aecaa02-abd2-486e-ad39-a1f7d9572c76",
   "metadata": {},
   "outputs": [
    {
     "data": {
      "text/plain": [
       "{(1+2j), 10, 10.3, 'katta'}"
      ]
     },
     "execution_count": 17,
     "metadata": {},
     "output_type": "execute_result"
    }
   ],
   "source": [
    "s4={10,'katta',10.3,1+2j}   # mixed data types\n",
    "s4 "
   ]
  },
  {
   "cell_type": "code",
   "execution_count": 21,
   "id": "db650515-29e4-4ba5-b740-d2df45bcfbaa",
   "metadata": {},
   "outputs": [
    {
     "ename": "TypeError",
     "evalue": "unhashable type: 'list'",
     "output_type": "error",
     "traceback": [
      "\u001b[1;31m---------------------------------------------------------------------------\u001b[0m",
      "\u001b[1;31mTypeError\u001b[0m                                 Traceback (most recent call last)",
      "Cell \u001b[1;32mIn[21], line 1\u001b[0m\n\u001b[1;32m----> 1\u001b[0m s5\u001b[38;5;241m=\u001b[39m {\u001b[38;5;241m10\u001b[39m,\u001b[38;5;241m20\u001b[39m, \u001b[38;5;124m\"\u001b[39m\u001b[38;5;124mHola\u001b[39m\u001b[38;5;124m\"\u001b[39m, [\u001b[38;5;241m11\u001b[39m, \u001b[38;5;241m22\u001b[39m, \u001b[38;5;241m32\u001b[39m]}\n\u001b[0;32m      2\u001b[0m s5\n",
      "\u001b[1;31mTypeError\u001b[0m: unhashable type: 'list'"
     ]
    }
   ],
   "source": [
    "s5= {10,20, \"Hola\", [11, 22, 32]}  # set doesn't support items like list\n",
    "s5"
   ]
  },
  {
   "cell_type": "code",
   "execution_count": 23,
   "id": "947deb00-8048-4dd7-8721-492c0d5711be",
   "metadata": {},
   "outputs": [
    {
     "data": {
      "text/plain": [
       "{(11, 22, 32), 10, 20, 'Hola'}"
      ]
     },
     "execution_count": 23,
     "metadata": {},
     "output_type": "execute_result"
    }
   ],
   "source": [
    "s6= {10,20, \"Hola\", (11, 22, 32)}\n",
    "s6"
   ]
  },
  {
   "cell_type": "code",
   "execution_count": 25,
   "id": "86dbd267-793d-4de2-a437-101a477e1e0a",
   "metadata": {},
   "outputs": [
    {
     "data": {
      "text/plain": [
       "set()"
      ]
     },
     "execution_count": 25,
     "metadata": {},
     "output_type": "execute_result"
    }
   ],
   "source": [
    "s7=set() # empty set\n",
    "s7"
   ]
  },
  {
   "cell_type": "code",
   "execution_count": 27,
   "id": "00d2bd9e-9e5e-46c5-99c7-8a70e7cdaafc",
   "metadata": {},
   "outputs": [
    {
     "data": {
      "text/plain": [
       "{(1+2j), 9, 9.9, 'ten', 'twenty'}"
      ]
     },
     "execution_count": 27,
     "metadata": {},
     "output_type": "execute_result"
    }
   ],
   "source": [
    "s8=set(('ten','twenty',9,1+2j,9.9))\n",
    "s8"
   ]
  },
  {
   "cell_type": "code",
   "execution_count": null,
   "id": "a47bf1eb-813a-4b2a-bcce-d6b387f78d05",
   "metadata": {},
   "outputs": [],
   "source": []
  },
  {
   "cell_type": "markdown",
   "id": "53e495c5-1163-4a3b-8e22-223b191520d7",
   "metadata": {},
   "source": [
    " # LOOP THROUGH  A SET"
   ]
  },
  {
   "cell_type": "code",
   "execution_count": 34,
   "id": "9e957594-8332-4ca2-8e60-be807ffac11f",
   "metadata": {},
   "outputs": [
    {
     "data": {
      "text/plain": [
       "{1, 2, 3, 4, 5, 6, 7, 8, 9}"
      ]
     },
     "execution_count": 34,
     "metadata": {},
     "output_type": "execute_result"
    }
   ],
   "source": [
    "s\n"
   ]
  },
  {
   "cell_type": "code",
   "execution_count": 46,
   "id": "7fb16fc7-021b-45ed-b136-58457dea846d",
   "metadata": {},
   "outputs": [
    {
     "data": {
      "text/plain": [
       "{'eight', 'five', 'four', 'one', 'seven', 'six', 'three', 'two'}"
      ]
     },
     "execution_count": 46,
     "metadata": {},
     "output_type": "execute_result"
    }
   ],
   "source": [
    "set = {'one', 'two', 'three', 'four', 'five', 'six', 'seven', 'eight'} \n",
    "set"
   ]
  },
  {
   "cell_type": "code",
   "execution_count": 48,
   "id": "b0937f0f-45d2-400e-b934-e0bf0f31b4a7",
   "metadata": {},
   "outputs": [
    {
     "name": "stdout",
     "output_type": "stream",
     "text": [
      "five\n",
      "six\n",
      "one\n",
      "four\n",
      "three\n",
      "two\n",
      "eight\n",
      "seven\n"
     ]
    }
   ],
   "source": [
    "for i in set:\n",
    " print(i)"
   ]
  },
  {
   "cell_type": "code",
   "execution_count": 50,
   "id": "99b359a3-c548-4bf7-8430-c7bb0f14a72e",
   "metadata": {},
   "outputs": [
    {
     "name": "stdout",
     "output_type": "stream",
     "text": [
      "(0, 'five')\n",
      "(1, 'six')\n",
      "(2, 'one')\n",
      "(3, 'four')\n",
      "(4, 'three')\n",
      "(5, 'two')\n",
      "(6, 'eight')\n",
      "(7, 'seven')\n"
     ]
    }
   ],
   "source": [
    " for i in enumerate(set):\n",
    "     print(i)"
   ]
  },
  {
   "cell_type": "code",
   "execution_count": null,
   "id": "069dd63d-2f28-493e-9bfd-09bd4d374c4e",
   "metadata": {},
   "outputs": [],
   "source": []
  },
  {
   "cell_type": "markdown",
   "id": "a75469fc-2fcd-42a8-8da0-c7fe5ca34783",
   "metadata": {},
   "source": [
    "# Set Membership "
   ]
  },
  {
   "cell_type": "code",
   "execution_count": 57,
   "id": "26388775-0963-4b21-867c-97c819402031",
   "metadata": {},
   "outputs": [
    {
     "name": "stdout",
     "output_type": "stream",
     "text": [
      "{'five', 'six', 'one', 'four', 'three', 'two', 'eight', 'seven'}\n"
     ]
    }
   ],
   "source": [
    "print(set)"
   ]
  },
  {
   "cell_type": "code",
   "execution_count": 65,
   "id": "7ae116d0-93b2-4696-8bb6-8efe52319f00",
   "metadata": {},
   "outputs": [
    {
     "data": {
      "text/plain": [
       "True"
      ]
     },
     "execution_count": 65,
     "metadata": {},
     "output_type": "execute_result"
    }
   ],
   "source": [
    "'one'in set #Check if 'one' exist in the set"
   ]
  },
  {
   "cell_type": "code",
   "execution_count": 69,
   "id": "b2b413f0-bf5e-4ec9-befb-e4ca3c72b861",
   "metadata": {},
   "outputs": [
    {
     "data": {
      "text/plain": [
       "False"
      ]
     },
     "execution_count": 69,
     "metadata": {},
     "output_type": "execute_result"
    }
   ],
   "source": [
    "'ten' in set # Check if 'ten' exist in the set "
   ]
  },
  {
   "cell_type": "code",
   "execution_count": 78,
   "id": "3aed5870-3fe2-4700-a1ad-e19cfcd8b530",
   "metadata": {},
   "outputs": [
    {
     "name": "stdout",
     "output_type": "stream",
     "text": [
      "Three is present in the set\n"
     ]
    }
   ],
   "source": [
    "if 'three' in set:    #  Check if 'three' exist in the set \n",
    "    print(\"Three is present in the set\")\n",
    "else:\n",
    "    print(\"Three is not present in the set\")"
   ]
  },
  {
   "cell_type": "code",
   "execution_count": 80,
   "id": "94d33229-57d6-4174-b17c-79fa7f7f0965",
   "metadata": {},
   "outputs": [
    {
     "name": "stdout",
     "output_type": "stream",
     "text": [
      "Ten is not present in the set\n"
     ]
    }
   ],
   "source": [
    "if \"ten\" in set:   # Check if 'ten' exist in the list\n",
    "    print(\"Ten is present in the set\")\n",
    "else:\n",
    "    print(\"Ten is not present in the set\")"
   ]
  },
  {
   "cell_type": "code",
   "execution_count": 82,
   "id": "876e8052-0d70-4269-a5c3-4e193f2168a7",
   "metadata": {},
   "outputs": [
    {
     "name": "stdout",
     "output_type": "stream",
     "text": [
      "{1, 2, 3, 4, 5, 6, 7, 8, 9}\n",
      "{0, 1, 2, 3, 4, 5, 6, 7, 8, 9}\n",
      "{1.2, 3.4, 4.5, 5.6, 6.7, 7.8, 99.0}\n"
     ]
    }
   ],
   "source": [
    "print(s)\n",
    "print(s1)\n",
    "print(s2)"
   ]
  },
  {
   "cell_type": "code",
   "execution_count": 84,
   "id": "a09db99e-e576-4adb-98b5-eca2495c3f28",
   "metadata": {},
   "outputs": [
    {
     "name": "stdout",
     "output_type": "stream",
     "text": [
      "{'katta', 10, 10.3, (1+2j)}\n"
     ]
    }
   ],
   "source": [
    "print(s4)"
   ]
  },
  {
   "cell_type": "code",
   "execution_count": 116,
   "id": "bdac92d4-5b36-4edc-8558-96ab7fb5eea6",
   "metadata": {},
   "outputs": [
    {
     "data": {
      "text/plain": [
       "{'ELEVEN',\n",
       " 'TEN',\n",
       " 'TWELVE',\n",
       " 'eight',\n",
       " 'five',\n",
       " 'four',\n",
       " 'one',\n",
       " 'seven',\n",
       " 'three',\n",
       " 'two'}"
      ]
     },
     "execution_count": 116,
     "metadata": {},
     "output_type": "execute_result"
    }
   ],
   "source": [
    "set"
   ]
  },
  {
   "cell_type": "code",
   "execution_count": 88,
   "id": "1f663c67-be46-42dc-900f-017f5d531dc2",
   "metadata": {},
   "outputs": [
    {
     "data": {
      "text/plain": [
       "{0, 1, 2, 3, 4, 5, 6, 7, 8, 9, 25}"
      ]
     },
     "execution_count": 88,
     "metadata": {},
     "output_type": "execute_result"
    }
   ],
   "source": [
    "s1.add(25)\n",
    "s1"
   ]
  },
  {
   "cell_type": "code",
   "execution_count": 118,
   "id": "7b0bafb6-a1b3-4b0b-b897-4dfe82a92978",
   "metadata": {},
   "outputs": [
    {
     "data": {
      "text/plain": [
       "{'ELEVEN',\n",
       " 'TEN',\n",
       " 'TWELVE',\n",
       " 'eight',\n",
       " 'five',\n",
       " 'four',\n",
       " 'one',\n",
       " 'seven',\n",
       " 'ten',\n",
       " 'three',\n",
       " 'two'}"
      ]
     },
     "execution_count": 118,
     "metadata": {},
     "output_type": "execute_result"
    }
   ],
   "source": [
    "set.add(\"ten\")  # Add item to a set using add() method\n",
    "set"
   ]
  },
  {
   "cell_type": "code",
   "execution_count": 100,
   "id": "8ff435f6-9853-4593-8238-5ebf4117f233",
   "metadata": {},
   "outputs": [
    {
     "ename": "TypeError",
     "evalue": "'int' object is not iterable",
     "output_type": "error",
     "traceback": [
      "\u001b[1;31m---------------------------------------------------------------------------\u001b[0m",
      "\u001b[1;31mTypeError\u001b[0m                                 Traceback (most recent call last)",
      "Cell \u001b[1;32mIn[100], line 1\u001b[0m\n\u001b[1;32m----> 1\u001b[0m s1\u001b[38;5;241m.\u001b[39mupdate(\u001b[38;5;241m21\u001b[39m,\u001b[38;5;241m22\u001b[39m,\u001b[38;5;241m23\u001b[39m)\n",
      "\u001b[1;31mTypeError\u001b[0m: 'int' object is not iterable"
     ]
    }
   ],
   "source": [
    "s1.update(21,22,23)  "
   ]
  },
  {
   "cell_type": "code",
   "execution_count": 122,
   "id": "384b056a-fe97-4b43-ae85-e2cce6410919",
   "metadata": {},
   "outputs": [
    {
     "data": {
      "text/plain": [
       "{'ELEVEN',\n",
       " 'TEN',\n",
       " 'TWELVE',\n",
       " 'eight',\n",
       " 'five',\n",
       " 'four',\n",
       " 'one',\n",
       " 'seven',\n",
       " 'ten',\n",
       " 'three',\n",
       " 'two'}"
      ]
     },
     "execution_count": 122,
     "metadata": {},
     "output_type": "execute_result"
    }
   ],
   "source": [
    "set.update(['TEN' , 'ELEVEN' , 'TWELVE']) # Add multiple item to a set using \n",
    "set"
   ]
  },
  {
   "cell_type": "code",
   "execution_count": 124,
   "id": "51d383a9-c97e-491b-8fd7-2db686bc8452",
   "metadata": {},
   "outputs": [
    {
     "data": {
      "text/plain": [
       "{'ELEVEN',\n",
       " 'TEN',\n",
       " 'TWELVE',\n",
       " 'eight',\n",
       " 'five',\n",
       " 'four',\n",
       " 'one',\n",
       " 'seven',\n",
       " 'six',\n",
       " 'ten',\n",
       " 'three',\n",
       " 'two'}"
      ]
     },
     "execution_count": 124,
     "metadata": {},
     "output_type": "execute_result"
    }
   ],
   "source": [
    "set.add('six')\n",
    "set"
   ]
  },
  {
   "cell_type": "code",
   "execution_count": 126,
   "id": "c4960898-05b0-4860-ae1a-91d61c946b8b",
   "metadata": {},
   "outputs": [
    {
     "data": {
      "text/plain": [
       "{'ELEVEN',\n",
       " 'TWELVE',\n",
       " 'eight',\n",
       " 'five',\n",
       " 'four',\n",
       " 'one',\n",
       " 'seven',\n",
       " 'six',\n",
       " 'ten',\n",
       " 'three',\n",
       " 'two'}"
      ]
     },
     "execution_count": 126,
     "metadata": {},
     "output_type": "execute_result"
    }
   ],
   "source": [
    "set.remove('TEN')\n",
    "set"
   ]
  },
  {
   "cell_type": "code",
   "execution_count": 128,
   "id": "e6b35fd6-95e2-4c79-9d24-634c93051f17",
   "metadata": {},
   "outputs": [
    {
     "data": {
      "text/plain": [
       "{'ELEVEN',\n",
       " 'TWELVE',\n",
       " 'eight',\n",
       " 'five',\n",
       " 'four',\n",
       " 'one',\n",
       " 'seven',\n",
       " 'six',\n",
       " 'three',\n",
       " 'two'}"
      ]
     },
     "execution_count": 128,
     "metadata": {},
     "output_type": "execute_result"
    }
   ],
   "source": [
    "set.discard('ten') # remove item from a set using discard() method \n",
    "set "
   ]
  },
  {
   "cell_type": "code",
   "execution_count": 130,
   "id": "7119fefb-938b-46f0-8c98-51ec0c940581",
   "metadata": {},
   "outputs": [
    {
     "ename": "TypeError",
     "evalue": "set.discard() takes exactly one argument (0 given)",
     "output_type": "error",
     "traceback": [
      "\u001b[1;31m---------------------------------------------------------------------------\u001b[0m",
      "\u001b[1;31mTypeError\u001b[0m                                 Traceback (most recent call last)",
      "Cell \u001b[1;32mIn[130], line 1\u001b[0m\n\u001b[1;32m----> 1\u001b[0m \u001b[38;5;28mset\u001b[39m\u001b[38;5;241m.\u001b[39mdiscard()\n\u001b[0;32m      2\u001b[0m \u001b[38;5;28mset\u001b[39m\n",
      "\u001b[1;31mTypeError\u001b[0m: set.discard() takes exactly one argument (0 given)"
     ]
    }
   ],
   "source": [
    "set.discard()   # remove item from a set using discard() method\n",
    "set   "
   ]
  },
  {
   "cell_type": "code",
   "execution_count": 132,
   "id": "f0879bd9-2896-44ff-924a-e82d4e4ffce8",
   "metadata": {},
   "outputs": [
    {
     "data": {
      "text/plain": [
       "set()"
      ]
     },
     "execution_count": 132,
     "metadata": {},
     "output_type": "execute_result"
    }
   ],
   "source": [
    "s.clear() # Delete all items in a set \n",
    "s"
   ]
  },
  {
   "cell_type": "code",
   "execution_count": 134,
   "id": "af03c5ee-6b62-43b2-83c3-8951ea8a50d5",
   "metadata": {},
   "outputs": [
    {
     "data": {
      "text/plain": [
       "set()"
      ]
     },
     "execution_count": 134,
     "metadata": {},
     "output_type": "execute_result"
    }
   ],
   "source": [
    "s"
   ]
  },
  {
   "cell_type": "code",
   "execution_count": 136,
   "id": "d4414262-818f-4845-988d-edaf7cc2bccb",
   "metadata": {},
   "outputs": [
    {
     "ename": "NameError",
     "evalue": "name 's' is not defined",
     "output_type": "error",
     "traceback": [
      "\u001b[1;31m---------------------------------------------------------------------------\u001b[0m",
      "\u001b[1;31mNameError\u001b[0m                                 Traceback (most recent call last)",
      "Cell \u001b[1;32mIn[136], line 2\u001b[0m\n\u001b[0;32m      1\u001b[0m \u001b[38;5;28;01mdel\u001b[39;00m s\n\u001b[1;32m----> 2\u001b[0m s\n",
      "\u001b[1;31mNameError\u001b[0m: name 's' is not defined"
     ]
    }
   ],
   "source": [
    "del s # Delete the set object \n",
    "s"
   ]
  },
  {
   "cell_type": "markdown",
   "id": "7db73075-a846-4598-b05a-a1a571b92da0",
   "metadata": {},
   "source": [
    "# COPY SET"
   ]
  },
  {
   "cell_type": "code",
   "execution_count": 139,
   "id": "7c72c123-1a7f-4a0e-8537-d9860d75183c",
   "metadata": {},
   "outputs": [
    {
     "data": {
      "text/plain": [
       "{'eight', 'five', 'four', 'one', 'seven', 'six', 'three', 'two'}"
      ]
     },
     "execution_count": 139,
     "metadata": {},
     "output_type": "execute_result"
    }
   ],
   "source": [
    "set1= {'one', 'two', 'three', 'four', 'five', 'six', 'seven', 'eight'} \n",
    "set1 "
   ]
  },
  {
   "cell_type": "code",
   "execution_count": 141,
   "id": "0ca2c283-6729-446e-b8e7-07c09edd0c8f",
   "metadata": {},
   "outputs": [
    {
     "data": {
      "text/plain": [
       "{'eight', 'five', 'four', 'one', 'seven', 'six', 'three', 'two'}"
      ]
     },
     "execution_count": 141,
     "metadata": {},
     "output_type": "execute_result"
    }
   ],
   "source": [
    "set2=set1   # Create a new reference \"myset1\" \n",
    "set2"
   ]
  },
  {
   "cell_type": "code",
   "execution_count": 145,
   "id": "d1e1d763-4b10-4f16-8ccd-b52937b49d7c",
   "metadata": {},
   "outputs": [
    {
     "data": {
      "text/plain": [
       "(2597584360768, 2597584360768)"
      ]
     },
     "execution_count": 145,
     "metadata": {},
     "output_type": "execute_result"
    }
   ],
   "source": [
    "id(set1),id(set2)  # The address of both set1 & set2 will be the same "
   ]
  },
  {
   "cell_type": "code",
   "execution_count": 149,
   "id": "86963440-0856-400f-a2b8-54353c01472e",
   "metadata": {},
   "outputs": [
    {
     "data": {
      "text/plain": [
       "{'eight', 'five', 'four', 'one', 'seven', 'six', 'three', 'two'}"
      ]
     },
     "execution_count": 149,
     "metadata": {},
     "output_type": "execute_result"
    }
   ],
   "source": [
    "set3=set1.copy()   # Create a copy of the list\n",
    "set3"
   ]
  },
  {
   "cell_type": "code",
   "execution_count": 151,
   "id": "e3cd35b1-b096-49b2-b71d-10e0e9202277",
   "metadata": {},
   "outputs": [
    {
     "data": {
      "text/plain": [
       "2597584365920"
      ]
     },
     "execution_count": 151,
     "metadata": {},
     "output_type": "execute_result"
    }
   ],
   "source": [
    "id(set3)"
   ]
  },
  {
   "cell_type": "code",
   "execution_count": 153,
   "id": "20c8e4a6-27e8-497c-b7fe-e26a985c5ba2",
   "metadata": {},
   "outputs": [
    {
     "data": {
      "text/plain": [
       "{'NINE', 'eight', 'five', 'four', 'one', 'seven', 'six', 'three', 'two'}"
      ]
     },
     "execution_count": 153,
     "metadata": {},
     "output_type": "execute_result"
    }
   ],
   "source": [
    "set3.add(\"NINE\")\n",
    "set3"
   ]
  },
  {
   "cell_type": "code",
   "execution_count": 155,
   "id": "ff767e9f-aba7-463f-bddc-617491c52a50",
   "metadata": {},
   "outputs": [
    {
     "data": {
      "text/plain": [
       "{'eight', 'five', 'four', 'one', 'seven', 'six', 'three', 'two'}"
      ]
     },
     "execution_count": 155,
     "metadata": {},
     "output_type": "execute_result"
    }
   ],
   "source": [
    "set2"
   ]
  },
  {
   "cell_type": "code",
   "execution_count": 157,
   "id": "6ad96414-e67e-4b94-81f5-d395511ecabe",
   "metadata": {},
   "outputs": [
    {
     "data": {
      "text/plain": [
       "{'eight', 'five', 'four', 'one', 'seven', 'six', 'three', 'two'}"
      ]
     },
     "execution_count": 157,
     "metadata": {},
     "output_type": "execute_result"
    }
   ],
   "source": [
    "set1   # set1 will be also impacted as it is pointing to the same Set "
   ]
  },
  {
   "cell_type": "code",
   "execution_count": 159,
   "id": "01e755d1-f146-4291-b3eb-0c372ef89d90",
   "metadata": {},
   "outputs": [
    {
     "data": {
      "text/plain": [
       "{'NINE', 'eight', 'five', 'four', 'one', 'seven', 'six', 'three', 'two'}"
      ]
     },
     "execution_count": 159,
     "metadata": {},
     "output_type": "execute_result"
    }
   ],
   "source": [
    "set3"
   ]
  },
  {
   "cell_type": "markdown",
   "id": "3d954319-0f67-4636-8d1d-c20fb7eea0d8",
   "metadata": {},
   "source": [
    "# SET OPERATON"
   ]
  },
  {
   "cell_type": "markdown",
   "id": "7b763ecf-054b-44ec-8996-7572de00f474",
   "metadata": {},
   "source": [
    "# UNION"
   ]
  },
  {
   "cell_type": "code",
   "execution_count": 175,
   "id": "f96a1beb-2be2-4315-9d95-75ca0c1ed8ae",
   "metadata": {},
   "outputs": [],
   "source": [
    "a={2,3,4,5,6,7,9}\n",
    "b={1,2,3,4,5,6,90,55,34}\n",
    "c={10,11,3,4,13,15,16}"
   ]
  },
  {
   "cell_type": "code",
   "execution_count": 177,
   "id": "dbcc84fc-c1b0-45ad-abb6-8595c1a681bf",
   "metadata": {},
   "outputs": [
    {
     "data": {
      "text/plain": [
       "{1, 2, 3, 4, 5, 6, 7, 9, 34, 55, 90}"
      ]
     },
     "execution_count": 177,
     "metadata": {},
     "output_type": "execute_result"
    }
   ],
   "source": [
    "a|b"
   ]
  },
  {
   "cell_type": "code",
   "execution_count": 181,
   "id": "cef68c8d-3529-42f5-819b-89c433be9541",
   "metadata": {},
   "outputs": [
    {
     "data": {
      "text/plain": [
       "{1, 2, 3, 4, 5, 6, 7, 9, 34, 55, 90}"
      ]
     },
     "execution_count": 181,
     "metadata": {},
     "output_type": "execute_result"
    }
   ],
   "source": [
    "a.union(b)"
   ]
  },
  {
   "cell_type": "code",
   "execution_count": 183,
   "id": "fb88e492-2f53-4a5f-bf92-7102d3594314",
   "metadata": {},
   "outputs": [
    {
     "data": {
      "text/plain": [
       "{1, 2, 3, 4, 5, 6, 7, 9, 10, 11, 13, 15, 16, 34, 55, 90}"
      ]
     },
     "execution_count": 183,
     "metadata": {},
     "output_type": "execute_result"
    }
   ],
   "source": [
    "a.union(b,c)"
   ]
  },
  {
   "cell_type": "code",
   "execution_count": 187,
   "id": "fdc49209-803a-494d-8848-d53b544aa204",
   "metadata": {},
   "outputs": [
    {
     "ename": "TypeError",
     "evalue": "unhashable type: 'set'",
     "output_type": "error",
     "traceback": [
      "\u001b[1;31m---------------------------------------------------------------------------\u001b[0m",
      "\u001b[1;31mTypeError\u001b[0m                                 Traceback (most recent call last)",
      "Cell \u001b[1;32mIn[187], line 1\u001b[0m\n\u001b[1;32m----> 1\u001b[0m a\u001b[38;5;241m|\u001b[39m{b,c}\n",
      "\u001b[1;31mTypeError\u001b[0m: unhashable type: 'set'"
     ]
    }
   ],
   "source": [
    "a|{b,c}"
   ]
  },
  {
   "cell_type": "code",
   "execution_count": 191,
   "id": "513882dd-c1c0-4b81-97ed-220456003726",
   "metadata": {},
   "outputs": [
    {
     "data": {
      "text/plain": [
       "{1, 2, 3, 4, 5, 6, 7, 9, 10, 11, 13, 15, 16, 34, 55, 90}"
      ]
     },
     "execution_count": 191,
     "metadata": {},
     "output_type": "execute_result"
    }
   ],
   "source": [
    "# \"\"\" \n",
    "#Updates the set calling the update() method with union of A , B & C. \n",
    "# For below example Set A will be updated with union of A,B & C. \n",
    "# \"\"\" \n",
    "a.update(b,c)\n",
    "a"
   ]
  },
  {
   "cell_type": "code",
   "execution_count": null,
   "id": "6082e2fa-c596-4474-a488-0e7e5c66641d",
   "metadata": {},
   "outputs": [],
   "source": []
  },
  {
   "cell_type": "markdown",
   "id": "bf778e05-b959-481c-bf83-c28dcd7ff6cf",
   "metadata": {},
   "source": [
    "# INTERSECTION\n"
   ]
  },
  {
   "cell_type": "code",
   "execution_count": 194,
   "id": "d3526954-0f74-41e8-8cd0-5144139b17a2",
   "metadata": {},
   "outputs": [],
   "source": [
    "a={2,3,4,5,6,7,9}\n",
    "b={1,2,3,4,5,6,90,55,34}\n",
    "c={10,11,3,4,13,15,16}"
   ]
  },
  {
   "cell_type": "code",
   "execution_count": 196,
   "id": "d9d932f2-ed8e-4faa-99e6-404ae71fdaed",
   "metadata": {},
   "outputs": [
    {
     "data": {
      "text/plain": [
       "{2, 3, 4, 5, 6}"
      ]
     },
     "execution_count": 196,
     "metadata": {},
     "output_type": "execute_result"
    }
   ],
   "source": [
    "a&b"
   ]
  },
  {
   "cell_type": "code",
   "execution_count": 198,
   "id": "3b246b5d-394e-4979-b6e8-d73a5e4daf09",
   "metadata": {},
   "outputs": [
    {
     "data": {
      "text/plain": [
       "{3, 4}"
      ]
     },
     "execution_count": 198,
     "metadata": {},
     "output_type": "execute_result"
    }
   ],
   "source": [
    "a&c"
   ]
  },
  {
   "cell_type": "code",
   "execution_count": 200,
   "id": "9e5f9d00-0a0c-4cc2-9b1b-60d6468e193a",
   "metadata": {},
   "outputs": [
    {
     "data": {
      "text/plain": [
       "{2, 3, 4, 5, 6}"
      ]
     },
     "execution_count": 200,
     "metadata": {},
     "output_type": "execute_result"
    }
   ],
   "source": [
    "a.intersection(b)"
   ]
  },
  {
   "cell_type": "code",
   "execution_count": 202,
   "id": "a01207a1-2a44-4e8c-ba59-e367cf4b394b",
   "metadata": {},
   "outputs": [
    {
     "data": {
      "text/plain": [
       "{2, 3, 4, 5, 6}"
      ]
     },
     "execution_count": 202,
     "metadata": {},
     "output_type": "execute_result"
    }
   ],
   "source": [
    "a.intersection_update(b)\n",
    "a"
   ]
  },
  {
   "cell_type": "code",
   "execution_count": 204,
   "id": "b4313b03-43c2-4775-85da-f0e07213ed8f",
   "metadata": {},
   "outputs": [
    {
     "data": {
      "text/plain": [
       "{3, 4}"
      ]
     },
     "execution_count": 204,
     "metadata": {},
     "output_type": "execute_result"
    }
   ],
   "source": [
    "b.intersection(c)"
   ]
  },
  {
   "cell_type": "code",
   "execution_count": 206,
   "id": "d5f98770-3042-429d-812d-823bbc536af2",
   "metadata": {},
   "outputs": [
    {
     "data": {
      "text/plain": [
       "{3, 4}"
      ]
     },
     "execution_count": 206,
     "metadata": {},
     "output_type": "execute_result"
    }
   ],
   "source": [
    "b&c"
   ]
  },
  {
   "cell_type": "code",
   "execution_count": null,
   "id": "b2b9546f-e175-4647-be53-714597384a83",
   "metadata": {},
   "outputs": [],
   "source": []
  },
  {
   "cell_type": "markdown",
   "id": "b09e1f73-0f72-4c14-bff4-fd5ab0566808",
   "metadata": {},
   "source": [
    "# DIFFERENCE"
   ]
  },
  {
   "cell_type": "code",
   "execution_count": 210,
   "id": "3c4f758c-430c-40ae-a6c1-ab4c3443814d",
   "metadata": {},
   "outputs": [],
   "source": [
    "a={2,3,4,5,6,7,9}\n",
    "b={1,2,3,4,5,6,90,55,34}\n",
    "c={10,11,3,4,13,15,16}"
   ]
  },
  {
   "cell_type": "code",
   "execution_count": 212,
   "id": "12f03886-62eb-4d65-8b1c-d2f18baaaaaa",
   "metadata": {},
   "outputs": [
    {
     "data": {
      "text/plain": [
       "{7, 9}"
      ]
     },
     "execution_count": 212,
     "metadata": {},
     "output_type": "execute_result"
    }
   ],
   "source": [
    "a-b"
   ]
  },
  {
   "cell_type": "code",
   "execution_count": 214,
   "id": "1128b7b3-9acd-4729-8845-509d6044b48c",
   "metadata": {},
   "outputs": [
    {
     "data": {
      "text/plain": [
       "{1, 34, 55, 90}"
      ]
     },
     "execution_count": 214,
     "metadata": {},
     "output_type": "execute_result"
    }
   ],
   "source": [
    "b-a"
   ]
  },
  {
   "cell_type": "code",
   "execution_count": 216,
   "id": "c07ef486-3acb-4f56-8f97-2975aa01a964",
   "metadata": {},
   "outputs": [
    {
     "data": {
      "text/plain": [
       "{2, 5, 6, 7, 9}"
      ]
     },
     "execution_count": 216,
     "metadata": {},
     "output_type": "execute_result"
    }
   ],
   "source": [
    "a.difference(c)"
   ]
  },
  {
   "cell_type": "code",
   "execution_count": 218,
   "id": "0b91cbf4-fe78-43b4-a39f-c3b4077a934c",
   "metadata": {},
   "outputs": [
    {
     "data": {
      "text/plain": [
       "{10, 11, 13, 15, 16}"
      ]
     },
     "execution_count": 218,
     "metadata": {},
     "output_type": "execute_result"
    }
   ],
   "source": [
    "c-a"
   ]
  },
  {
   "cell_type": "code",
   "execution_count": 220,
   "id": "253e8f07-3c30-44b7-b232-1b750616742f",
   "metadata": {},
   "outputs": [
    {
     "data": {
      "text/plain": [
       "{2, 5, 6, 7, 9}"
      ]
     },
     "execution_count": 220,
     "metadata": {},
     "output_type": "execute_result"
    }
   ],
   "source": [
    "a-c"
   ]
  },
  {
   "cell_type": "code",
   "execution_count": 224,
   "id": "2835cef6-73d8-44af-928d-a28d43056a56",
   "metadata": {},
   "outputs": [
    {
     "data": {
      "text/plain": [
       "{7, 9}"
      ]
     },
     "execution_count": 224,
     "metadata": {},
     "output_type": "execute_result"
    }
   ],
   "source": [
    "a.difference_update(b)\n",
    "a"
   ]
  },
  {
   "cell_type": "code",
   "execution_count": null,
   "id": "071f1fb1-a865-491d-9cb3-58c155596437",
   "metadata": {},
   "outputs": [],
   "source": []
  },
  {
   "cell_type": "markdown",
   "id": "2c5ba9ef-43d9-4edd-ac35-beff23cd89b2",
   "metadata": {},
   "source": [
    "# Symmetric Difference "
   ]
  },
  {
   "cell_type": "code",
   "execution_count": 228,
   "id": "06f2ce01-1e95-4192-bb72-e9738686e409",
   "metadata": {},
   "outputs": [],
   "source": [
    "a={2,3,4,5,6,7,9}\n",
    "b={1,2,3,4,5,6,90,55,34}\n",
    "c={10,11,3,4,13,15,16}"
   ]
  },
  {
   "cell_type": "code",
   "execution_count": 230,
   "id": "a5be931f-ba27-4ce7-9521-f095a44ea108",
   "metadata": {},
   "outputs": [
    {
     "data": {
      "text/plain": [
       "{1, 7, 9, 34, 55, 90}"
      ]
     },
     "execution_count": 230,
     "metadata": {},
     "output_type": "execute_result"
    }
   ],
   "source": [
    "a^b"
   ]
  },
  {
   "cell_type": "code",
   "execution_count": 232,
   "id": "1b9bec76-7aa9-40a0-8d1c-15eb906c5b8e",
   "metadata": {},
   "outputs": [
    {
     "data": {
      "text/plain": [
       "{1, 2, 5, 6, 10, 11, 13, 15, 16, 34, 55, 90}"
      ]
     },
     "execution_count": 232,
     "metadata": {},
     "output_type": "execute_result"
    }
   ],
   "source": [
    "b^c"
   ]
  },
  {
   "cell_type": "code",
   "execution_count": 234,
   "id": "80b792e8-11b8-42c9-beb3-253311b5a3d2",
   "metadata": {},
   "outputs": [
    {
     "data": {
      "text/plain": [
       "{2, 5, 6, 7, 9, 10, 11, 13, 15, 16}"
      ]
     },
     "execution_count": 234,
     "metadata": {},
     "output_type": "execute_result"
    }
   ],
   "source": [
    "a.symmetric_difference(c)"
   ]
  },
  {
   "cell_type": "code",
   "execution_count": 238,
   "id": "2c4a2940-e600-4660-aa10-b0b0dae38c61",
   "metadata": {},
   "outputs": [
    {
     "data": {
      "text/plain": [
       "{1, 2, 5, 6, 10, 11, 13, 15, 16, 34, 55, 90}"
      ]
     },
     "execution_count": 238,
     "metadata": {},
     "output_type": "execute_result"
    }
   ],
   "source": [
    "b.symmetric_difference(c)"
   ]
  },
  {
   "cell_type": "code",
   "execution_count": 240,
   "id": "b94065e1-f869-4474-8aca-1a47966eac7d",
   "metadata": {},
   "outputs": [
    {
     "data": {
      "text/plain": [
       "{2, 5, 6, 7, 9, 10, 11, 13, 15, 16}"
      ]
     },
     "execution_count": 240,
     "metadata": {},
     "output_type": "execute_result"
    }
   ],
   "source": [
    "a.symmetric_difference_update(c)\n",
    "a"
   ]
  },
  {
   "cell_type": "code",
   "execution_count": null,
   "id": "0b3f6b5b-807c-469a-ab47-2f6c5be7a15b",
   "metadata": {},
   "outputs": [],
   "source": []
  },
  {
   "cell_type": "markdown",
   "id": "7d3b9488-92dd-422f-9977-c024eb0f5865",
   "metadata": {},
   "source": [
    "# Subset , Superset & Disjoint "
   ]
  },
  {
   "cell_type": "code",
   "execution_count": 247,
   "id": "90b00d9a-ed40-43f1-8b17-d16fd2b89245",
   "metadata": {},
   "outputs": [],
   "source": [
    "A={1,2,3,4,5,6,7,8,9}\n",
    "B={2,3,4,5,6,9}\n",
    "C={10,11,3,4,13,15,16}"
   ]
  },
  {
   "cell_type": "code",
   "execution_count": 249,
   "id": "0cfb6210-8030-4884-9ff9-db17718a96f0",
   "metadata": {},
   "outputs": [
    {
     "data": {
      "text/plain": [
       "True"
      ]
     },
     "execution_count": 249,
     "metadata": {},
     "output_type": "execute_result"
    }
   ],
   "source": [
    "B.issubset(A) # Set B is said to be the subset of set A if all elements of B are in A"
   ]
  },
  {
   "cell_type": "code",
   "execution_count": 251,
   "id": "eab213ec-0173-45dc-a07e-c314e5b6eef6",
   "metadata": {},
   "outputs": [
    {
     "data": {
      "text/plain": [
       "True"
      ]
     },
     "execution_count": 251,
     "metadata": {},
     "output_type": "execute_result"
    }
   ],
   "source": [
    "A.issuperset(B) # Set A is said to be the superset of set B if all elements of B "
   ]
  },
  {
   "cell_type": "code",
   "execution_count": 253,
   "id": "a46126ba-d853-4bdf-a7b9-a3cd44e65d6d",
   "metadata": {},
   "outputs": [
    {
     "data": {
      "text/plain": [
       "False"
      ]
     },
     "execution_count": 253,
     "metadata": {},
     "output_type": "execute_result"
    }
   ],
   "source": [
    "C.isdisjoint(A) # Two sets are said to be disjoint sets if they have no common e "
   ]
  },
  {
   "cell_type": "code",
   "execution_count": 255,
   "id": "9d47bb91-68d3-48ea-86b2-e3b6bca943b5",
   "metadata": {},
   "outputs": [
    {
     "data": {
      "text/plain": [
       "False"
      ]
     },
     "execution_count": 255,
     "metadata": {},
     "output_type": "execute_result"
    }
   ],
   "source": [
    " B.isdisjoint(A) # Two sets are said to be disjoint sets if they have no common e"
   ]
  },
  {
   "cell_type": "code",
   "execution_count": null,
   "id": "6416a89a-d157-4436-8a87-dcaeb5acbc3e",
   "metadata": {},
   "outputs": [],
   "source": []
  },
  {
   "cell_type": "code",
   "execution_count": 258,
   "id": "0b60f7d8-dcc4-4538-a360-9191fe1767cc",
   "metadata": {},
   "outputs": [
    {
     "data": {
      "text/plain": [
       "{1, 2, 3, 4, 5, 6, 7, 8, 9}"
      ]
     },
     "execution_count": 258,
     "metadata": {},
     "output_type": "execute_result"
    }
   ],
   "source": [
    "A"
   ]
  },
  {
   "cell_type": "code",
   "execution_count": 260,
   "id": "fb689e05-923b-46ac-b742-99859278b9b4",
   "metadata": {},
   "outputs": [
    {
     "data": {
      "text/plain": [
       "45"
      ]
     },
     "execution_count": 260,
     "metadata": {},
     "output_type": "execute_result"
    }
   ],
   "source": [
    "sum(A)"
   ]
  },
  {
   "cell_type": "code",
   "execution_count": 262,
   "id": "ad7cff7d-908d-47d6-a677-3586a62cb7e1",
   "metadata": {},
   "outputs": [
    {
     "data": {
      "text/plain": [
       "9"
      ]
     },
     "execution_count": 262,
     "metadata": {},
     "output_type": "execute_result"
    }
   ],
   "source": [
    "max(A)"
   ]
  },
  {
   "cell_type": "code",
   "execution_count": 264,
   "id": "ded838bb-401d-4829-bb1d-f558fce7ac2b",
   "metadata": {},
   "outputs": [
    {
     "data": {
      "text/plain": [
       "1"
      ]
     },
     "execution_count": 264,
     "metadata": {},
     "output_type": "execute_result"
    }
   ],
   "source": [
    "min(A)"
   ]
  },
  {
   "cell_type": "code",
   "execution_count": 266,
   "id": "cf994b64-a56d-4779-814c-661e2a537072",
   "metadata": {},
   "outputs": [
    {
     "data": {
      "text/plain": [
       "9"
      ]
     },
     "execution_count": 266,
     "metadata": {},
     "output_type": "execute_result"
    }
   ],
   "source": [
    "len(A)"
   ]
  },
  {
   "cell_type": "code",
   "execution_count": 268,
   "id": "0c956d4d-34af-48e3-b160-9a6b7b45ff88",
   "metadata": {},
   "outputs": [
    {
     "data": {
      "text/plain": [
       "[(0, 1), (1, 2), (2, 3), (3, 4), (4, 5), (5, 6), (6, 7), (7, 8), (8, 9)]"
      ]
     },
     "execution_count": 268,
     "metadata": {},
     "output_type": "execute_result"
    }
   ],
   "source": [
    "list(enumerate(A))"
   ]
  },
  {
   "cell_type": "code",
   "execution_count": 270,
   "id": "07d7c407-73ad-4288-ac79-d74d8c84cf1b",
   "metadata": {},
   "outputs": [
    {
     "data": {
      "text/plain": [
       "[9, 8, 7, 6, 5, 4, 3, 2, 1]"
      ]
     },
     "execution_count": 270,
     "metadata": {},
     "output_type": "execute_result"
    }
   ],
   "source": [
    "D= sorted(A,reverse=True) \n",
    "D "
   ]
  },
  {
   "cell_type": "code",
   "execution_count": 272,
   "id": "b55ebac3-fe37-4f1a-a0f7-dd35248af613",
   "metadata": {},
   "outputs": [
    {
     "data": {
      "text/plain": [
       "[1, 2, 3, 4, 5, 6, 7, 8, 9]"
      ]
     },
     "execution_count": 272,
     "metadata": {},
     "output_type": "execute_result"
    }
   ],
   "source": [
    " sorted(D)"
   ]
  },
  {
   "cell_type": "code",
   "execution_count": null,
   "id": "e7cf021d-9d9d-44ed-a896-5bf1a145362c",
   "metadata": {},
   "outputs": [],
   "source": []
  }
 ],
 "metadata": {
  "kernelspec": {
   "display_name": "Python [conda env:base] *",
   "language": "python",
   "name": "conda-base-py"
  },
  "language_info": {
   "codemirror_mode": {
    "name": "ipython",
    "version": 3
   },
   "file_extension": ".py",
   "mimetype": "text/x-python",
   "name": "python",
   "nbconvert_exporter": "python",
   "pygments_lexer": "ipython3",
   "version": "3.12.7"
  }
 },
 "nbformat": 4,
 "nbformat_minor": 5
}
