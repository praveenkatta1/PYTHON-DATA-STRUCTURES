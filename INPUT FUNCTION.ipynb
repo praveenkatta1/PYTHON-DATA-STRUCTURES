{
 "cells": [
  {
   "cell_type": "markdown",
   "id": "7349133b-f8fc-4b4e-9629-77759d7e70a5",
   "metadata": {},
   "source": [
    " # USER INPUT FUNCTION IN PYTHON || COMMAND LINE INPUT \n"
   ]
  },
  {
   "cell_type": "code",
   "execution_count": 3,
   "id": "e6a0fef0-4260-44da-8c89-95a3c2e72377",
   "metadata": {},
   "outputs": [
    {
     "name": "stdin",
     "output_type": "stream",
     "text": [
      " 200\n",
      " 500\n"
     ]
    },
    {
     "name": "stdout",
     "output_type": "stream",
     "text": [
      "200500\n"
     ]
    }
   ],
   "source": [
    " x = input() \n",
    "y = input() \n",
    "z = x + y  # console is waiting for user to enter input \n",
    "print(z)               # also if you work in idle)"
   ]
  },
  {
   "cell_type": "code",
   "execution_count": 5,
   "id": "7ea83c46-f33a-4b7a-8144-a0ec7013d44e",
   "metadata": {},
   "outputs": [
    {
     "name": "stdin",
     "output_type": "stream",
     "text": [
      "Enter first number: 28\n",
      "Enter second number:  55\n"
     ]
    },
    {
     "name": "stdout",
     "output_type": "stream",
     "text": [
      "2855\n"
     ]
    }
   ],
   "source": [
    "x1 = input(\"Enter first number:\") \n",
    "y1 = input (\"Enter second number: \") \n",
    "z1 = x1 + y1 \n",
    "print(z1) # console is waiting for user to enter input \n",
    "# also if you work in idle \n"
   ]
  },
  {
   "cell_type": "code",
   "execution_count": 9,
   "id": "893fc279-55be-49ca-a2fa-ef8d07fa986f",
   "metadata": {},
   "outputs": [
    {
     "name": "stdin",
     "output_type": "stream",
     "text": [
      "Enter first number: 88\n",
      "Enter second number:  99\n"
     ]
    },
    {
     "ename": "TypeError",
     "evalue": "unsupported operand type(s) for -: 'str' and 'str'",
     "output_type": "error",
     "traceback": [
      "\u001b[1;31m---------------------------------------------------------------------------\u001b[0m",
      "\u001b[1;31mTypeError\u001b[0m                                 Traceback (most recent call last)",
      "Cell \u001b[1;32mIn[9], line 3\u001b[0m\n\u001b[0;32m      1\u001b[0m x1 \u001b[38;5;241m=\u001b[39m \u001b[38;5;28minput\u001b[39m(\u001b[38;5;124m\"\u001b[39m\u001b[38;5;124mEnter first number:\u001b[39m\u001b[38;5;124m\"\u001b[39m) \n\u001b[0;32m      2\u001b[0m y1 \u001b[38;5;241m=\u001b[39m \u001b[38;5;28minput\u001b[39m (\u001b[38;5;124m\"\u001b[39m\u001b[38;5;124mEnter second number: \u001b[39m\u001b[38;5;124m\"\u001b[39m) \n\u001b[1;32m----> 3\u001b[0m z1 \u001b[38;5;241m=\u001b[39m x1\u001b[38;5;241m-\u001b[39m y1 \n\u001b[0;32m      4\u001b[0m \u001b[38;5;28mprint\u001b[39m(z1)\n",
      "\u001b[1;31mTypeError\u001b[0m: unsupported operand type(s) for -: 'str' and 'str'"
     ]
    }
   ],
   "source": [
    "x1 = input(\"Enter first number:\") \n",
    "y1 = input (\"Enter second number: \") \n",
    "z1 = x1- y1 \n",
    "print(z1) # console is waiting for user to enter input \n",
    "# also if you work in idle \n"
   ]
  },
  {
   "cell_type": "code",
   "execution_count": 19,
   "id": "6de72799-d04d-4efc-9320-b5ce62895f28",
   "metadata": {},
   "outputs": [
    {
     "name": "stdin",
     "output_type": "stream",
     "text": [
      "Enter the 1st number 33\n",
      "Enter the 2nd number 45\n"
     ]
    },
    {
     "name": "stdout",
     "output_type": "stream",
     "text": [
      "78\n"
     ]
    }
   ],
   "source": [
    "x1 = input('Enter the 1st number') #whenevery you works in input function it always \n",
    "a1 = int(x1) \n",
    "y1 =input('Enter the 2nd number') # it wont understand as arithmetic operator \n",
    "b1 = int(y1) \n",
    "z1 = a1 + b1 \n",
    "print(z1) \n"
   ]
  },
  {
   "cell_type": "code",
   "execution_count": 21,
   "id": "e9a7b044-ecc2-4dfd-8bc0-5514c82a3ab2",
   "metadata": {},
   "outputs": [
    {
     "name": "stdin",
     "output_type": "stream",
     "text": [
      "Enter first number: 44\n",
      "Enter second number:  44\n"
     ]
    },
    {
     "name": "stdout",
     "output_type": "stream",
     "text": [
      "88\n"
     ]
    }
   ],
   "source": [
    "a= int(input(\"Enter first number:\")) \n",
    "b = int(input (\"Enter second number: \")) \n",
    "c= (a) + (b) \n",
    "print(c)"
   ]
  },
  {
   "cell_type": "code",
   "execution_count": null,
   "id": "be40713b-26a3-4c87-9b8a-639420bc4d2f",
   "metadata": {},
   "outputs": [],
   "source": []
  },
  {
   "cell_type": "markdown",
   "id": "887feacb-9136-4948-a641-d7552d20a3da",
   "metadata": {},
   "source": [
    "# INPUT STRING"
   ]
  },
  {
   "cell_type": "code",
   "execution_count": 28,
   "id": "48bd72a4-d6aa-4c3a-85cb-67e48d291de7",
   "metadata": {},
   "outputs": [
    {
     "name": "stdin",
     "output_type": "stream",
     "text": [
      "Enter the character praveen katta\n"
     ]
    }
   ],
   "source": [
    "CH = input(\"Enter the character\")"
   ]
  },
  {
   "cell_type": "code",
   "execution_count": 30,
   "id": "6abbbe0d-8626-44ae-a674-3e2606301cd8",
   "metadata": {},
   "outputs": [
    {
     "data": {
      "text/plain": [
       "'praveen katta'"
      ]
     },
     "execution_count": 30,
     "metadata": {},
     "output_type": "execute_result"
    }
   ],
   "source": [
    "CH"
   ]
  },
  {
   "cell_type": "code",
   "execution_count": 32,
   "id": "28578cd4-c9a9-4b64-88f2-c1fd9bd14e13",
   "metadata": {},
   "outputs": [
    {
     "data": {
      "text/plain": [
       "'p'"
      ]
     },
     "execution_count": 32,
     "metadata": {},
     "output_type": "execute_result"
    }
   ],
   "source": [
    "CH[0]"
   ]
  },
  {
   "cell_type": "code",
   "execution_count": 34,
   "id": "c8f877c8-cac0-468f-ae74-69455d6b9a2b",
   "metadata": {},
   "outputs": [
    {
     "data": {
      "text/plain": [
       "'pra'"
      ]
     },
     "execution_count": 34,
     "metadata": {},
     "output_type": "execute_result"
    }
   ],
   "source": [
    "CH[0:3]"
   ]
  },
  {
   "cell_type": "code",
   "execution_count": 36,
   "id": "299d3bf5-37a9-45ab-ac5a-efb1bb5ab5b5",
   "metadata": {},
   "outputs": [
    {
     "data": {
      "text/plain": [
       "13"
      ]
     },
     "execution_count": 36,
     "metadata": {},
     "output_type": "execute_result"
    }
   ],
   "source": [
    "len(CH)"
   ]
  },
  {
   "cell_type": "code",
   "execution_count": 40,
   "id": "0f5b9c36-6222-46b2-b88d-6dfd0aed3518",
   "metadata": {},
   "outputs": [
    {
     "data": {
      "text/plain": [
       "'praveen katta'"
      ]
     },
     "execution_count": 40,
     "metadata": {},
     "output_type": "execute_result"
    }
   ],
   "source": [
    "CH[0:14:1]"
   ]
  },
  {
   "cell_type": "code",
   "execution_count": 42,
   "id": "a3f29010-3526-4f0d-a09f-f5962ec5ef54",
   "metadata": {},
   "outputs": [
    {
     "data": {
      "text/plain": [
       "'raveen katta'"
      ]
     },
     "execution_count": 42,
     "metadata": {},
     "output_type": "execute_result"
    }
   ],
   "source": [
    "CH[-12::1]"
   ]
  },
  {
   "cell_type": "code",
   "execution_count": 44,
   "id": "99e2a623-c1c4-4065-8b01-9914e7298291",
   "metadata": {},
   "outputs": [
    {
     "data": {
      "text/plain": [
       "'praveen katta'"
      ]
     },
     "execution_count": 44,
     "metadata": {},
     "output_type": "execute_result"
    }
   ],
   "source": [
    "CH[-13::1]"
   ]
  },
  {
   "cell_type": "code",
   "execution_count": 46,
   "id": "31b053e4-73a7-429f-a541-65ea0fa95085",
   "metadata": {},
   "outputs": [
    {
     "data": {
      "text/plain": [
       "'attak neevarp'"
      ]
     },
     "execution_count": 46,
     "metadata": {},
     "output_type": "execute_result"
    }
   ],
   "source": [
    "CH[::-1]"
   ]
  },
  {
   "cell_type": "code",
   "execution_count": null,
   "id": "acd5f174-a162-4d2b-81da-5d1fe161386f",
   "metadata": {},
   "outputs": [],
   "source": []
  },
  {
   "cell_type": "markdown",
   "id": "18adb8c6-0f09-406b-b37a-d3acda5aeaa9",
   "metadata": {},
   "source": [
    "# EVAL FUNCTION USING INPUT"
   ]
  },
  {
   "cell_type": "code",
   "execution_count": 55,
   "id": "5859e8a0-5b22-410a-a7c7-1f6d32b4267b",
   "metadata": {},
   "outputs": [
    {
     "name": "stdin",
     "output_type": "stream",
     "text": [
      "Enter a char 28-23+1\n"
     ]
    },
    {
     "name": "stdout",
     "output_type": "stream",
     "text": [
      "28-23+1\n"
     ]
    }
   ],
   "source": [
    "ch= input(\"Enter a char\") \n",
    "print(ch)"
   ]
  },
  {
   "cell_type": "code",
   "execution_count": 61,
   "id": "46ff25a5-2f5c-4b7f-a4c1-70c183056d7c",
   "metadata": {},
   "outputs": [
    {
     "name": "stdin",
     "output_type": "stream",
     "text": [
      "Enter a char 99-22+33\n"
     ]
    },
    {
     "data": {
      "text/plain": [
       "110"
      ]
     },
     "execution_count": 61,
     "metadata": {},
     "output_type": "execute_result"
    }
   ],
   "source": [
    "ch1= eval(input(\"Enter a char\"))\n",
    "ch1"
   ]
  },
  {
   "cell_type": "code",
   "execution_count": null,
   "id": "7c528fd2-62bc-4bdb-891f-9c2b542bdf25",
   "metadata": {},
   "outputs": [],
   "source": []
  }
 ],
 "metadata": {
  "kernelspec": {
   "display_name": "Python [conda env:base] *",
   "language": "python",
   "name": "conda-base-py"
  },
  "language_info": {
   "codemirror_mode": {
    "name": "ipython",
    "version": 3
   },
   "file_extension": ".py",
   "mimetype": "text/x-python",
   "name": "python",
   "nbconvert_exporter": "python",
   "pygments_lexer": "ipython3",
   "version": "3.12.7"
  }
 },
 "nbformat": 4,
 "nbformat_minor": 5
}
