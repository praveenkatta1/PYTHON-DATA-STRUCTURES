{
 "cells": [
  {
   "cell_type": "markdown",
   "id": "e40fc771-907f-4c2c-ac7b-24f1642e469e",
   "metadata": {},
   "source": [
    "# TUPLE"
   ]
  },
  {
   "cell_type": "markdown",
   "id": "29951b9d-931c-4d55-ad3e-f8c7fb1f9248",
   "metadata": {},
   "source": [
    "# A tuple in Python is an immutable, ordered collection of elements. Once a tuple is created, its contents cannot be modified, which means you cannot add, remove, or change items in it."
   ]
  },
  {
   "cell_type": "markdown",
   "id": "16f8140f-774a-420f-94dd-83a033838d35",
   "metadata": {},
   "source": [
    "# Key Characteristics of Tuples:\n",
    "# -->  Ordered   :  The order in which elements are inserted is preserved.\n",
    "# --> Immutable : Once created, the values cannot be changed.\n",
    "# --> Can hold multiple data types   : Tuples can store elements of different types (e.g., integers, strings, floats, etc.).\n",
    "# --> Indexed : You can access tuple elements using indices, just like lists"
   ]
  },
  {
   "cell_type": "code",
   "execution_count": 34,
   "id": "ac222e5b-053d-4a92-8ebe-db9113d46879",
   "metadata": {},
   "outputs": [
    {
     "data": {
      "text/plain": [
       "(1, 2, 3, 4, 5, 6, 7, 8)"
      ]
     },
     "execution_count": 34,
     "metadata": {},
     "output_type": "execute_result"
    }
   ],
   "source": [
    "t=1,2,3,4,5,6,7,8\n",
    "t"
   ]
  },
  {
   "cell_type": "code",
   "execution_count": 36,
   "id": "3d282803-1053-452d-a7c4-c4b32265f7f6",
   "metadata": {},
   "outputs": [
    {
     "data": {
      "text/plain": [
       "tuple"
      ]
     },
     "execution_count": 36,
     "metadata": {},
     "output_type": "execute_result"
    }
   ],
   "source": [
    "type(t)\n"
   ]
  },
  {
   "cell_type": "code",
   "execution_count": 38,
   "id": "515a9ebc-fc26-44ca-9216-3ae46a1c96ed",
   "metadata": {},
   "outputs": [
    {
     "name": "stdout",
     "output_type": "stream",
     "text": [
      "(1, 'tuple', 3.14)\n"
     ]
    }
   ],
   "source": [
    "# A tuple with mixed data types\n",
    "t1 = (1, \"tuple\", 3.14)\n",
    "print(t1)"
   ]
  },
  {
   "cell_type": "code",
   "execution_count": 40,
   "id": "1dbbed75-7771-4abc-84bb-236d90ad6c83",
   "metadata": {},
   "outputs": [
    {
     "name": "stdout",
     "output_type": "stream",
     "text": [
      "(5,)\n"
     ]
    }
   ],
   "source": [
    "# A single element tuple (remember the comma)\n",
    "single_element_tuple = (5,)\n",
    "print(single_element_tuple) "
   ]
  },
  {
   "cell_type": "code",
   "execution_count": 44,
   "id": "6dfa8dc5-d3ed-4ef2-b9e2-b689f950e1bb",
   "metadata": {},
   "outputs": [
    {
     "data": {
      "text/plain": [
       "2"
      ]
     },
     "execution_count": 44,
     "metadata": {},
     "output_type": "execute_result"
    }
   ],
   "source": [
    "t.index(3)"
   ]
  },
  {
   "cell_type": "code",
   "execution_count": 46,
   "id": "383f16fb-6503-4fd4-a7f8-c3acf033bb2d",
   "metadata": {},
   "outputs": [
    {
     "data": {
      "text/plain": [
       "7"
      ]
     },
     "execution_count": 46,
     "metadata": {},
     "output_type": "execute_result"
    }
   ],
   "source": [
    "t.index(8)"
   ]
  },
  {
   "cell_type": "code",
   "execution_count": 48,
   "id": "914a3e4f-3412-4b4b-870d-a86adfff7cff",
   "metadata": {},
   "outputs": [
    {
     "ename": "ValueError",
     "evalue": "tuple.index(x): x not in tuple",
     "output_type": "error",
     "traceback": [
      "\u001b[1;31m---------------------------------------------------------------------------\u001b[0m",
      "\u001b[1;31mValueError\u001b[0m                                Traceback (most recent call last)",
      "Cell \u001b[1;32mIn[48], line 1\u001b[0m\n\u001b[1;32m----> 1\u001b[0m t\u001b[38;5;241m.\u001b[39mindex(\u001b[38;5;241m25\u001b[39m)\n",
      "\u001b[1;31mValueError\u001b[0m: tuple.index(x): x not in tuple"
     ]
    }
   ],
   "source": [
    "t.index(25)"
   ]
  },
  {
   "cell_type": "code",
   "execution_count": 52,
   "id": "b32a02f2-4a8e-4c9d-9dd8-f896dcf74e89",
   "metadata": {},
   "outputs": [],
   "source": [
    "t2=(1,2,3,4.5,3,5.5,6.8,9,0,'praveen',1+2j)"
   ]
  },
  {
   "cell_type": "code",
   "execution_count": 54,
   "id": "b2c83081-7c61-43cb-886b-b999fd48e377",
   "metadata": {},
   "outputs": [
    {
     "data": {
      "text/plain": [
       "(1, 2, 3, 4.5, 3, 5.5, 6.8, 9, 0, 'praveen', (1+2j))"
      ]
     },
     "execution_count": 54,
     "metadata": {},
     "output_type": "execute_result"
    }
   ],
   "source": [
    "t2"
   ]
  },
  {
   "cell_type": "code",
   "execution_count": 56,
   "id": "c01bd903-df2e-4f37-95df-21c45e57442f",
   "metadata": {},
   "outputs": [
    {
     "data": {
      "text/plain": [
       "2"
      ]
     },
     "execution_count": 56,
     "metadata": {},
     "output_type": "execute_result"
    }
   ],
   "source": [
    "t2.count(3)"
   ]
  },
  {
   "cell_type": "code",
   "execution_count": 58,
   "id": "58a65488-d162-4eeb-8ecb-e4d38f0fe3a4",
   "metadata": {},
   "outputs": [
    {
     "data": {
      "text/plain": [
       "(1, 2, 3, 4.5, 3, 5.5, 6.8, 9, 0, 'praveen', (1+2j))"
      ]
     },
     "execution_count": 58,
     "metadata": {},
     "output_type": "execute_result"
    }
   ],
   "source": [
    "t2"
   ]
  },
  {
   "cell_type": "code",
   "execution_count": 60,
   "id": "203f86b9-95fb-4037-979c-c1fcef1108de",
   "metadata": {},
   "outputs": [
    {
     "data": {
      "text/plain": [
       "1"
      ]
     },
     "execution_count": 60,
     "metadata": {},
     "output_type": "execute_result"
    }
   ],
   "source": [
    "t2.count(1)"
   ]
  },
  {
   "cell_type": "code",
   "execution_count": 62,
   "id": "8b23ddc9-6b79-45f0-9c28-ce053353fe5a",
   "metadata": {},
   "outputs": [
    {
     "data": {
      "text/plain": [
       "1"
      ]
     },
     "execution_count": 62,
     "metadata": {},
     "output_type": "execute_result"
    }
   ],
   "source": [
    "t2.count('praveen')"
   ]
  },
  {
   "cell_type": "code",
   "execution_count": 64,
   "id": "10bd3117-233f-4020-9093-dfd8867ae4ea",
   "metadata": {},
   "outputs": [
    {
     "data": {
      "text/plain": [
       "0"
      ]
     },
     "execution_count": 64,
     "metadata": {},
     "output_type": "execute_result"
    }
   ],
   "source": [
    "t2.count(4.4)"
   ]
  },
  {
   "cell_type": "code",
   "execution_count": 67,
   "id": "41457f88-7fb6-4aa5-9370-cd0e18482671",
   "metadata": {},
   "outputs": [
    {
     "data": {
      "text/plain": [
       "4.5"
      ]
     },
     "execution_count": 67,
     "metadata": {},
     "output_type": "execute_result"
    }
   ],
   "source": [
    "t2[3]"
   ]
  },
  {
   "cell_type": "code",
   "execution_count": 71,
   "id": "19279636-025e-4a36-b264-137c7fa7a3bd",
   "metadata": {
    "jp-MarkdownHeadingCollapsed": true
   },
   "outputs": [
    {
     "data": {
      "text/plain": [
       "9"
      ]
     },
     "execution_count": 71,
     "metadata": {},
     "output_type": "execute_result"
    }
   ],
   "source": [
    "t2[-4]"
   ]
  },
  {
   "cell_type": "code",
   "execution_count": 92,
   "id": "dbcff7be-4ecb-4ccd-86be-3a6c34d8c3db",
   "metadata": {},
   "outputs": [
    {
     "data": {
      "text/plain": [
       "(1, 2, 3, 4.5, 3, 5.5, 6.8, 9, 0, 'praveen', (1+2j))"
      ]
     },
     "execution_count": 92,
     "metadata": {},
     "output_type": "execute_result"
    }
   ],
   "source": [
    "t2"
   ]
  },
  {
   "cell_type": "code",
   "execution_count": 90,
   "id": "fabb513e-292c-407b-b779-657e6e192f42",
   "metadata": {},
   "outputs": [
    {
     "data": {
      "text/plain": [
       "11"
      ]
     },
     "execution_count": 90,
     "metadata": {},
     "output_type": "execute_result"
    }
   ],
   "source": [
    "len(t2)"
   ]
  },
  {
   "cell_type": "code",
   "execution_count": 94,
   "id": "6c4afb2c-fb25-487d-8535-47415e86a3d7",
   "metadata": {},
   "outputs": [
    {
     "data": {
      "text/plain": [
       "(1, 2, 3, 4, 5, 6, 7, 8)"
      ]
     },
     "execution_count": 94,
     "metadata": {},
     "output_type": "execute_result"
    }
   ],
   "source": [
    "t\n"
   ]
  },
  {
   "cell_type": "code",
   "execution_count": 96,
   "id": "fd065285-e573-47c8-bce4-92cbd0f5acfe",
   "metadata": {},
   "outputs": [
    {
     "data": {
      "text/plain": [
       "3"
      ]
     },
     "execution_count": 96,
     "metadata": {},
     "output_type": "execute_result"
    }
   ],
   "source": [
    "len(t1)"
   ]
  },
  {
   "cell_type": "code",
   "execution_count": 98,
   "id": "5e2f0cd3-03ad-4a6e-8725-6d71a32b9172",
   "metadata": {},
   "outputs": [
    {
     "data": {
      "text/plain": [
       "(1, 2, 3, 4, 5, 6, 7, 8)"
      ]
     },
     "execution_count": 98,
     "metadata": {},
     "output_type": "execute_result"
    }
   ],
   "source": [
    "t\n"
   ]
  },
  {
   "cell_type": "code",
   "execution_count": 100,
   "id": "81ce3f6d-33fa-4037-bf49-9a3f489a097c",
   "metadata": {},
   "outputs": [
    {
     "data": {
      "text/plain": [
       "8"
      ]
     },
     "execution_count": 100,
     "metadata": {},
     "output_type": "execute_result"
    }
   ],
   "source": [
    "len(t)"
   ]
  },
  {
   "cell_type": "code",
   "execution_count": 102,
   "id": "738b84f5-42bc-42df-9071-7b62ec907102",
   "metadata": {},
   "outputs": [
    {
     "name": "stdout",
     "output_type": "stream",
     "text": [
      "(1, 2, 3, 4, 5, 6, 7, 8)\n",
      "(1, 'tuple', 3.14)\n",
      "(1, 2, 3, 4.5, 3, 5.5, 6.8, 9, 0, 'praveen', (1+2j))\n"
     ]
    }
   ],
   "source": [
    "print(t)\n",
    "print(t1)\n",
    "print(t2)"
   ]
  },
  {
   "cell_type": "code",
   "execution_count": 109,
   "id": "3a220557-7b6a-4602-9c1a-2e6e7b52bc7a",
   "metadata": {},
   "outputs": [
    {
     "name": "stdout",
     "output_type": "stream",
     "text": [
      "1\n",
      "8\n"
     ]
    }
   ],
   "source": [
    "print(min(t))\n",
    "print(max(t))"
   ]
  },
  {
   "cell_type": "code",
   "execution_count": 111,
   "id": "6bfd0e24-cbdd-404a-a956-137dab7fd766",
   "metadata": {},
   "outputs": [
    {
     "ename": "TypeError",
     "evalue": "'<' not supported between instances of 'str' and 'int'",
     "output_type": "error",
     "traceback": [
      "\u001b[1;31m---------------------------------------------------------------------------\u001b[0m",
      "\u001b[1;31mTypeError\u001b[0m                                 Traceback (most recent call last)",
      "Cell \u001b[1;32mIn[111], line 1\u001b[0m\n\u001b[1;32m----> 1\u001b[0m \u001b[38;5;28mprint\u001b[39m(\u001b[38;5;28mmin\u001b[39m(t2))\n\u001b[0;32m      2\u001b[0m \u001b[38;5;28mprint\u001b[39m(\u001b[38;5;28mmax\u001b[39m(t2))\n",
      "\u001b[1;31mTypeError\u001b[0m: '<' not supported between instances of 'str' and 'int'"
     ]
    }
   ],
   "source": [
    "print(min(t2))\n",
    "print(max(t2))"
   ]
  },
  {
   "cell_type": "code",
   "execution_count": 113,
   "id": "7d4563e0-797f-4646-97c8-4befa99c09e1",
   "metadata": {},
   "outputs": [
    {
     "name": "stdout",
     "output_type": "stream",
     "text": [
      "(1, 2, 3, 4, 5, 6, 7, 8)\n",
      "(1, 'tuple', 3.14)\n",
      "(1, 2, 3, 4.5, 3, 5.5, 6.8, 9, 0, 'praveen', (1+2j))\n"
     ]
    }
   ],
   "source": [
    "print(t)\n",
    "print(t1)\n",
    "print(t2)"
   ]
  },
  {
   "cell_type": "code",
   "execution_count": 119,
   "id": "3d961b84-580e-49d5-9a75-af658aca81e6",
   "metadata": {},
   "outputs": [
    {
     "data": {
      "text/plain": [
       "36"
      ]
     },
     "execution_count": 119,
     "metadata": {},
     "output_type": "execute_result"
    }
   ],
   "source": [
    "total=sum(t)\n",
    "total"
   ]
  },
  {
   "cell_type": "code",
   "execution_count": 121,
   "id": "4510d222-c87e-4dfb-b7f1-8e780a401ef4",
   "metadata": {},
   "outputs": [
    {
     "ename": "TypeError",
     "evalue": "unsupported operand type(s) for +: 'float' and 'str'",
     "output_type": "error",
     "traceback": [
      "\u001b[1;31m---------------------------------------------------------------------------\u001b[0m",
      "\u001b[1;31mTypeError\u001b[0m                                 Traceback (most recent call last)",
      "Cell \u001b[1;32mIn[121], line 1\u001b[0m\n\u001b[1;32m----> 1\u001b[0m total1\u001b[38;5;241m=\u001b[39m\u001b[38;5;28msum\u001b[39m(t2)\n\u001b[0;32m      2\u001b[0m total1\n",
      "\u001b[1;31mTypeError\u001b[0m: unsupported operand type(s) for +: 'float' and 'str'"
     ]
    }
   ],
   "source": [
    "total1=sum(t2)\n",
    "total1"
   ]
  },
  {
   "cell_type": "code",
   "execution_count": 125,
   "id": "399e98c8-271d-48ea-acb9-4f125675b268",
   "metadata": {},
   "outputs": [
    {
     "data": {
      "text/plain": [
       "(0, 9, 8, 7, 6, 5, 4, 3, 2, 1)"
      ]
     },
     "execution_count": 125,
     "metadata": {},
     "output_type": "execute_result"
    }
   ],
   "source": [
    "list=[0,9,8,7,6,5,4,3,2,1]\n",
    "t5=tuple(list)     # The tuple() function is used to convert other iterable types (like lists) into a tuple.\n",
    "t5"
   ]
  },
  {
   "cell_type": "code",
   "execution_count": 130,
   "id": "58ada673-7101-47c4-90f3-35ab71a1bc7d",
   "metadata": {},
   "outputs": [
    {
     "name": "stdout",
     "output_type": "stream",
     "text": [
      "(1, 2, 3, 4, 5, 6, 7, 8)\n",
      "(1, 'tuple', 3.14)\n",
      "(1, 2, 3, 4.5, 3, 5.5, 6.8, 9, 0, 'praveen', (1+2j))\n"
     ]
    }
   ],
   "source": [
    "print(t)\n",
    "print(t1)\n",
    "print(t2)"
   ]
  },
  {
   "cell_type": "code",
   "execution_count": 132,
   "id": "a6f5a18c-df89-45b1-8503-d7b38c414723",
   "metadata": {},
   "outputs": [
    {
     "data": {
      "text/plain": [
       "(1,\n",
       " 2,\n",
       " 3,\n",
       " 4,\n",
       " 5,\n",
       " 6,\n",
       " 7,\n",
       " 8,\n",
       " 1,\n",
       " 'tuple',\n",
       " 3.14,\n",
       " 1,\n",
       " 2,\n",
       " 3,\n",
       " 4.5,\n",
       " 3,\n",
       " 5.5,\n",
       " 6.8,\n",
       " 9,\n",
       " 0,\n",
       " 'praveen',\n",
       " (1+2j))"
      ]
     },
     "execution_count": 132,
     "metadata": {},
     "output_type": "execute_result"
    }
   ],
   "source": [
    "t3=t+t1+t2  # The + operator can be used to concatenate two tuples. This does not modify the original tuples but returns a new one.\n",
    "t3"
   ]
  },
  {
   "cell_type": "code",
   "execution_count": null,
   "id": "9eded718-7490-4504-ac30-35f9b70b0d75",
   "metadata": {},
   "outputs": [],
   "source": []
  },
  {
   "cell_type": "code",
   "execution_count": 135,
   "id": "d99f8d92-5e08-4b26-9fc5-f85c499bd0e6",
   "metadata": {},
   "outputs": [
    {
     "data": {
      "text/plain": [
       "(1, 2, 3, 4, 5, 6, 7, 8)"
      ]
     },
     "execution_count": 135,
     "metadata": {},
     "output_type": "execute_result"
    }
   ],
   "source": [
    "t"
   ]
  },
  {
   "cell_type": "code",
   "execution_count": 139,
   "id": "cbd9d1fb-0154-48e5-a3d5-8c9a040bccbd",
   "metadata": {},
   "outputs": [
    {
     "data": {
      "text/plain": [
       "(1, 2, 3, 4, 5, 6, 7, 8, 1, 2, 3, 4, 5, 6, 7, 8)"
      ]
     },
     "execution_count": 139,
     "metadata": {},
     "output_type": "execute_result"
    }
   ],
   "source": [
    "t6=t*2  # The * operator can be used to repeat a tuple multiple times.\n",
    "t6"
   ]
  },
  {
   "cell_type": "code",
   "execution_count": 141,
   "id": "9637c6d8-1693-4a57-90ba-d0eb7031588d",
   "metadata": {},
   "outputs": [
    {
     "data": {
      "text/plain": [
       "(1, 'tuple', 3.14)"
      ]
     },
     "execution_count": 141,
     "metadata": {},
     "output_type": "execute_result"
    }
   ],
   "source": [
    "t1"
   ]
  },
  {
   "cell_type": "code",
   "execution_count": 145,
   "id": "43e999d3-63ef-4a9e-925c-aa213d823d54",
   "metadata": {},
   "outputs": [
    {
     "data": {
      "text/plain": [
       "(1,\n",
       " 'tuple',\n",
       " 3.14,\n",
       " 1,\n",
       " 'tuple',\n",
       " 3.14,\n",
       " 1,\n",
       " 'tuple',\n",
       " 3.14,\n",
       " 1,\n",
       " 'tuple',\n",
       " 3.14,\n",
       " 1,\n",
       " 'tuple',\n",
       " 3.14)"
      ]
     },
     "execution_count": 145,
     "metadata": {},
     "output_type": "execute_result"
    }
   ],
   "source": [
    "t7=t1*5\n",
    "t7"
   ]
  },
  {
   "cell_type": "code",
   "execution_count": 147,
   "id": "7c0f3c73-f618-49b4-9dde-ecee74621c65",
   "metadata": {},
   "outputs": [
    {
     "data": {
      "text/plain": [
       "(1, 2, 3, 4, 5, 6, 7, 8)"
      ]
     },
     "execution_count": 147,
     "metadata": {},
     "output_type": "execute_result"
    }
   ],
   "source": [
    "t"
   ]
  },
  {
   "cell_type": "code",
   "execution_count": 160,
   "id": "1def077f-56ef-498c-ad58-000624f3c646",
   "metadata": {},
   "outputs": [],
   "source": [
    "# The reversed() function returns an iterator that accesses the elements of the tuple in reverse order. This doesn’t modify the original tuple"
   ]
  },
  {
   "cell_type": "code",
   "execution_count": 153,
   "id": "7606f0b6-df60-4ca7-bd8e-abb3bf1d7ca1",
   "metadata": {},
   "outputs": [
    {
     "name": "stdout",
     "output_type": "stream",
     "text": [
      "(8, 7, 6, 5, 4, 3, 2, 1)\n"
     ]
    }
   ],
   "source": [
    "t8=reversed(t) \n",
    "t8\n",
    "t8=tuple(t8)\n",
    "print(t8)"
   ]
  },
  {
   "cell_type": "code",
   "execution_count": 155,
   "id": "9d203f5b-68d5-42d4-847c-3d5e2cc3437a",
   "metadata": {},
   "outputs": [
    {
     "data": {
      "text/plain": [
       "(8, 7, 6, 5, 4, 3, 2, 1)"
      ]
     },
     "execution_count": 155,
     "metadata": {},
     "output_type": "execute_result"
    }
   ],
   "source": [
    "t8"
   ]
  },
  {
   "cell_type": "code",
   "execution_count": 170,
   "id": "3df7465f-7060-42aa-b1c6-4a65e7880e5a",
   "metadata": {},
   "outputs": [],
   "source": [
    "t10=(1, 66,23, 83,64, 45, 96, 7, 98,92,44,66,21,2)\n"
   ]
  },
  {
   "cell_type": "code",
   "execution_count": 172,
   "id": "d1e48bd4-2b03-4daf-9049-6eb899b86b5f",
   "metadata": {},
   "outputs": [],
   "source": [
    "t9=sorted(t10)"
   ]
  },
  {
   "cell_type": "code",
   "execution_count": 174,
   "id": "bc49ee33-c214-4fdb-ba4d-de951e92b620",
   "metadata": {},
   "outputs": [
    {
     "data": {
      "text/plain": [
       "[1, 2, 7, 21, 23, 44, 45, 64, 66, 66, 83, 92, 96, 98]"
      ]
     },
     "execution_count": 174,
     "metadata": {},
     "output_type": "execute_result"
    }
   ],
   "source": [
    "t9"
   ]
  },
  {
   "cell_type": "code",
   "execution_count": 176,
   "id": "c6471717-19a6-4aca-8ac5-87e06b372135",
   "metadata": {},
   "outputs": [
    {
     "ename": "AttributeError",
     "evalue": "'tuple' object has no attribute 'sort'",
     "output_type": "error",
     "traceback": [
      "\u001b[1;31m---------------------------------------------------------------------------\u001b[0m",
      "\u001b[1;31mAttributeError\u001b[0m                            Traceback (most recent call last)",
      "Cell \u001b[1;32mIn[176], line 1\u001b[0m\n\u001b[1;32m----> 1\u001b[0m t10\u001b[38;5;241m.\u001b[39msort()\n",
      "\u001b[1;31mAttributeError\u001b[0m: 'tuple' object has no attribute 'sort'"
     ]
    }
   ],
   "source": [
    "t10.sort()"
   ]
  },
  {
   "cell_type": "code",
   "execution_count": null,
   "id": "bc7b38b0-4a98-44af-be67-4a80415abe05",
   "metadata": {},
   "outputs": [],
   "source": []
  },
  {
   "cell_type": "markdown",
   "id": "aba2ec3d-38c2-4f60-94b8-c20ddce7ffef",
   "metadata": {},
   "source": [
    "# TUPLE SLICING"
   ]
  },
  {
   "cell_type": "code",
   "execution_count": 158,
   "id": "29f0acae-2efc-493e-b480-19cb4ecc21ab",
   "metadata": {},
   "outputs": [
    {
     "name": "stdout",
     "output_type": "stream",
     "text": [
      "(1, 2, 3, 4, 5, 6, 7, 8)\n",
      "(1, 'tuple', 3.14)\n",
      "(1, 2, 3, 4.5, 3, 5.5, 6.8, 9, 0, 'praveen', (1+2j))\n"
     ]
    }
   ],
   "source": [
    "print(t)\n",
    "print(t1)\n",
    "print(t2)"
   ]
  },
  {
   "cell_type": "code",
   "execution_count": 178,
   "id": "f127af36-7a06-476e-8cdb-d4307415f7b3",
   "metadata": {},
   "outputs": [
    {
     "data": {
      "text/plain": [
       "(1, 66, 23, 83, 64, 45, 96, 7, 98, 92, 44, 66, 21, 2)"
      ]
     },
     "execution_count": 178,
     "metadata": {},
     "output_type": "execute_result"
    }
   ],
   "source": [
    "t10"
   ]
  },
  {
   "cell_type": "code",
   "execution_count": 180,
   "id": "7660b93a-2e51-442b-97a1-c41a546ba37a",
   "metadata": {},
   "outputs": [
    {
     "data": {
      "text/plain": [
       "(1, 66, 23, 83, 64, 45, 96, 7, 98, 92, 44)"
      ]
     },
     "execution_count": 180,
     "metadata": {},
     "output_type": "execute_result"
    }
   ],
   "source": [
    "t10[0:11]"
   ]
  },
  {
   "cell_type": "code",
   "execution_count": 182,
   "id": "1abfa1b1-ac5c-4ed4-a76b-5f75ecbe2179",
   "metadata": {},
   "outputs": [
    {
     "data": {
      "text/plain": [
       "(66, 23, 83, 64, 45, 96, 7, 98, 92, 44, 66, 21, 2)"
      ]
     },
     "execution_count": 182,
     "metadata": {},
     "output_type": "execute_result"
    }
   ],
   "source": [
    "t10[1:22]"
   ]
  },
  {
   "cell_type": "code",
   "execution_count": 184,
   "id": "38e1a6ff-718d-4739-b3d8-ccc18fb3becb",
   "metadata": {},
   "outputs": [
    {
     "data": {
      "text/plain": [
       "(66, 83, 45, 7, 92, 66)"
      ]
     },
     "execution_count": 184,
     "metadata": {},
     "output_type": "execute_result"
    }
   ],
   "source": [
    "t10[1:12:2]"
   ]
  },
  {
   "cell_type": "code",
   "execution_count": 188,
   "id": "8bd55ed1-cd44-473c-9361-f22096a8ab24",
   "metadata": {},
   "outputs": [
    {
     "ename": "SyntaxError",
     "evalue": "invalid syntax (432579687.py, line 1)",
     "output_type": "error",
     "traceback": [
      "\u001b[1;36m  Cell \u001b[1;32mIn[188], line 1\u001b[1;36m\u001b[0m\n\u001b[1;33m    t10[]\u001b[0m\n\u001b[1;37m        ^\u001b[0m\n\u001b[1;31mSyntaxError\u001b[0m\u001b[1;31m:\u001b[0m invalid syntax\n"
     ]
    }
   ],
   "source": [
    "t10[]"
   ]
  },
  {
   "cell_type": "code",
   "execution_count": 192,
   "id": "c8d0c7af-66dc-4185-89cb-e3523cc00518",
   "metadata": {},
   "outputs": [
    {
     "data": {
      "text/plain": [
       "(83, 45, 7, 92, 66)"
      ]
     },
     "execution_count": 192,
     "metadata": {},
     "output_type": "execute_result"
    }
   ],
   "source": [
    "t10[-11:-1:2]"
   ]
  },
  {
   "cell_type": "code",
   "execution_count": 194,
   "id": "77d48b39-8ff7-43f8-9959-70153319de2b",
   "metadata": {},
   "outputs": [
    {
     "data": {
      "text/plain": [
       "(2, 21, 66, 44, 92, 98, 7, 96, 45, 64, 83, 23, 66, 1)"
      ]
     },
     "execution_count": 194,
     "metadata": {},
     "output_type": "execute_result"
    }
   ],
   "source": [
    "t10[::-1]"
   ]
  },
  {
   "cell_type": "code",
   "execution_count": 196,
   "id": "249bfe7b-5027-41b3-804a-932f817be44a",
   "metadata": {},
   "outputs": [
    {
     "data": {
      "text/plain": [
       "(66, 23, 83, 64, 45, 96, 7, 98, 92, 44, 66, 21)"
      ]
     },
     "execution_count": 196,
     "metadata": {},
     "output_type": "execute_result"
    }
   ],
   "source": [
    "t10[-13:-1:1]"
   ]
  },
  {
   "cell_type": "code",
   "execution_count": 198,
   "id": "eab629b9-ea72-4a8f-987d-b8d8fbdbee87",
   "metadata": {},
   "outputs": [
    {
     "data": {
      "text/plain": [
       "()"
      ]
     },
     "execution_count": 198,
     "metadata": {},
     "output_type": "execute_result"
    }
   ],
   "source": [
    "t10[-13:0:1]"
   ]
  },
  {
   "cell_type": "code",
   "execution_count": 200,
   "id": "1e685c24-88ca-431d-8378-fe6f624f324b",
   "metadata": {},
   "outputs": [
    {
     "data": {
      "text/plain": [
       "(1, 66, 23, 83, 64, 45, 96, 7, 98, 92, 44, 66, 21, 2)"
      ]
     },
     "execution_count": 200,
     "metadata": {},
     "output_type": "execute_result"
    }
   ],
   "source": [
    "t10"
   ]
  },
  {
   "cell_type": "code",
   "execution_count": 204,
   "id": "5758a535-5f9d-4acb-a1ce-3a1d5f22b4ca",
   "metadata": {},
   "outputs": [
    {
     "data": {
      "text/plain": [
       "(1, 66)"
      ]
     },
     "execution_count": 204,
     "metadata": {},
     "output_type": "execute_result"
    }
   ],
   "source": [
    "t10[-14:2:1]"
   ]
  },
  {
   "cell_type": "code",
   "execution_count": 208,
   "id": "f370c1f0-23a0-4aee-9d9f-dec0d8a64a90",
   "metadata": {},
   "outputs": [
    {
     "data": {
      "text/plain": [
       "(1, 66, 23, 83, 64, 45, 96, 7, 98, 92, 44, 66, 21, 2)"
      ]
     },
     "execution_count": 208,
     "metadata": {},
     "output_type": "execute_result"
    }
   ],
   "source": [
    "t10[-14::1]"
   ]
  },
  {
   "cell_type": "code",
   "execution_count": null,
   "id": "6cdb99ee-3dc0-4600-9f53-07618ad1b133",
   "metadata": {},
   "outputs": [],
   "source": []
  },
  {
   "cell_type": "code",
   "execution_count": 212,
   "id": "33c397ce-4bc7-4b47-954f-8e0bb726a0e9",
   "metadata": {},
   "outputs": [
    {
     "name": "stdout",
     "output_type": "stream",
     "text": [
      "(1, 66, 23, 83, 64, 45, 96, 7, 98, 92, 44, 66, 21, 2)\n",
      "(1, 66, 23, 83, 64, 45, 96, 7, 98, 92, 44, 66, 21, 2)\n",
      "(1, 66, 23, 83, 64, 45, 96, 7, 98, 92, 44, 66, 21, 2)\n",
      "(1, 66, 23, 83, 64, 45, 96, 7, 98, 92, 44, 66, 21, 2)\n",
      "(1, 66, 23, 83, 64, 45, 96, 7, 98, 92, 44, 66, 21, 2)\n",
      "(1, 66, 23, 83, 64, 45, 96, 7, 98, 92, 44, 66, 21, 2)\n",
      "(1, 66, 23, 83, 64, 45, 96, 7, 98, 92, 44, 66, 21, 2)\n",
      "(1, 66, 23, 83, 64, 45, 96, 7, 98, 92, 44, 66, 21, 2)\n",
      "(1, 66, 23, 83, 64, 45, 96, 7, 98, 92, 44, 66, 21, 2)\n",
      "(1, 66, 23, 83, 64, 45, 96, 7, 98, 92, 44, 66, 21, 2)\n",
      "(1, 66, 23, 83, 64, 45, 96, 7, 98, 92, 44, 66, 21, 2)\n",
      "(1, 66, 23, 83, 64, 45, 96, 7, 98, 92, 44, 66, 21, 2)\n",
      "(1, 66, 23, 83, 64, 45, 96, 7, 98, 92, 44, 66, 21, 2)\n",
      "(1, 66, 23, 83, 64, 45, 96, 7, 98, 92, 44, 66, 21, 2)\n"
     ]
    }
   ],
   "source": [
    "for i in t10:\n",
    "  print(t10)"
   ]
  },
  {
   "cell_type": "code",
   "execution_count": 214,
   "id": "506b168c-d6df-4c87-9ca3-541cd913f9d2",
   "metadata": {},
   "outputs": [
    {
     "name": "stdout",
     "output_type": "stream",
     "text": [
      "1\n",
      "66\n",
      "23\n",
      "83\n",
      "64\n",
      "45\n",
      "96\n",
      "7\n",
      "98\n",
      "92\n",
      "44\n",
      "66\n",
      "21\n",
      "2\n"
     ]
    }
   ],
   "source": [
    "for i in t10:\n",
    "  print(i)"
   ]
  },
  {
   "cell_type": "code",
   "execution_count": 216,
   "id": "e6fea46f-d9bd-4a21-82ad-759058803400",
   "metadata": {},
   "outputs": [
    {
     "name": "stdout",
     "output_type": "stream",
     "text": [
      "(0, 1)\n",
      "(1, 66)\n",
      "(2, 23)\n",
      "(3, 83)\n",
      "(4, 64)\n",
      "(5, 45)\n",
      "(6, 96)\n",
      "(7, 7)\n",
      "(8, 98)\n",
      "(9, 92)\n",
      "(10, 44)\n",
      "(11, 66)\n",
      "(12, 21)\n",
      "(13, 2)\n"
     ]
    }
   ],
   "source": [
    "for i in enumerate(t10):\n",
    "    print(i)"
   ]
  },
  {
   "cell_type": "code",
   "execution_count": null,
   "id": "c98d8f2a-b480-4c69-96da-37d05b564dcb",
   "metadata": {},
   "outputs": [],
   "source": []
  },
  {
   "cell_type": "markdown",
   "id": "c60538a2-1073-47ea-963b-9a1c92031ee1",
   "metadata": {},
   "source": [
    "# BITWISE OPERATOR"
   ]
  },
  {
   "cell_type": "markdown",
   "id": "ab25816e-3691-4593-9fb1-d88490d20c73",
   "metadata": {},
   "source": [
    "# AND(&) "
   ]
  },
  {
   "cell_type": "markdown",
   "id": "f1c7564d-81c4-440c-b6d9-f51002333904",
   "metadata": {},
   "source": [
    "# The AND operator compares each corresponding bit of two numbers. If both bits are 1, the result is 1; otherwise, it's 0."
   ]
  },
  {
   "cell_type": "code",
   "execution_count": 225,
   "id": "1dd6572a-210e-4a0b-b2eb-96ae7e9c8a6b",
   "metadata": {},
   "outputs": [],
   "source": [
    "a=35\n",
    "b=80"
   ]
  },
  {
   "cell_type": "code",
   "execution_count": 241,
   "id": "adebb553-ef79-4a3b-9816-bf426ed7b61c",
   "metadata": {},
   "outputs": [
    {
     "data": {
      "text/plain": [
       "0"
      ]
     },
     "execution_count": 241,
     "metadata": {},
     "output_type": "execute_result"
    }
   ],
   "source": [
    "a&b"
   ]
  },
  {
   "cell_type": "code",
   "execution_count": 229,
   "id": "a9b1ed81-22dd-4b39-8d31-9a67dd0d8ab1",
   "metadata": {},
   "outputs": [
    {
     "data": {
      "text/plain": [
       "0"
      ]
     },
     "execution_count": 229,
     "metadata": {},
     "output_type": "execute_result"
    }
   ],
   "source": [
    "b&a"
   ]
  },
  {
   "cell_type": "code",
   "execution_count": 231,
   "id": "8e8a88da-9a6c-4d25-8aa3-d148e6bc5112",
   "metadata": {},
   "outputs": [
    {
     "name": "stdout",
     "output_type": "stream",
     "text": [
      "0b100011\n",
      "0b1010000\n"
     ]
    }
   ],
   "source": [
    "print(bin(35))\n",
    "print(bin(80))"
   ]
  },
  {
   "cell_type": "code",
   "execution_count": 243,
   "id": "b17982cd-6534-4060-b76c-b27468bf9f60",
   "metadata": {},
   "outputs": [],
   "source": [
    "c=64\n",
    "d=25"
   ]
  },
  {
   "cell_type": "code",
   "execution_count": 245,
   "id": "9f98bae9-eb81-4bf3-9a7f-ee5be4e518fa",
   "metadata": {},
   "outputs": [
    {
     "data": {
      "text/plain": [
       "0"
      ]
     },
     "execution_count": 245,
     "metadata": {},
     "output_type": "execute_result"
    }
   ],
   "source": [
    "c&d"
   ]
  },
  {
   "cell_type": "code",
   "execution_count": 247,
   "id": "91b170d1-1ed9-4a50-a5a4-d226c0c0287c",
   "metadata": {},
   "outputs": [
    {
     "data": {
      "text/plain": [
       "0"
      ]
     },
     "execution_count": 247,
     "metadata": {},
     "output_type": "execute_result"
    }
   ],
   "source": [
    "d & c"
   ]
  },
  {
   "cell_type": "code",
   "execution_count": 249,
   "id": "66b547fd-ad91-435c-87c7-1b850c00dccd",
   "metadata": {},
   "outputs": [],
   "source": [
    "a1=5\n",
    "b1=3"
   ]
  },
  {
   "cell_type": "code",
   "execution_count": 253,
   "id": "7d72c97a-5cac-43f7-97c0-a035fca759b7",
   "metadata": {},
   "outputs": [
    {
     "data": {
      "text/plain": [
       "1"
      ]
     },
     "execution_count": 253,
     "metadata": {},
     "output_type": "execute_result"
    }
   ],
   "source": [
    "a1 & b1"
   ]
  },
  {
   "cell_type": "code",
   "execution_count": null,
   "id": "d3e81d3d-041c-4d54-a051-9f9dff1f2cd4",
   "metadata": {},
   "outputs": [],
   "source": []
  },
  {
   "cell_type": "markdown",
   "id": "7963376b-136d-4603-a753-30035bae5161",
   "metadata": {},
   "source": [
    "# OR(|)"
   ]
  },
  {
   "cell_type": "markdown",
   "id": "0a8d352c-819d-47a2-878e-6590fc12e0b3",
   "metadata": {},
   "source": [
    "The OR operator compares each corresponding bit of two numbers. If at least one bit is 1, the result is 1; otherwise, it's 0."
   ]
  },
  {
   "cell_type": "code",
   "execution_count": 256,
   "id": "d068b02e-ad30-4e0f-8b27-d094ea9c771b",
   "metadata": {},
   "outputs": [
    {
     "data": {
      "text/plain": [
       "(35, 80)"
      ]
     },
     "execution_count": 256,
     "metadata": {},
     "output_type": "execute_result"
    }
   ],
   "source": [
    "a,b"
   ]
  },
  {
   "cell_type": "code",
   "execution_count": 258,
   "id": "d329d43c-de3e-464e-b3d7-26898c4b38ec",
   "metadata": {},
   "outputs": [
    {
     "data": {
      "text/plain": [
       "115"
      ]
     },
     "execution_count": 258,
     "metadata": {},
     "output_type": "execute_result"
    }
   ],
   "source": [
    "a|b"
   ]
  },
  {
   "cell_type": "code",
   "execution_count": 260,
   "id": "6d2ad15d-08bc-46aa-ab82-18d6fc4625cb",
   "metadata": {},
   "outputs": [
    {
     "data": {
      "text/plain": [
       "115"
      ]
     },
     "execution_count": 260,
     "metadata": {},
     "output_type": "execute_result"
    }
   ],
   "source": [
    "b|a"
   ]
  },
  {
   "cell_type": "code",
   "execution_count": 262,
   "id": "a07a41e5-2230-44c7-a1a0-52b61fb0c31a",
   "metadata": {},
   "outputs": [
    {
     "data": {
      "text/plain": [
       "(64, 25)"
      ]
     },
     "execution_count": 262,
     "metadata": {},
     "output_type": "execute_result"
    }
   ],
   "source": [
    "c,d"
   ]
  },
  {
   "cell_type": "code",
   "execution_count": 264,
   "id": "5a316e46-bd52-4f08-b8ee-d04ccf7e0cbe",
   "metadata": {},
   "outputs": [
    {
     "data": {
      "text/plain": [
       "89"
      ]
     },
     "execution_count": 264,
     "metadata": {},
     "output_type": "execute_result"
    }
   ],
   "source": [
    "d|c"
   ]
  },
  {
   "cell_type": "code",
   "execution_count": null,
   "id": "de16ba79-bed0-4497-8367-a7920b99f13d",
   "metadata": {},
   "outputs": [],
   "source": []
  },
  {
   "cell_type": "markdown",
   "id": "222e2e6c-cef5-4e4b-9d09-f94ee724b9e7",
   "metadata": {},
   "source": [
    "# XOR(^)"
   ]
  },
  {
   "cell_type": "markdown",
   "id": "0c8c817a-9840-46f6-afbe-bb55f1c2e6dd",
   "metadata": {},
   "source": [
    "The XOR (exclusive OR) operator compares each corresponding bit of two numbers. If the bits are different, the result is 1; if they are the same, the result is 0."
   ]
  },
  {
   "cell_type": "code",
   "execution_count": 268,
   "id": "fb1b2b83-705f-4bf7-a445-9816728470ed",
   "metadata": {},
   "outputs": [
    {
     "data": {
      "text/plain": [
       "(35, 80, 64, 25)"
      ]
     },
     "execution_count": 268,
     "metadata": {},
     "output_type": "execute_result"
    }
   ],
   "source": [
    "a,b,c,d"
   ]
  },
  {
   "cell_type": "code",
   "execution_count": 270,
   "id": "5a8ed29c-6f01-45f4-98b4-dd60c71efc0a",
   "metadata": {},
   "outputs": [
    {
     "data": {
      "text/plain": [
       "99"
      ]
     },
     "execution_count": 270,
     "metadata": {},
     "output_type": "execute_result"
    }
   ],
   "source": [
    "a^c"
   ]
  },
  {
   "cell_type": "code",
   "execution_count": 274,
   "id": "28caac59-e484-459b-94ea-fca141d42067",
   "metadata": {},
   "outputs": [
    {
     "data": {
      "text/plain": [
       "89"
      ]
     },
     "execution_count": 274,
     "metadata": {},
     "output_type": "execute_result"
    }
   ],
   "source": [
    "c^d"
   ]
  },
  {
   "cell_type": "code",
   "execution_count": 276,
   "id": "b5169008-d89e-41de-a88d-5680bc85d176",
   "metadata": {},
   "outputs": [
    {
     "data": {
      "text/plain": [
       "99"
      ]
     },
     "execution_count": 276,
     "metadata": {},
     "output_type": "execute_result"
    }
   ],
   "source": [
    "c^a"
   ]
  },
  {
   "cell_type": "markdown",
   "id": "a31b9df7-b3b9-4019-abc7-7376a6ccc0cc",
   "metadata": {},
   "source": [
    "# NOT(~)"
   ]
  },
  {
   "cell_type": "markdown",
   "id": "25b20f84-8ce6-400b-8971-23ee4787d558",
   "metadata": {},
   "source": [
    "The NOT operator inverts the bits of a number. It flips 1s to 0s and 0s to 1s. In Python, this is implemented as the two's complement, so it effectively gives -x - 1 for an integer x."
   ]
  },
  {
   "cell_type": "code",
   "execution_count": 281,
   "id": "64d558bc-0bd8-49b2-8468-abbb294c317d",
   "metadata": {},
   "outputs": [
    {
     "data": {
      "text/plain": [
       "35"
      ]
     },
     "execution_count": 281,
     "metadata": {},
     "output_type": "execute_result"
    }
   ],
   "source": [
    "a\n"
   ]
  },
  {
   "cell_type": "code",
   "execution_count": 283,
   "id": "de1291f0-fd1a-4ade-94ff-589ad23d3373",
   "metadata": {},
   "outputs": [
    {
     "data": {
      "text/plain": [
       "80"
      ]
     },
     "execution_count": 283,
     "metadata": {},
     "output_type": "execute_result"
    }
   ],
   "source": [
    "b"
   ]
  },
  {
   "cell_type": "code",
   "execution_count": 287,
   "id": "8cc948dd-bfe3-4084-980c-4c4e9c4677c6",
   "metadata": {},
   "outputs": [
    {
     "data": {
      "text/plain": [
       "-36"
      ]
     },
     "execution_count": 287,
     "metadata": {},
     "output_type": "execute_result"
    }
   ],
   "source": [
    "c1=~a\n",
    "c1"
   ]
  },
  {
   "cell_type": "code",
   "execution_count": 291,
   "id": "72d42540-fefe-44c0-843e-0e193694926c",
   "metadata": {},
   "outputs": [
    {
     "data": {
      "text/plain": [
       "-81"
      ]
     },
     "execution_count": 291,
     "metadata": {},
     "output_type": "execute_result"
    }
   ],
   "source": [
    "c2=~b\n",
    "c2"
   ]
  },
  {
   "cell_type": "code",
   "execution_count": null,
   "id": "9bd3d5d7-71d6-4e42-9f2c-3376649bc67e",
   "metadata": {},
   "outputs": [],
   "source": []
  },
  {
   "cell_type": "markdown",
   "id": "4f690bab-1da3-4bd6-8610-05ebf2ab6455",
   "metadata": {},
   "source": [
    "# LEFT SHIFT(<<)"
   ]
  },
  {
   "cell_type": "markdown",
   "id": "3ef17658-a351-4a99-9462-69df47b07610",
   "metadata": {},
   "source": [
    "The left shift operator shifts the bits of a number to the left by the specified number of positions. It effectively multiplies the number by 2 for each position shifted."
   ]
  },
  {
   "cell_type": "code",
   "execution_count": 295,
   "id": "52108078-2576-4d0b-b8db-5fed1da89a72",
   "metadata": {},
   "outputs": [
    {
     "name": "stdout",
     "output_type": "stream",
     "text": [
      "35\n",
      "80\n",
      "64\n",
      "25\n"
     ]
    }
   ],
   "source": [
    "print(a)\n",
    "print(b)\n",
    "print(c)\n",
    "print(d)"
   ]
  },
  {
   "cell_type": "code",
   "execution_count": 297,
   "id": "035ab8f4-1824-4c04-8e5a-423a9fab75f1",
   "metadata": {},
   "outputs": [
    {
     "data": {
      "text/plain": [
       "140"
      ]
     },
     "execution_count": 297,
     "metadata": {},
     "output_type": "execute_result"
    }
   ],
   "source": [
    "a<<2  # Shift left by 2 positions"
   ]
  },
  {
   "cell_type": "code",
   "execution_count": 299,
   "id": "e5a42082-214b-45c3-907f-fc1222e48fbb",
   "metadata": {},
   "outputs": [
    {
     "data": {
      "text/plain": [
       "'0b100011'"
      ]
     },
     "execution_count": 299,
     "metadata": {},
     "output_type": "execute_result"
    }
   ],
   "source": [
    "bin(a)"
   ]
  },
  {
   "cell_type": "code",
   "execution_count": 301,
   "id": "50684beb-578d-4c13-a588-3516aa79600f",
   "metadata": {},
   "outputs": [
    {
     "data": {
      "text/plain": [
       "'0b10001100'"
      ]
     },
     "execution_count": 301,
     "metadata": {},
     "output_type": "execute_result"
    }
   ],
   "source": [
    "bin(140)"
   ]
  },
  {
   "cell_type": "code",
   "execution_count": 303,
   "id": "7f604cd4-03ca-4c28-b05d-b35713196448",
   "metadata": {},
   "outputs": [
    {
     "data": {
      "text/plain": [
       "320"
      ]
     },
     "execution_count": 303,
     "metadata": {},
     "output_type": "execute_result"
    }
   ],
   "source": [
    "b<<2"
   ]
  },
  {
   "cell_type": "code",
   "execution_count": null,
   "id": "08f0f687-2d37-4194-b2f7-fe01daa30108",
   "metadata": {},
   "outputs": [],
   "source": []
  },
  {
   "cell_type": "markdown",
   "id": "2c331347-fbf1-4f54-b12c-2e6765fde500",
   "metadata": {},
   "source": [
    "# RIGHT SHIFT(>>)"
   ]
  },
  {
   "cell_type": "markdown",
   "id": "ce0d4b4f-4a99-4400-8cfd-11bf6823a14e",
   "metadata": {},
   "source": [
    "The right shift operator shifts the bits of a number to the right by the specified number of positions. It effectively divides the number by 2 for each position shifted, rounding down."
   ]
  },
  {
   "cell_type": "code",
   "execution_count": 307,
   "id": "2179424e-c11f-4c1d-ba12-2531e9f572cc",
   "metadata": {},
   "outputs": [
    {
     "name": "stdout",
     "output_type": "stream",
     "text": [
      "35\n",
      "80\n",
      "64\n",
      "25\n"
     ]
    }
   ],
   "source": [
    "print(a)\n",
    "print(b)\n",
    "print(c)\n",
    "print(d)"
   ]
  },
  {
   "cell_type": "code",
   "execution_count": 309,
   "id": "8c825a47-f9d7-450c-b6f5-66412cc20f07",
   "metadata": {},
   "outputs": [
    {
     "data": {
      "text/plain": [
       "17"
      ]
     },
     "execution_count": 309,
     "metadata": {},
     "output_type": "execute_result"
    }
   ],
   "source": [
    "a>>1"
   ]
  },
  {
   "cell_type": "code",
   "execution_count": 312,
   "id": "973f4b61-76f2-4ece-a793-7686c1cec9e5",
   "metadata": {},
   "outputs": [
    {
     "data": {
      "text/plain": [
       "10"
      ]
     },
     "execution_count": 312,
     "metadata": {},
     "output_type": "execute_result"
    }
   ],
   "source": [
    "b>>3"
   ]
  },
  {
   "cell_type": "code",
   "execution_count": 314,
   "id": "0992e727-a477-48d7-a873-c75393c02bc7",
   "metadata": {},
   "outputs": [
    {
     "data": {
      "text/plain": [
       "0"
      ]
     },
     "execution_count": 314,
     "metadata": {},
     "output_type": "execute_result"
    }
   ],
   "source": [
    "c>>10"
   ]
  },
  {
   "cell_type": "code",
   "execution_count": 316,
   "id": "02b742d9-743e-4523-9b94-5dbf5d7434c8",
   "metadata": {},
   "outputs": [
    {
     "data": {
      "text/plain": [
       "1"
      ]
     },
     "execution_count": 316,
     "metadata": {},
     "output_type": "execute_result"
    }
   ],
   "source": [
    "d>>4"
   ]
  },
  {
   "cell_type": "code",
   "execution_count": null,
   "id": "63c83c82-3645-4eca-b318-ee3cec9474f4",
   "metadata": {},
   "outputs": [],
   "source": []
  },
  {
   "cell_type": "code",
   "execution_count": null,
   "id": "c23b7f31-2d3e-4db5-885e-1cae854d767d",
   "metadata": {},
   "outputs": [],
   "source": []
  },
  {
   "cell_type": "code",
   "execution_count": null,
   "id": "c304a229-22b7-45cd-a00a-37834cea4021",
   "metadata": {},
   "outputs": [],
   "source": []
  },
  {
   "cell_type": "code",
   "execution_count": null,
   "id": "1d5e4759-3584-4c1c-b0c2-048574601c69",
   "metadata": {},
   "outputs": [],
   "source": []
  },
  {
   "cell_type": "code",
   "execution_count": null,
   "id": "fcd901ee-3c63-4f75-b4c2-9c026e2dd9af",
   "metadata": {},
   "outputs": [],
   "source": []
  },
  {
   "cell_type": "code",
   "execution_count": null,
   "id": "7e8ff84e-3127-4aac-954e-8c369f0c742d",
   "metadata": {},
   "outputs": [],
   "source": []
  },
  {
   "cell_type": "code",
   "execution_count": null,
   "id": "dbe41ff7-02cb-4cd3-9f34-1981849bf8a6",
   "metadata": {},
   "outputs": [],
   "source": []
  },
  {
   "cell_type": "code",
   "execution_count": null,
   "id": "fc500624-8f78-4976-bfab-85e0791cc695",
   "metadata": {},
   "outputs": [],
   "source": []
  },
  {
   "cell_type": "code",
   "execution_count": null,
   "id": "272a2994-ed0d-4329-b21d-e094d0bca2ae",
   "metadata": {},
   "outputs": [],
   "source": []
  }
 ],
 "metadata": {
  "kernelspec": {
   "display_name": "Python [conda env:base] *",
   "language": "python",
   "name": "conda-base-py"
  },
  "language_info": {
   "codemirror_mode": {
    "name": "ipython",
    "version": 3
   },
   "file_extension": ".py",
   "mimetype": "text/x-python",
   "name": "python",
   "nbconvert_exporter": "python",
   "pygments_lexer": "ipython3",
   "version": "3.12.7"
  }
 },
 "nbformat": 4,
 "nbformat_minor": 5
}
