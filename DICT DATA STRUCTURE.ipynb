{
 "cells": [
  {
   "cell_type": "markdown",
   "id": "a78e4717-b01b-445e-beeb-ec31d4db8078",
   "metadata": {},
   "source": [
    "# DICTIONARY"
   ]
  },
  {
   "cell_type": "markdown",
   "id": "44777d47-94f4-4f17-882d-0c2293950776",
   "metadata": {},
   "source": [
    "CREATING DICTIONARY"
   ]
  },
  {
   "cell_type": "code",
   "execution_count": 4,
   "id": "128ec265-7388-4d07-87fe-d3827fab92db",
   "metadata": {},
   "outputs": [
    {
     "data": {
      "text/plain": [
       "{}"
      ]
     },
     "execution_count": 4,
     "metadata": {},
     "output_type": "execute_result"
    }
   ],
   "source": [
    " d= dict() # empty dictionary \n",
    "d"
   ]
  },
  {
   "cell_type": "code",
   "execution_count": 6,
   "id": "6c6781f8-945e-4ecb-bbc0-820724f461d1",
   "metadata": {},
   "outputs": [
    {
     "data": {
      "text/plain": [
       "{}"
      ]
     },
     "execution_count": 6,
     "metadata": {},
     "output_type": "execute_result"
    }
   ],
   "source": [
    "d={}\n",
    "d"
   ]
  },
  {
   "cell_type": "code",
   "execution_count": 8,
   "id": "14173c4b-80c1-4699-8aa3-6994cd38dcab",
   "metadata": {},
   "outputs": [
    {
     "data": {
      "text/plain": [
       "{1: 'one', 2: 'two', 3: 'three'}"
      ]
     },
     "execution_count": 8,
     "metadata": {},
     "output_type": "execute_result"
    }
   ],
   "source": [
    "d={1:'one' , 2:'two' , 3:'three'} # dictionary with integer keys}\n",
    "d   "
   ]
  },
  {
   "cell_type": "code",
   "execution_count": 12,
   "id": "bdc9a96b-c4e3-46d3-a7d8-777d2789098c",
   "metadata": {},
   "outputs": [
    {
     "data": {
      "text/plain": [
       "{1: 'one', 2: 'two', 3: 'three'}"
      ]
     },
     "execution_count": 12,
     "metadata": {},
     "output_type": "execute_result"
    }
   ],
   "source": [
    "d1 = dict({1:'one' , 2:'two' , 3:'three'}) # Create dictionary using dict\n",
    "d1"
   ]
  },
  {
   "cell_type": "code",
   "execution_count": 14,
   "id": "fc667249-2478-42ca-9b2c-7284f57eafaa",
   "metadata": {},
   "outputs": [
    {
     "data": {
      "text/plain": [
       "{'A': 'one', 'B': 'two', 'C': 'three'}"
      ]
     },
     "execution_count": 14,
     "metadata": {},
     "output_type": "execute_result"
    }
   ],
   "source": [
    "d2 = {'A':'one' , 'B':'two' , 'C':'three'} # dictionary with character keys \n",
    "d2"
   ]
  },
  {
   "cell_type": "code",
   "execution_count": 16,
   "id": "1b275922-c5bb-48f9-9d41-b9426ddb838a",
   "metadata": {},
   "outputs": [
    {
     "data": {
      "text/plain": [
       "{1: 'one', 'A': 'two', 3: 'three'}"
      ]
     },
     "execution_count": 16,
     "metadata": {},
     "output_type": "execute_result"
    }
   ],
   "source": [
    " d3 = {1:'one' , 'A':'two' , 3:'three'} # dictionary with mixed keys \n",
    "d3"
   ]
  },
  {
   "cell_type": "code",
   "execution_count": 18,
   "id": "25ff6161-b293-4cd3-ba3d-c999a142c5e3",
   "metadata": {},
   "outputs": [
    {
     "data": {
      "text/plain": [
       "dict_keys([1, 2, 3])"
      ]
     },
     "execution_count": 18,
     "metadata": {},
     "output_type": "execute_result"
    }
   ],
   "source": [
    "d.keys()"
   ]
  },
  {
   "cell_type": "code",
   "execution_count": 20,
   "id": "a43dd180-469b-4fa1-a6f6-a2cae308cdeb",
   "metadata": {},
   "outputs": [
    {
     "data": {
      "text/plain": [
       "dict_values(['one', 'two', 'three'])"
      ]
     },
     "execution_count": 20,
     "metadata": {},
     "output_type": "execute_result"
    }
   ],
   "source": [
    "d.values()"
   ]
  },
  {
   "cell_type": "code",
   "execution_count": 22,
   "id": "63b8aadd-9d3c-498b-b079-4342db6d3358",
   "metadata": {},
   "outputs": [
    {
     "data": {
      "text/plain": [
       "dict_items([(1, 'one'), (2, 'two'), (3, 'three')])"
      ]
     },
     "execution_count": 22,
     "metadata": {},
     "output_type": "execute_result"
    }
   ],
   "source": [
    "d.items()"
   ]
  },
  {
   "cell_type": "code",
   "execution_count": 28,
   "id": "5218f0f5-1005-4b3b-ab02-9b008ef24109",
   "metadata": {},
   "outputs": [],
   "source": [
    "d4={1: 'one', 2: 'two', 'A': ['asif', 'john', 'Maria'],'B': ('Bat', 'cat', 'hat')} "
   ]
  },
  {
   "cell_type": "code",
   "execution_count": 30,
   "id": "3f4ca22e-fb8d-4e32-92ed-5abe4eca43be",
   "metadata": {},
   "outputs": [
    {
     "data": {
      "text/plain": [
       "{1: 'one',\n",
       " 2: 'two',\n",
       " 'A': ['asif', 'john', 'Maria'],\n",
       " 'B': ('Bat', 'cat', 'hat')}"
      ]
     },
     "execution_count": 30,
     "metadata": {},
     "output_type": "execute_result"
    }
   ],
   "source": [
    "d4"
   ]
  },
  {
   "cell_type": "code",
   "execution_count": 32,
   "id": "e31adbb1-d846-4125-ac4b-5bffaa3c0f4c",
   "metadata": {},
   "outputs": [
    {
     "data": {
      "text/plain": [
       "{'c': None, 'a': None, 'b': None, 'd': None}"
      ]
     },
     "execution_count": 32,
     "metadata": {},
     "output_type": "execute_result"
    }
   ],
   "source": [
    "keys = {'a' , 'b' , 'c' , 'd'} \n",
    "mydict3 = dict.fromkeys(keys) # Create a dictionary from a sequence of keys \n",
    "mydict3 "
   ]
  },
  {
   "cell_type": "code",
   "execution_count": 36,
   "id": "47a5bc37-b734-42ee-a384-7ff989846687",
   "metadata": {},
   "outputs": [
    {
     "data": {
      "text/plain": [
       "{'c': 10, 'a': 10, 'b': 10, 'd': 10}"
      ]
     },
     "execution_count": 36,
     "metadata": {},
     "output_type": "execute_result"
    }
   ],
   "source": [
    "values=10\n",
    "mydict3=dict.fromkeys(keys,values)\n",
    "mydict3"
   ]
  },
  {
   "cell_type": "code",
   "execution_count": 63,
   "id": "c1a851f9-c91b-4c0b-a36d-687472ccb958",
   "metadata": {},
   "outputs": [
    {
     "data": {
      "text/plain": [
       "{'m': (10, 55, 66, 85),\n",
       " 'l': (10, 55, 66, 85),\n",
       " 'o': (10, 55, 66, 85),\n",
       " 'n': (10, 55, 66, 85)}"
      ]
     },
     "execution_count": 63,
     "metadata": {},
     "output_type": "execute_result"
    }
   ],
   "source": [
    "keys={'l','m','n','o'}\n",
    "value=[10,55,66,85]\n",
    "d4=dict.fromkeys(keys,values)\n",
    "d4"
   ]
  },
  {
   "cell_type": "code",
   "execution_count": 65,
   "id": "ade03bff-8258-47f9-82fd-06a91296a4f9",
   "metadata": {},
   "outputs": [
    {
     "data": {
      "text/plain": [
       "{'m': (10, 55, 66, 85),\n",
       " 'l': (10, 55, 66, 85),\n",
       " 'o': (10, 55, 66, 85),\n",
       " 'n': (10, 55, 66, 85)}"
      ]
     },
     "execution_count": 65,
     "metadata": {},
     "output_type": "execute_result"
    }
   ],
   "source": [
    "value.append(99)\n",
    "d4"
   ]
  },
  {
   "cell_type": "code",
   "execution_count": null,
   "id": "77ea735c-bd28-4edd-9701-1280753e8a95",
   "metadata": {},
   "outputs": [],
   "source": []
  },
  {
   "cell_type": "markdown",
   "id": "93fb7d75-fa0e-4d77-8de8-6fde7c9949c5",
   "metadata": {},
   "source": [
    "# accesing items"
   ]
  },
  {
   "cell_type": "code",
   "execution_count": 68,
   "id": "a23b45e2-bfc3-4b26-b8a8-78b4451be96b",
   "metadata": {},
   "outputs": [
    {
     "data": {
      "text/plain": [
       "{1: 'one', 2: 'two', 3: 'three'}"
      ]
     },
     "execution_count": 68,
     "metadata": {},
     "output_type": "execute_result"
    }
   ],
   "source": [
    "d"
   ]
  },
  {
   "cell_type": "code",
   "execution_count": 76,
   "id": "72825abf-f375-47f5-9589-d3087af1adaa",
   "metadata": {},
   "outputs": [],
   "source": [
    "d1.clear()"
   ]
  },
  {
   "cell_type": "code",
   "execution_count": 78,
   "id": "e2f5bae8-f32c-436f-a897-8e021b0b8783",
   "metadata": {},
   "outputs": [
    {
     "data": {
      "text/plain": [
       "{}"
      ]
     },
     "execution_count": 78,
     "metadata": {},
     "output_type": "execute_result"
    }
   ],
   "source": [
    "d1"
   ]
  },
  {
   "cell_type": "code",
   "execution_count": 80,
   "id": "f1f239ec-4590-4ce5-bcc7-5ad03b71dae9",
   "metadata": {},
   "outputs": [
    {
     "data": {
      "text/plain": [
       "{'A': 'one', 'B': 'two', 'C': 'three'}"
      ]
     },
     "execution_count": 80,
     "metadata": {},
     "output_type": "execute_result"
    }
   ],
   "source": [
    "d2"
   ]
  },
  {
   "cell_type": "code",
   "execution_count": 82,
   "id": "9bacf7a5-a090-4b5b-9e97-4500208f03d6",
   "metadata": {},
   "outputs": [
    {
     "data": {
      "text/plain": [
       "{'m': (10, 55, 66, 85),\n",
       " 'l': (10, 55, 66, 85),\n",
       " 'o': (10, 55, 66, 85),\n",
       " 'n': (10, 55, 66, 85)}"
      ]
     },
     "execution_count": 82,
     "metadata": {},
     "output_type": "execute_result"
    }
   ],
   "source": [
    "d4"
   ]
  },
  {
   "cell_type": "code",
   "execution_count": 88,
   "id": "5a06c405-4321-4f0b-ac74-cabe99184dba",
   "metadata": {},
   "outputs": [
    {
     "data": {
      "text/plain": [
       "{}"
      ]
     },
     "execution_count": 88,
     "metadata": {},
     "output_type": "execute_result"
    }
   ],
   "source": [
    "d3.clear()\n",
    "d3"
   ]
  },
  {
   "cell_type": "code",
   "execution_count": 92,
   "id": "0782fbe1-5ae7-4397-852d-12ed413a9e44",
   "metadata": {},
   "outputs": [
    {
     "data": {
      "text/plain": [
       "{'c': 10, 'a': 10, 'b': 10, 'd': 10}"
      ]
     },
     "execution_count": 92,
     "metadata": {},
     "output_type": "execute_result"
    }
   ],
   "source": [
    "mydict3"
   ]
  },
  {
   "cell_type": "code",
   "execution_count": 96,
   "id": "297c44d4-aa25-457b-bdd0-c4d4bcd79100",
   "metadata": {},
   "outputs": [
    {
     "data": {
      "text/plain": [
       "{}"
      ]
     },
     "execution_count": 96,
     "metadata": {},
     "output_type": "execute_result"
    }
   ],
   "source": [
    "mydict.clear()\n",
    "mydict"
   ]
  },
  {
   "cell_type": "code",
   "execution_count": 98,
   "id": "4551be9d-e4a8-4b01-8199-3545d72a6d86",
   "metadata": {},
   "outputs": [
    {
     "data": {
      "text/plain": [
       "{1: 'one', 2: 'two', 3: 'three'}"
      ]
     },
     "execution_count": 98,
     "metadata": {},
     "output_type": "execute_result"
    }
   ],
   "source": [
    "d"
   ]
  },
  {
   "cell_type": "code",
   "execution_count": 100,
   "id": "23e42b88-4faa-49c1-8252-66d884d4a21d",
   "metadata": {},
   "outputs": [
    {
     "data": {
      "text/plain": [
       "'one'"
      ]
     },
     "execution_count": 100,
     "metadata": {},
     "output_type": "execute_result"
    }
   ],
   "source": [
    "d[1]  # Access item using key "
   ]
  },
  {
   "cell_type": "code",
   "execution_count": 102,
   "id": "71b35bd0-3436-4345-9d2b-1e70e98c0523",
   "metadata": {},
   "outputs": [
    {
     "data": {
      "text/plain": [
       "'one'"
      ]
     },
     "execution_count": 102,
     "metadata": {},
     "output_type": "execute_result"
    }
   ],
   "source": [
    "d.get(1) # Access item using get() method "
   ]
  },
  {
   "cell_type": "code",
   "execution_count": 104,
   "id": "22ebc8ca-8ddb-4190-b150-513ae819082c",
   "metadata": {},
   "outputs": [
    {
     "data": {
      "text/plain": [
       "{'Name': 'praveen', 'ID': 161773, 'DOB': 2002, 'job': 'developer'}"
      ]
     },
     "execution_count": 104,
     "metadata": {},
     "output_type": "execute_result"
    }
   ],
   "source": [
    "d6= {'Name':'praveen' , 'ID': 161773 , 'DOB': 2002 , 'job' :'developer'} \n",
    "d6 "
   ]
  },
  {
   "cell_type": "code",
   "execution_count": 108,
   "id": "8d00ffde-4bb9-4756-8562-bca6d9b308d1",
   "metadata": {},
   "outputs": [
    {
     "data": {
      "text/plain": [
       "'praveen'"
      ]
     },
     "execution_count": 108,
     "metadata": {},
     "output_type": "execute_result"
    }
   ],
   "source": [
    "d6['Name']"
   ]
  },
  {
   "cell_type": "code",
   "execution_count": 112,
   "id": "75f79068-43ef-43e9-8285-d59804635036",
   "metadata": {},
   "outputs": [
    {
     "data": {
      "text/plain": [
       "'developer'"
      ]
     },
     "execution_count": 112,
     "metadata": {},
     "output_type": "execute_result"
    }
   ],
   "source": [
    "d6.get('job')"
   ]
  },
  {
   "cell_type": "code",
   "execution_count": 114,
   "id": "d83a72f4-d1fe-450f-92a0-6950392086a3",
   "metadata": {},
   "outputs": [
    {
     "data": {
      "text/plain": [
       "{'Name': 'praveen', 'ID': 161773, 'DOB': 2002, 'job': 'developer'}"
      ]
     },
     "execution_count": 114,
     "metadata": {},
     "output_type": "execute_result"
    }
   ],
   "source": [
    "d6"
   ]
  },
  {
   "cell_type": "code",
   "execution_count": 118,
   "id": "6b7e67c8-997f-4e01-ae99-68909c606271",
   "metadata": {},
   "outputs": [
    {
     "data": {
      "text/plain": [
       "{'Name': 'praveen',\n",
       " 'ID': 161773,\n",
       " 'DOB': 2002,\n",
       " 'job': 'developer',\n",
       " 'Address': 'Vijayawada'}"
      ]
     },
     "execution_count": 118,
     "metadata": {},
     "output_type": "execute_result"
    }
   ],
   "source": [
    "d6['Address']= 'Vijayawada'  # Adding items in the dictionary\n",
    "d6"
   ]
  },
  {
   "cell_type": "code",
   "execution_count": 124,
   "id": "13112cae-1f8c-405b-a468-31b1e88f14c3",
   "metadata": {},
   "outputs": [
    {
     "data": {
      "text/plain": [
       "{'Name': 'praveen', 'ID': 161773, 'DOB': 2002, 'Address': 'Vijayawada'}"
      ]
     },
     "execution_count": 124,
     "metadata": {},
     "output_type": "execute_result"
    }
   ],
   "source": [
    "d6"
   ]
  },
  {
   "cell_type": "code",
   "execution_count": 126,
   "id": "1adf9017-9e24-436c-b40a-0714ff3bc85b",
   "metadata": {},
   "outputs": [],
   "source": [
    "d6={'Name': 'praveen',\n",
    " 'ID': 161773,\n",
    " 'DOB': 2002,\n",
    " 'job': 'developer',\n",
    " 'Address': 'Vijayawada'}"
   ]
  },
  {
   "cell_type": "code",
   "execution_count": 128,
   "id": "e5bce607-44f7-4bbd-a873-46a006d336d3",
   "metadata": {},
   "outputs": [
    {
     "data": {
      "text/plain": [
       "{'Name': 'praveen',\n",
       " 'ID': 161773,\n",
       " 'DOB': 2002,\n",
       " 'job': 'developer',\n",
       " 'Address': 'Vijayawada'}"
      ]
     },
     "execution_count": 128,
     "metadata": {},
     "output_type": "execute_result"
    }
   ],
   "source": [
    "d6"
   ]
  },
  {
   "cell_type": "code",
   "execution_count": 130,
   "id": "2387d843-1ae2-4803-a15e-244ff384e9cd",
   "metadata": {},
   "outputs": [
    {
     "data": {
      "text/plain": [
       "{'Name': 'praveen', 'ID': 161773, 'DOB': 2002, 'Address': 'Vijayawada'}"
      ]
     },
     "execution_count": 130,
     "metadata": {},
     "output_type": "execute_result"
    }
   ],
   "source": [
    "d6.pop('job') # Removing items in the dictionary using Pop method \n",
    "d6"
   ]
  },
  {
   "cell_type": "code",
   "execution_count": 132,
   "id": "805b3bf8-127d-40d9-b56c-eee615060c7a",
   "metadata": {},
   "outputs": [],
   "source": [
    "d6={'Name': 'praveen',\n",
    " 'ID': 161773,\n",
    " 'DOB': 2002,\n",
    " 'job': 'developer',\n",
    " 'Address': 'Vijayawada'}"
   ]
  },
  {
   "cell_type": "code",
   "execution_count": 134,
   "id": "8bab174b-f42a-4c18-88b8-7aa412b2790a",
   "metadata": {},
   "outputs": [
    {
     "data": {
      "text/plain": [
       "{'Name': 'praveen',\n",
       " 'ID': 161773,\n",
       " 'DOB': 2002,\n",
       " 'job': 'developer',\n",
       " 'Address': 'Vijayawada'}"
      ]
     },
     "execution_count": 134,
     "metadata": {},
     "output_type": "execute_result"
    }
   ],
   "source": [
    "d6"
   ]
  },
  {
   "cell_type": "code",
   "execution_count": 136,
   "id": "3d4dde48-16d2-4ef5-ad1e-18c43388efbf",
   "metadata": {},
   "outputs": [
    {
     "ename": "TypeError",
     "evalue": "pop expected at least 1 argument, got 0",
     "output_type": "error",
     "traceback": [
      "\u001b[1;31m---------------------------------------------------------------------------\u001b[0m",
      "\u001b[1;31mTypeError\u001b[0m                                 Traceback (most recent call last)",
      "Cell \u001b[1;32mIn[136], line 1\u001b[0m\n\u001b[1;32m----> 1\u001b[0m d6\u001b[38;5;241m.\u001b[39mpop()\n\u001b[0;32m      2\u001b[0m d6\n",
      "\u001b[1;31mTypeError\u001b[0m: pop expected at least 1 argument, got 0"
     ]
    }
   ],
   "source": [
    "d6.pop()\n",
    "d6"
   ]
  },
  {
   "cell_type": "code",
   "execution_count": 138,
   "id": "39a1d806-f5cd-462e-be37-a5abfcdd9112",
   "metadata": {},
   "outputs": [
    {
     "data": {
      "text/plain": [
       "{'Name': 'praveen', 'ID': 161773, 'DOB': 2002, 'job': 'developer'}"
      ]
     },
     "execution_count": 138,
     "metadata": {},
     "output_type": "execute_result"
    }
   ],
   "source": [
    "d6.popitem()\n",
    "d6"
   ]
  },
  {
   "cell_type": "code",
   "execution_count": 140,
   "id": "348ce655-d05f-4aa6-9d14-d07c67b14890",
   "metadata": {},
   "outputs": [
    {
     "data": {
      "text/plain": [
       "{'Name': 'praveen', 'DOB': 2002, 'job': 'developer'}"
      ]
     },
     "execution_count": 140,
     "metadata": {},
     "output_type": "execute_result"
    }
   ],
   "source": [
    "del[d6['ID']]   # Removing item using del method\n",
    "d6"
   ]
  },
  {
   "cell_type": "code",
   "execution_count": 142,
   "id": "ebf3e2ac-1c28-4bf2-b34c-3b0fbfd08b50",
   "metadata": {},
   "outputs": [
    {
     "data": {
      "text/plain": [
       "{}"
      ]
     },
     "execution_count": 142,
     "metadata": {},
     "output_type": "execute_result"
    }
   ],
   "source": [
    "d6.clear()  # Delete all items of the dictionary using clear method\n",
    "d6"
   ]
  },
  {
   "cell_type": "code",
   "execution_count": 146,
   "id": "9114c68f-af6f-40b2-a3c2-410169208f35",
   "metadata": {},
   "outputs": [
    {
     "ename": "NameError",
     "evalue": "name 'd6' is not defined",
     "output_type": "error",
     "traceback": [
      "\u001b[1;31m---------------------------------------------------------------------------\u001b[0m",
      "\u001b[1;31mNameError\u001b[0m                                 Traceback (most recent call last)",
      "Cell \u001b[1;32mIn[146], line 2\u001b[0m\n\u001b[0;32m      1\u001b[0m \u001b[38;5;28;01mdel\u001b[39;00m d6\n\u001b[1;32m----> 2\u001b[0m d6\n",
      "\u001b[1;31mNameError\u001b[0m: name 'd6' is not defined"
     ]
    }
   ],
   "source": [
    "del d6\n",
    "d6"
   ]
  },
  {
   "cell_type": "code",
   "execution_count": null,
   "id": "46933dae-2487-4782-9438-3b957faa2a45",
   "metadata": {},
   "outputs": [],
   "source": []
  },
  {
   "cell_type": "markdown",
   "id": "07517f16-742d-475f-9864-8c424221962f",
   "metadata": {},
   "source": [
    "# Copy Dictionary"
   ]
  },
  {
   "cell_type": "code",
   "execution_count": 162,
   "id": "3ee6e25c-3748-435d-b614-cb6eb7cc90cb",
   "metadata": {},
   "outputs": [
    {
     "data": {
      "text/plain": [
       "{'Name': 'praveen',\n",
       " 'ID': 161773,\n",
       " 'DOB': 2002,\n",
       " 'job': 'developer',\n",
       " 'Address': 'Vijayawada'}"
      ]
     },
     "execution_count": 162,
     "metadata": {},
     "output_type": "execute_result"
    }
   ],
   "source": [
    "d6={'Name': 'praveen',\n",
    " 'ID': 161773,\n",
    " 'DOB': 2002,\n",
    " 'job': 'developer',\n",
    " 'Address': 'Vijayawada'}\n",
    "d6"
   ]
  },
  {
   "cell_type": "code",
   "execution_count": 164,
   "id": "72e69418-505c-4186-9a05-ca92d3cf7e2a",
   "metadata": {},
   "outputs": [
    {
     "ename": "NameError",
     "evalue": "name 'd7' is not defined",
     "output_type": "error",
     "traceback": [
      "\u001b[1;31m---------------------------------------------------------------------------\u001b[0m",
      "\u001b[1;31mNameError\u001b[0m                                 Traceback (most recent call last)",
      "Cell \u001b[1;32mIn[164], line 1\u001b[0m\n\u001b[1;32m----> 1\u001b[0m d6\u001b[38;5;241m=\u001b[39md7\n",
      "\u001b[1;31mNameError\u001b[0m: name 'd7' is not defined"
     ]
    }
   ],
   "source": [
    "d6=d7"
   ]
  },
  {
   "cell_type": "code",
   "execution_count": 166,
   "id": "adb7cbba-3c68-425c-b136-7b66d1130ae6",
   "metadata": {},
   "outputs": [],
   "source": [
    "d7={}"
   ]
  },
  {
   "cell_type": "code",
   "execution_count": 170,
   "id": "ecf0d40d-653e-4b0c-a6ab-39cebbd1257f",
   "metadata": {},
   "outputs": [],
   "source": [
    "d6 =d7"
   ]
  },
  {
   "cell_type": "code",
   "execution_count": 176,
   "id": "52602efb-a201-47f9-b100-72b0119d0ec7",
   "metadata": {},
   "outputs": [],
   "source": [
    "d6={'Name': 'praveen',\n",
    " 'ID': 161773,\n",
    " 'DOB': 2002,\n",
    " 'job': 'developer',\n",
    " 'Address': 'Vijayawada'}"
   ]
  },
  {
   "cell_type": "code",
   "execution_count": 178,
   "id": "085c29e4-d8d6-452b-b3bb-97fa28efd244",
   "metadata": {},
   "outputs": [
    {
     "data": {
      "text/plain": [
       "{'Name': 'praveen',\n",
       " 'ID': 161773,\n",
       " 'DOB': 2002,\n",
       " 'job': 'developer',\n",
       " 'Address': 'Vijayawada'}"
      ]
     },
     "execution_count": 178,
     "metadata": {},
     "output_type": "execute_result"
    }
   ],
   "source": [
    "d6"
   ]
  },
  {
   "cell_type": "code",
   "execution_count": 180,
   "id": "20babe16-28ac-43bf-84b8-1a1a15253018",
   "metadata": {},
   "outputs": [],
   "source": [
    "d7=d6"
   ]
  },
  {
   "cell_type": "code",
   "execution_count": 182,
   "id": "d89d0e3e-1f74-4582-aa58-7def4ba3ccfe",
   "metadata": {},
   "outputs": [
    {
     "data": {
      "text/plain": [
       "(2626249760896, 2626249760896)"
      ]
     },
     "execution_count": 182,
     "metadata": {},
     "output_type": "execute_result"
    }
   ],
   "source": [
    "id(d7),id(d6)"
   ]
  },
  {
   "cell_type": "code",
   "execution_count": 184,
   "id": "0a4ec6f0-b981-4ae2-8f53-efb34dfb5be6",
   "metadata": {},
   "outputs": [
    {
     "data": {
      "text/plain": [
       "{'Name': 'praveen',\n",
       " 'ID': 161773,\n",
       " 'DOB': 2002,\n",
       " 'job': 'developer',\n",
       " 'Address': 'Vijayawada'}"
      ]
     },
     "execution_count": 184,
     "metadata": {},
     "output_type": "execute_result"
    }
   ],
   "source": [
    "d8=d6.copy()\n",
    "d8"
   ]
  },
  {
   "cell_type": "code",
   "execution_count": 188,
   "id": "218eace5-f607-41a5-8b36-654472762c29",
   "metadata": {},
   "outputs": [
    {
     "data": {
      "text/plain": [
       "{'Name': 'praveen',\n",
       " 'ID': 161773,\n",
       " 'DOB': 2002,\n",
       " 'job': 'developer',\n",
       " 'Address': 'GUNTUR'}"
      ]
     },
     "execution_count": 188,
     "metadata": {},
     "output_type": "execute_result"
    }
   ],
   "source": [
    "d6['Address']='GUNTUR'\n",
    "d6"
   ]
  },
  {
   "cell_type": "code",
   "execution_count": 191,
   "id": "ce440ed4-e4c5-47fe-9928-9e3ab381106c",
   "metadata": {},
   "outputs": [
    {
     "data": {
      "text/plain": [
       "{'Name': 'praveen',\n",
       " 'ID': 161773,\n",
       " 'DOB': 2002,\n",
       " 'job': 'developer',\n",
       " 'Address': 'GUNTUR'}"
      ]
     },
     "execution_count": 191,
     "metadata": {},
     "output_type": "execute_result"
    }
   ],
   "source": [
    "d7  # mydict1 will be also impacted as it is pointing to the same dictionary "
   ]
  },
  {
   "cell_type": "code",
   "execution_count": 193,
   "id": "a6e8f6d3-f290-4468-977e-41a08e851b94",
   "metadata": {},
   "outputs": [
    {
     "data": {
      "text/plain": [
       "{'Name': 'praveen',\n",
       " 'ID': 161773,\n",
       " 'DOB': 2002,\n",
       " 'job': 'developer',\n",
       " 'Address': 'Vijayawada'}"
      ]
     },
     "execution_count": 193,
     "metadata": {},
     "output_type": "execute_result"
    }
   ],
   "source": [
    "d8   # Copy of list won't be impacted due to the changes made in the original"
   ]
  },
  {
   "cell_type": "code",
   "execution_count": null,
   "id": "ea19ee84-e185-4f40-9c78-4a0ef135dc88",
   "metadata": {},
   "outputs": [],
   "source": []
  },
  {
   "cell_type": "markdown",
   "id": "5b472ede-c0ca-4225-b4b0-44aa25a4a078",
   "metadata": {},
   "source": [
    "# LOOP THROUGH A DICTIONARY"
   ]
  },
  {
   "cell_type": "code",
   "execution_count": 199,
   "id": "0e1bfee8-b85c-432d-9b65-9144ad1f6331",
   "metadata": {},
   "outputs": [
    {
     "data": {
      "text/plain": [
       "{'Name': 'praveen',\n",
       " 'ID': 161773,\n",
       " 'DOB': 2002,\n",
       " 'job': 'developer',\n",
       " 'Address': 'GUNTUR'}"
      ]
     },
     "execution_count": 199,
     "metadata": {},
     "output_type": "execute_result"
    }
   ],
   "source": [
    "d6"
   ]
  },
  {
   "cell_type": "code",
   "execution_count": 203,
   "id": "ce50fbcf-0b2f-4aba-a259-f4d0dff15543",
   "metadata": {},
   "outputs": [
    {
     "name": "stdout",
     "output_type": "stream",
     "text": [
      "Name : praveen\n",
      "ID : 161773\n",
      "DOB : 2002\n",
      "job : developer\n",
      "Address : GUNTUR\n"
     ]
    }
   ],
   "source": [
    "for i in d6:\n",
    "    print(i,':',d6[i])"
   ]
  },
  {
   "cell_type": "code",
   "execution_count": 207,
   "id": "dba5311e-d5b1-4ba0-a903-22182291510b",
   "metadata": {},
   "outputs": [
    {
     "name": "stdout",
     "output_type": "stream",
     "text": [
      "praveen\n",
      "161773\n",
      "2002\n",
      "developer\n",
      "GUNTUR\n"
     ]
    }
   ],
   "source": [
    "for i in d6:\n",
    "    print(d6[i])"
   ]
  },
  {
   "cell_type": "code",
   "execution_count": null,
   "id": "48decf55-11a7-4e39-9bd7-80ec198378b8",
   "metadata": {},
   "outputs": [],
   "source": []
  },
  {
   "cell_type": "markdown",
   "id": "e338c84d-3ccc-4318-8b6f-4c68b6571c1e",
   "metadata": {},
   "source": [
    "# DICTIONARY MEMBERSHIP"
   ]
  },
  {
   "cell_type": "code",
   "execution_count": 216,
   "id": "0d1ec11a-fc65-40e7-a0ae-486f299d1797",
   "metadata": {},
   "outputs": [
    {
     "data": {
      "text/plain": [
       "{'Name': 'praveen',\n",
       " 'ID': 161773,\n",
       " 'DOB': 2002,\n",
       " 'job': 'developer',\n",
       " 'Address': 'GUNTUR'}"
      ]
     },
     "execution_count": 216,
     "metadata": {},
     "output_type": "execute_result"
    }
   ],
   "source": [
    "d6"
   ]
  },
  {
   "cell_type": "code",
   "execution_count": 218,
   "id": "d3bb7f89-4106-4dbc-a17c-57967a955d67",
   "metadata": {},
   "outputs": [
    {
     "data": {
      "text/plain": [
       "True"
      ]
     },
     "execution_count": 218,
     "metadata": {},
     "output_type": "execute_result"
    }
   ],
   "source": [
    "'Name' in d6   # Test if a key is in a dictionary or not. "
   ]
  },
  {
   "cell_type": "code",
   "execution_count": 220,
   "id": "e1f2af7c-f2f2-4962-adfc-c3cf579c9685",
   "metadata": {},
   "outputs": [
    {
     "data": {
      "text/plain": [
       "False"
      ]
     },
     "execution_count": 220,
     "metadata": {},
     "output_type": "execute_result"
    }
   ],
   "source": [
    "'praveen' in d6   # Membership test can be only done for keys."
   ]
  },
  {
   "cell_type": "code",
   "execution_count": 222,
   "id": "1f403ebd-03aa-4e83-ba13-0f2692d48882",
   "metadata": {},
   "outputs": [
    {
     "data": {
      "text/plain": [
       "True"
      ]
     },
     "execution_count": 222,
     "metadata": {},
     "output_type": "execute_result"
    }
   ],
   "source": [
    "'ID' in d6"
   ]
  },
  {
   "cell_type": "code",
   "execution_count": 224,
   "id": "35521107-71a6-4287-bfad-5e9a8639f6cf",
   "metadata": {},
   "outputs": [
    {
     "data": {
      "text/plain": [
       "False"
      ]
     },
     "execution_count": 224,
     "metadata": {},
     "output_type": "execute_result"
    }
   ],
   "source": [
    "'Job' in d6"
   ]
  },
  {
   "cell_type": "code",
   "execution_count": 226,
   "id": "8b37d0da-31f2-47b9-99d3-2b62ec8059df",
   "metadata": {},
   "outputs": [
    {
     "data": {
      "text/plain": [
       "True"
      ]
     },
     "execution_count": 226,
     "metadata": {},
     "output_type": "execute_result"
    }
   ],
   "source": [
    "'DOB' in d6"
   ]
  },
  {
   "cell_type": "code",
   "execution_count": null,
   "id": "d257077c-c39b-4114-aedd-caa4351b2b9c",
   "metadata": {},
   "outputs": [],
   "source": []
  }
 ],
 "metadata": {
  "kernelspec": {
   "display_name": "Python [conda env:base] *",
   "language": "python",
   "name": "conda-base-py"
  },
  "language_info": {
   "codemirror_mode": {
    "name": "ipython",
    "version": 3
   },
   "file_extension": ".py",
   "mimetype": "text/x-python",
   "name": "python",
   "nbconvert_exporter": "python",
   "pygments_lexer": "ipython3",
   "version": "3.12.7"
  }
 },
 "nbformat": 4,
 "nbformat_minor": 5
}
